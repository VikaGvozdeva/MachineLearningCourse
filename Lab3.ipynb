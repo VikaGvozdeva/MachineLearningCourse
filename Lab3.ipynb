{
 "cells": [
  {
   "cell_type": "code",
   "execution_count": 1,
   "metadata": {},
   "outputs": [],
   "source": [
    "import numpy as np\n",
    "import matplotlib.pyplot as plt\n",
    "import pandas as pd\n",
    "%matplotlib inline"
   ]
  },
  {
   "cell_type": "markdown",
   "metadata": {},
   "source": [
    "## Данные\n",
    "### Это набор данных основывается на отзывах клиентов, написанных о женской одежде. Благодаря наличию в данном датасете информации по 9 категориям он представяет собой отличную среду для анализа текста через его многочисленные измерения. Поскольку это реальные коммерческие данные, то опрос был анонимным, а ссылки на упоминания компаний были заменены на «розничный продавец»."
   ]
  },
  {
   "cell_type": "code",
   "execution_count": 2,
   "metadata": {},
   "outputs": [],
   "source": [
    "data = pd.read_csv('./Womens_Clothing_E-Commerce_Reviews.csv', sep = ',', engine = 'python')"
   ]
  },
  {
   "cell_type": "code",
   "execution_count": 3,
   "metadata": {},
   "outputs": [
    {
     "data": {
      "text/plain": [
       "pandas.core.frame.DataFrame"
      ]
     },
     "execution_count": 3,
     "metadata": {},
     "output_type": "execute_result"
    }
   ],
   "source": [
    "type(data)"
   ]
  },
  {
   "cell_type": "code",
   "execution_count": 4,
   "metadata": {},
   "outputs": [
    {
     "data": {
      "text/html": [
       "<div>\n",
       "<style scoped>\n",
       "    .dataframe tbody tr th:only-of-type {\n",
       "        vertical-align: middle;\n",
       "    }\n",
       "\n",
       "    .dataframe tbody tr th {\n",
       "        vertical-align: top;\n",
       "    }\n",
       "\n",
       "    .dataframe thead th {\n",
       "        text-align: right;\n",
       "    }\n",
       "</style>\n",
       "<table border=\"1\" class=\"dataframe\">\n",
       "  <thead>\n",
       "    <tr style=\"text-align: right;\">\n",
       "      <th></th>\n",
       "      <th>Unnamed: 0</th>\n",
       "      <th>Clothing ID</th>\n",
       "      <th>Age</th>\n",
       "      <th>Title</th>\n",
       "      <th>Review Text</th>\n",
       "      <th>Rating</th>\n",
       "      <th>Recommended IND</th>\n",
       "      <th>Positive Feedback Count</th>\n",
       "      <th>Division Name</th>\n",
       "      <th>Department Name</th>\n",
       "      <th>Class Name</th>\n",
       "    </tr>\n",
       "  </thead>\n",
       "  <tbody>\n",
       "    <tr>\n",
       "      <th>0</th>\n",
       "      <td>0</td>\n",
       "      <td>767</td>\n",
       "      <td>33</td>\n",
       "      <td>NaN</td>\n",
       "      <td>Absolutely wonderful - silky and sexy and comf...</td>\n",
       "      <td>4</td>\n",
       "      <td>1</td>\n",
       "      <td>0</td>\n",
       "      <td>Initmates</td>\n",
       "      <td>Intimate</td>\n",
       "      <td>Intimates</td>\n",
       "    </tr>\n",
       "    <tr>\n",
       "      <th>1</th>\n",
       "      <td>1</td>\n",
       "      <td>1080</td>\n",
       "      <td>34</td>\n",
       "      <td>NaN</td>\n",
       "      <td>Love this dress!  it's sooo pretty.  i happene...</td>\n",
       "      <td>5</td>\n",
       "      <td>1</td>\n",
       "      <td>4</td>\n",
       "      <td>General</td>\n",
       "      <td>Dresses</td>\n",
       "      <td>Dresses</td>\n",
       "    </tr>\n",
       "    <tr>\n",
       "      <th>2</th>\n",
       "      <td>2</td>\n",
       "      <td>1077</td>\n",
       "      <td>60</td>\n",
       "      <td>Some major design flaws</td>\n",
       "      <td>I had such high hopes for this dress and reall...</td>\n",
       "      <td>3</td>\n",
       "      <td>0</td>\n",
       "      <td>0</td>\n",
       "      <td>General</td>\n",
       "      <td>Dresses</td>\n",
       "      <td>Dresses</td>\n",
       "    </tr>\n",
       "    <tr>\n",
       "      <th>3</th>\n",
       "      <td>3</td>\n",
       "      <td>1049</td>\n",
       "      <td>50</td>\n",
       "      <td>My favorite buy!</td>\n",
       "      <td>I love, love, love this jumpsuit. it's fun, fl...</td>\n",
       "      <td>5</td>\n",
       "      <td>1</td>\n",
       "      <td>0</td>\n",
       "      <td>General Petite</td>\n",
       "      <td>Bottoms</td>\n",
       "      <td>Pants</td>\n",
       "    </tr>\n",
       "    <tr>\n",
       "      <th>4</th>\n",
       "      <td>4</td>\n",
       "      <td>847</td>\n",
       "      <td>47</td>\n",
       "      <td>Flattering shirt</td>\n",
       "      <td>This shirt is very flattering to all due to th...</td>\n",
       "      <td>5</td>\n",
       "      <td>1</td>\n",
       "      <td>6</td>\n",
       "      <td>General</td>\n",
       "      <td>Tops</td>\n",
       "      <td>Blouses</td>\n",
       "    </tr>\n",
       "    <tr>\n",
       "      <th>5</th>\n",
       "      <td>5</td>\n",
       "      <td>1080</td>\n",
       "      <td>49</td>\n",
       "      <td>Not for the very petite</td>\n",
       "      <td>I love tracy reese dresses, but this one is no...</td>\n",
       "      <td>2</td>\n",
       "      <td>0</td>\n",
       "      <td>4</td>\n",
       "      <td>General</td>\n",
       "      <td>Dresses</td>\n",
       "      <td>Dresses</td>\n",
       "    </tr>\n",
       "    <tr>\n",
       "      <th>6</th>\n",
       "      <td>6</td>\n",
       "      <td>858</td>\n",
       "      <td>39</td>\n",
       "      <td>Cagrcoal shimmer fun</td>\n",
       "      <td>I aded this in my basket at hte last mintue to...</td>\n",
       "      <td>5</td>\n",
       "      <td>1</td>\n",
       "      <td>1</td>\n",
       "      <td>General Petite</td>\n",
       "      <td>Tops</td>\n",
       "      <td>Knits</td>\n",
       "    </tr>\n",
       "    <tr>\n",
       "      <th>7</th>\n",
       "      <td>7</td>\n",
       "      <td>858</td>\n",
       "      <td>39</td>\n",
       "      <td>Shimmer, surprisingly goes with lots</td>\n",
       "      <td>I ordered this in carbon for store pick up, an...</td>\n",
       "      <td>4</td>\n",
       "      <td>1</td>\n",
       "      <td>4</td>\n",
       "      <td>General Petite</td>\n",
       "      <td>Tops</td>\n",
       "      <td>Knits</td>\n",
       "    </tr>\n",
       "    <tr>\n",
       "      <th>8</th>\n",
       "      <td>8</td>\n",
       "      <td>1077</td>\n",
       "      <td>24</td>\n",
       "      <td>Flattering</td>\n",
       "      <td>I love this dress. i usually get an xs but it ...</td>\n",
       "      <td>5</td>\n",
       "      <td>1</td>\n",
       "      <td>0</td>\n",
       "      <td>General</td>\n",
       "      <td>Dresses</td>\n",
       "      <td>Dresses</td>\n",
       "    </tr>\n",
       "    <tr>\n",
       "      <th>9</th>\n",
       "      <td>9</td>\n",
       "      <td>1077</td>\n",
       "      <td>34</td>\n",
       "      <td>Such a fun dress!</td>\n",
       "      <td>I'm 5\"5' and 125 lbs. i ordered the s petite t...</td>\n",
       "      <td>5</td>\n",
       "      <td>1</td>\n",
       "      <td>0</td>\n",
       "      <td>General</td>\n",
       "      <td>Dresses</td>\n",
       "      <td>Dresses</td>\n",
       "    </tr>\n",
       "    <tr>\n",
       "      <th>10</th>\n",
       "      <td>10</td>\n",
       "      <td>1077</td>\n",
       "      <td>53</td>\n",
       "      <td>Dress looks like it's made of cheap material</td>\n",
       "      <td>Dress runs small esp where the zipper area run...</td>\n",
       "      <td>3</td>\n",
       "      <td>0</td>\n",
       "      <td>14</td>\n",
       "      <td>General</td>\n",
       "      <td>Dresses</td>\n",
       "      <td>Dresses</td>\n",
       "    </tr>\n",
       "    <tr>\n",
       "      <th>11</th>\n",
       "      <td>11</td>\n",
       "      <td>1095</td>\n",
       "      <td>39</td>\n",
       "      <td>NaN</td>\n",
       "      <td>This dress is perfection! so pretty and flatte...</td>\n",
       "      <td>5</td>\n",
       "      <td>1</td>\n",
       "      <td>2</td>\n",
       "      <td>General Petite</td>\n",
       "      <td>Dresses</td>\n",
       "      <td>Dresses</td>\n",
       "    </tr>\n",
       "    <tr>\n",
       "      <th>12</th>\n",
       "      <td>12</td>\n",
       "      <td>1095</td>\n",
       "      <td>53</td>\n",
       "      <td>Perfect!!!</td>\n",
       "      <td>More and more i find myself reliant on the rev...</td>\n",
       "      <td>5</td>\n",
       "      <td>1</td>\n",
       "      <td>2</td>\n",
       "      <td>General Petite</td>\n",
       "      <td>Dresses</td>\n",
       "      <td>Dresses</td>\n",
       "    </tr>\n",
       "    <tr>\n",
       "      <th>13</th>\n",
       "      <td>13</td>\n",
       "      <td>767</td>\n",
       "      <td>44</td>\n",
       "      <td>Runs big</td>\n",
       "      <td>Bought the black xs to go under the larkspur m...</td>\n",
       "      <td>5</td>\n",
       "      <td>1</td>\n",
       "      <td>0</td>\n",
       "      <td>Initmates</td>\n",
       "      <td>Intimate</td>\n",
       "      <td>Intimates</td>\n",
       "    </tr>\n",
       "    <tr>\n",
       "      <th>14</th>\n",
       "      <td>14</td>\n",
       "      <td>1077</td>\n",
       "      <td>50</td>\n",
       "      <td>Pretty party dress with some issues</td>\n",
       "      <td>This is a nice choice for holiday gatherings. ...</td>\n",
       "      <td>3</td>\n",
       "      <td>1</td>\n",
       "      <td>1</td>\n",
       "      <td>General</td>\n",
       "      <td>Dresses</td>\n",
       "      <td>Dresses</td>\n",
       "    </tr>\n",
       "    <tr>\n",
       "      <th>15</th>\n",
       "      <td>15</td>\n",
       "      <td>1065</td>\n",
       "      <td>47</td>\n",
       "      <td>Nice, but not for my body</td>\n",
       "      <td>I took these out of the package and wanted the...</td>\n",
       "      <td>4</td>\n",
       "      <td>1</td>\n",
       "      <td>3</td>\n",
       "      <td>General</td>\n",
       "      <td>Bottoms</td>\n",
       "      <td>Pants</td>\n",
       "    </tr>\n",
       "    <tr>\n",
       "      <th>16</th>\n",
       "      <td>16</td>\n",
       "      <td>1065</td>\n",
       "      <td>34</td>\n",
       "      <td>You need to be at least average height, or taller</td>\n",
       "      <td>Material and color is nice.  the leg opening i...</td>\n",
       "      <td>3</td>\n",
       "      <td>1</td>\n",
       "      <td>2</td>\n",
       "      <td>General</td>\n",
       "      <td>Bottoms</td>\n",
       "      <td>Pants</td>\n",
       "    </tr>\n",
       "    <tr>\n",
       "      <th>17</th>\n",
       "      <td>17</td>\n",
       "      <td>853</td>\n",
       "      <td>41</td>\n",
       "      <td>Looks great with white pants</td>\n",
       "      <td>Took a chance on this blouse and so glad i did...</td>\n",
       "      <td>5</td>\n",
       "      <td>1</td>\n",
       "      <td>0</td>\n",
       "      <td>General</td>\n",
       "      <td>Tops</td>\n",
       "      <td>Blouses</td>\n",
       "    </tr>\n",
       "    <tr>\n",
       "      <th>18</th>\n",
       "      <td>18</td>\n",
       "      <td>1120</td>\n",
       "      <td>32</td>\n",
       "      <td>Super cute and cozy</td>\n",
       "      <td>A flattering, super cozy coat.  will work well...</td>\n",
       "      <td>5</td>\n",
       "      <td>1</td>\n",
       "      <td>0</td>\n",
       "      <td>General</td>\n",
       "      <td>Jackets</td>\n",
       "      <td>Outerwear</td>\n",
       "    </tr>\n",
       "    <tr>\n",
       "      <th>19</th>\n",
       "      <td>19</td>\n",
       "      <td>1077</td>\n",
       "      <td>47</td>\n",
       "      <td>Stylish and comfortable</td>\n",
       "      <td>I love the look and feel of this tulle dress. ...</td>\n",
       "      <td>5</td>\n",
       "      <td>1</td>\n",
       "      <td>0</td>\n",
       "      <td>General</td>\n",
       "      <td>Dresses</td>\n",
       "      <td>Dresses</td>\n",
       "    </tr>\n",
       "    <tr>\n",
       "      <th>20</th>\n",
       "      <td>20</td>\n",
       "      <td>847</td>\n",
       "      <td>33</td>\n",
       "      <td>Cute, crisp shirt</td>\n",
       "      <td>If this product was in petite, i would get the...</td>\n",
       "      <td>4</td>\n",
       "      <td>1</td>\n",
       "      <td>2</td>\n",
       "      <td>General</td>\n",
       "      <td>Tops</td>\n",
       "      <td>Blouses</td>\n",
       "    </tr>\n",
       "    <tr>\n",
       "      <th>21</th>\n",
       "      <td>21</td>\n",
       "      <td>1080</td>\n",
       "      <td>55</td>\n",
       "      <td>I'm torn!</td>\n",
       "      <td>I'm upset because for the price of the dress, ...</td>\n",
       "      <td>4</td>\n",
       "      <td>1</td>\n",
       "      <td>14</td>\n",
       "      <td>General</td>\n",
       "      <td>Dresses</td>\n",
       "      <td>Dresses</td>\n",
       "    </tr>\n",
       "    <tr>\n",
       "      <th>22</th>\n",
       "      <td>22</td>\n",
       "      <td>1077</td>\n",
       "      <td>31</td>\n",
       "      <td>Not what it looks like</td>\n",
       "      <td>First of all, this is not pullover styling. th...</td>\n",
       "      <td>2</td>\n",
       "      <td>0</td>\n",
       "      <td>7</td>\n",
       "      <td>General</td>\n",
       "      <td>Dresses</td>\n",
       "      <td>Dresses</td>\n",
       "    </tr>\n",
       "    <tr>\n",
       "      <th>23</th>\n",
       "      <td>23</td>\n",
       "      <td>1077</td>\n",
       "      <td>34</td>\n",
       "      <td>Like it, but don't love it.</td>\n",
       "      <td>Cute little dress fits tts. it is a little hig...</td>\n",
       "      <td>3</td>\n",
       "      <td>1</td>\n",
       "      <td>0</td>\n",
       "      <td>General</td>\n",
       "      <td>Dresses</td>\n",
       "      <td>Dresses</td>\n",
       "    </tr>\n",
       "    <tr>\n",
       "      <th>24</th>\n",
       "      <td>24</td>\n",
       "      <td>847</td>\n",
       "      <td>55</td>\n",
       "      <td>Versatile</td>\n",
       "      <td>I love this shirt because when i first saw it,...</td>\n",
       "      <td>5</td>\n",
       "      <td>1</td>\n",
       "      <td>0</td>\n",
       "      <td>General</td>\n",
       "      <td>Tops</td>\n",
       "      <td>Blouses</td>\n",
       "    </tr>\n",
       "    <tr>\n",
       "      <th>25</th>\n",
       "      <td>25</td>\n",
       "      <td>697</td>\n",
       "      <td>31</td>\n",
       "      <td>Falls flat</td>\n",
       "      <td>Loved the material, but i didnt really look at...</td>\n",
       "      <td>3</td>\n",
       "      <td>0</td>\n",
       "      <td>0</td>\n",
       "      <td>Initmates</td>\n",
       "      <td>Intimate</td>\n",
       "      <td>Lounge</td>\n",
       "    </tr>\n",
       "    <tr>\n",
       "      <th>26</th>\n",
       "      <td>26</td>\n",
       "      <td>949</td>\n",
       "      <td>33</td>\n",
       "      <td>Huge disappointment</td>\n",
       "      <td>I have been waiting for this sweater coat to s...</td>\n",
       "      <td>2</td>\n",
       "      <td>0</td>\n",
       "      <td>0</td>\n",
       "      <td>General</td>\n",
       "      <td>Tops</td>\n",
       "      <td>Sweaters</td>\n",
       "    </tr>\n",
       "    <tr>\n",
       "      <th>27</th>\n",
       "      <td>27</td>\n",
       "      <td>1003</td>\n",
       "      <td>31</td>\n",
       "      <td>Loved, but returned</td>\n",
       "      <td>The colors weren't what i expected either. the...</td>\n",
       "      <td>4</td>\n",
       "      <td>1</td>\n",
       "      <td>0</td>\n",
       "      <td>General</td>\n",
       "      <td>Bottoms</td>\n",
       "      <td>Skirts</td>\n",
       "    </tr>\n",
       "    <tr>\n",
       "      <th>28</th>\n",
       "      <td>28</td>\n",
       "      <td>684</td>\n",
       "      <td>53</td>\n",
       "      <td>Great shirt!!!</td>\n",
       "      <td>I have several of goodhyouman shirts and i get...</td>\n",
       "      <td>5</td>\n",
       "      <td>1</td>\n",
       "      <td>2</td>\n",
       "      <td>Initmates</td>\n",
       "      <td>Intimate</td>\n",
       "      <td>Lounge</td>\n",
       "    </tr>\n",
       "    <tr>\n",
       "      <th>29</th>\n",
       "      <td>29</td>\n",
       "      <td>4</td>\n",
       "      <td>28</td>\n",
       "      <td>Great layering piece</td>\n",
       "      <td>This sweater is so comfy and classic - it bala...</td>\n",
       "      <td>5</td>\n",
       "      <td>1</td>\n",
       "      <td>0</td>\n",
       "      <td>General</td>\n",
       "      <td>Tops</td>\n",
       "      <td>Sweaters</td>\n",
       "    </tr>\n",
       "    <tr>\n",
       "      <th>...</th>\n",
       "      <td>...</td>\n",
       "      <td>...</td>\n",
       "      <td>...</td>\n",
       "      <td>...</td>\n",
       "      <td>...</td>\n",
       "      <td>...</td>\n",
       "      <td>...</td>\n",
       "      <td>...</td>\n",
       "      <td>...</td>\n",
       "      <td>...</td>\n",
       "      <td>...</td>\n",
       "    </tr>\n",
       "    <tr>\n",
       "      <th>23456</th>\n",
       "      <td>23456</td>\n",
       "      <td>1104</td>\n",
       "      <td>35</td>\n",
       "      <td>Flattering and lovely sweater dress</td>\n",
       "      <td>I have been on a search for a dress with sleev...</td>\n",
       "      <td>5</td>\n",
       "      <td>1</td>\n",
       "      <td>3</td>\n",
       "      <td>General Petite</td>\n",
       "      <td>Dresses</td>\n",
       "      <td>Dresses</td>\n",
       "    </tr>\n",
       "    <tr>\n",
       "      <th>23457</th>\n",
       "      <td>23457</td>\n",
       "      <td>262</td>\n",
       "      <td>49</td>\n",
       "      <td>Adorable</td>\n",
       "      <td>These pants are soft, fun print and comfy. the...</td>\n",
       "      <td>5</td>\n",
       "      <td>1</td>\n",
       "      <td>3</td>\n",
       "      <td>General Petite</td>\n",
       "      <td>Intimate</td>\n",
       "      <td>Lounge</td>\n",
       "    </tr>\n",
       "    <tr>\n",
       "      <th>23458</th>\n",
       "      <td>23458</td>\n",
       "      <td>862</td>\n",
       "      <td>63</td>\n",
       "      <td>NaN</td>\n",
       "      <td>This is my new favorite sweater. it is lightwe...</td>\n",
       "      <td>5</td>\n",
       "      <td>1</td>\n",
       "      <td>0</td>\n",
       "      <td>General Petite</td>\n",
       "      <td>Tops</td>\n",
       "      <td>Knits</td>\n",
       "    </tr>\n",
       "    <tr>\n",
       "      <th>23459</th>\n",
       "      <td>23459</td>\n",
       "      <td>1094</td>\n",
       "      <td>57</td>\n",
       "      <td>Perfect except slip</td>\n",
       "      <td>This is my new favorite dress! my only complai...</td>\n",
       "      <td>4</td>\n",
       "      <td>1</td>\n",
       "      <td>3</td>\n",
       "      <td>General Petite</td>\n",
       "      <td>Dresses</td>\n",
       "      <td>Dresses</td>\n",
       "    </tr>\n",
       "    <tr>\n",
       "      <th>23460</th>\n",
       "      <td>23460</td>\n",
       "      <td>1078</td>\n",
       "      <td>34</td>\n",
       "      <td>Such high hopes!</td>\n",
       "      <td>I purchased this for a very good price and i t...</td>\n",
       "      <td>3</td>\n",
       "      <td>0</td>\n",
       "      <td>0</td>\n",
       "      <td>General</td>\n",
       "      <td>Dresses</td>\n",
       "      <td>Dresses</td>\n",
       "    </tr>\n",
       "    <tr>\n",
       "      <th>23461</th>\n",
       "      <td>23461</td>\n",
       "      <td>262</td>\n",
       "      <td>49</td>\n",
       "      <td>Comfortable but not super-flattering on me</td>\n",
       "      <td>I tried these on at the store and the fit was ...</td>\n",
       "      <td>4</td>\n",
       "      <td>1</td>\n",
       "      <td>1</td>\n",
       "      <td>General Petite</td>\n",
       "      <td>Intimate</td>\n",
       "      <td>Lounge</td>\n",
       "    </tr>\n",
       "    <tr>\n",
       "      <th>23462</th>\n",
       "      <td>23462</td>\n",
       "      <td>999</td>\n",
       "      <td>24</td>\n",
       "      <td>Its okay</td>\n",
       "      <td>The pattern of this skirt is adorable and look...</td>\n",
       "      <td>3</td>\n",
       "      <td>1</td>\n",
       "      <td>0</td>\n",
       "      <td>General</td>\n",
       "      <td>Bottoms</td>\n",
       "      <td>Skirts</td>\n",
       "    </tr>\n",
       "    <tr>\n",
       "      <th>23463</th>\n",
       "      <td>23463</td>\n",
       "      <td>262</td>\n",
       "      <td>65</td>\n",
       "      <td>Comfy pants</td>\n",
       "      <td>These pants overall are very comfortable, but ...</td>\n",
       "      <td>4</td>\n",
       "      <td>1</td>\n",
       "      <td>1</td>\n",
       "      <td>General Petite</td>\n",
       "      <td>Intimate</td>\n",
       "      <td>Lounge</td>\n",
       "    </tr>\n",
       "    <tr>\n",
       "      <th>23464</th>\n",
       "      <td>23464</td>\n",
       "      <td>1104</td>\n",
       "      <td>42</td>\n",
       "      <td>Compliments</td>\n",
       "      <td>I wore this dress to work the other day and go...</td>\n",
       "      <td>5</td>\n",
       "      <td>1</td>\n",
       "      <td>3</td>\n",
       "      <td>General Petite</td>\n",
       "      <td>Dresses</td>\n",
       "      <td>Dresses</td>\n",
       "    </tr>\n",
       "    <tr>\n",
       "      <th>23465</th>\n",
       "      <td>23465</td>\n",
       "      <td>1078</td>\n",
       "      <td>41</td>\n",
       "      <td>Falls nicely</td>\n",
       "      <td>I bought this dress for work and post work hap...</td>\n",
       "      <td>5</td>\n",
       "      <td>1</td>\n",
       "      <td>0</td>\n",
       "      <td>General</td>\n",
       "      <td>Dresses</td>\n",
       "      <td>Dresses</td>\n",
       "    </tr>\n",
       "    <tr>\n",
       "      <th>23466</th>\n",
       "      <td>23466</td>\n",
       "      <td>1104</td>\n",
       "      <td>34</td>\n",
       "      <td>Cute and comfy</td>\n",
       "      <td>This dress has a great design and fits very we...</td>\n",
       "      <td>4</td>\n",
       "      <td>1</td>\n",
       "      <td>0</td>\n",
       "      <td>General Petite</td>\n",
       "      <td>Dresses</td>\n",
       "      <td>Dresses</td>\n",
       "    </tr>\n",
       "    <tr>\n",
       "      <th>23467</th>\n",
       "      <td>23467</td>\n",
       "      <td>1104</td>\n",
       "      <td>60</td>\n",
       "      <td>Super flattering!</td>\n",
       "      <td>I worry when i have an elastic waist, or somet...</td>\n",
       "      <td>5</td>\n",
       "      <td>1</td>\n",
       "      <td>23</td>\n",
       "      <td>General Petite</td>\n",
       "      <td>Dresses</td>\n",
       "      <td>Dresses</td>\n",
       "    </tr>\n",
       "    <tr>\n",
       "      <th>23468</th>\n",
       "      <td>23468</td>\n",
       "      <td>721</td>\n",
       "      <td>35</td>\n",
       "      <td>Sweet stripes</td>\n",
       "      <td>I love this little chemise! the adjustable str...</td>\n",
       "      <td>5</td>\n",
       "      <td>1</td>\n",
       "      <td>3</td>\n",
       "      <td>General Petite</td>\n",
       "      <td>Intimate</td>\n",
       "      <td>Lounge</td>\n",
       "    </tr>\n",
       "    <tr>\n",
       "      <th>23469</th>\n",
       "      <td>23469</td>\n",
       "      <td>262</td>\n",
       "      <td>50</td>\n",
       "      <td>Comfy and cute</td>\n",
       "      <td>My size was not available so based on reviews ...</td>\n",
       "      <td>4</td>\n",
       "      <td>1</td>\n",
       "      <td>0</td>\n",
       "      <td>General Petite</td>\n",
       "      <td>Intimate</td>\n",
       "      <td>Lounge</td>\n",
       "    </tr>\n",
       "    <tr>\n",
       "      <th>23470</th>\n",
       "      <td>23470</td>\n",
       "      <td>1104</td>\n",
       "      <td>39</td>\n",
       "      <td>NaN</td>\n",
       "      <td>NaN</td>\n",
       "      <td>5</td>\n",
       "      <td>1</td>\n",
       "      <td>0</td>\n",
       "      <td>General Petite</td>\n",
       "      <td>Dresses</td>\n",
       "      <td>Dresses</td>\n",
       "    </tr>\n",
       "    <tr>\n",
       "      <th>23471</th>\n",
       "      <td>23471</td>\n",
       "      <td>262</td>\n",
       "      <td>31</td>\n",
       "      <td>Awkward fit for me</td>\n",
       "      <td>Love the way these pants look in the pictures,...</td>\n",
       "      <td>4</td>\n",
       "      <td>1</td>\n",
       "      <td>0</td>\n",
       "      <td>General Petite</td>\n",
       "      <td>Intimate</td>\n",
       "      <td>Lounge</td>\n",
       "    </tr>\n",
       "    <tr>\n",
       "      <th>23472</th>\n",
       "      <td>23472</td>\n",
       "      <td>855</td>\n",
       "      <td>32</td>\n",
       "      <td>Perfectly drapey</td>\n",
       "      <td>I saw the shirt on the retailer website and ne...</td>\n",
       "      <td>5</td>\n",
       "      <td>1</td>\n",
       "      <td>0</td>\n",
       "      <td>General</td>\n",
       "      <td>Tops</td>\n",
       "      <td>Knits</td>\n",
       "    </tr>\n",
       "    <tr>\n",
       "      <th>23473</th>\n",
       "      <td>23473</td>\n",
       "      <td>1104</td>\n",
       "      <td>29</td>\n",
       "      <td>Perfect dress</td>\n",
       "      <td>Great quality and extremely flattering. bonus ...</td>\n",
       "      <td>5</td>\n",
       "      <td>1</td>\n",
       "      <td>1</td>\n",
       "      <td>General Petite</td>\n",
       "      <td>Dresses</td>\n",
       "      <td>Dresses</td>\n",
       "    </tr>\n",
       "    <tr>\n",
       "      <th>23474</th>\n",
       "      <td>23474</td>\n",
       "      <td>1104</td>\n",
       "      <td>32</td>\n",
       "      <td>Much better in person!</td>\n",
       "      <td>Yes, this is a great dress! i wasn't sure abou...</td>\n",
       "      <td>5</td>\n",
       "      <td>1</td>\n",
       "      <td>0</td>\n",
       "      <td>General Petite</td>\n",
       "      <td>Dresses</td>\n",
       "      <td>Dresses</td>\n",
       "    </tr>\n",
       "    <tr>\n",
       "      <th>23475</th>\n",
       "      <td>23475</td>\n",
       "      <td>1104</td>\n",
       "      <td>41</td>\n",
       "      <td>Cute dress</td>\n",
       "      <td>Cute dress but not for me.  the waist is too h...</td>\n",
       "      <td>3</td>\n",
       "      <td>1</td>\n",
       "      <td>0</td>\n",
       "      <td>General Petite</td>\n",
       "      <td>Dresses</td>\n",
       "      <td>Dresses</td>\n",
       "    </tr>\n",
       "    <tr>\n",
       "      <th>23476</th>\n",
       "      <td>23476</td>\n",
       "      <td>522</td>\n",
       "      <td>27</td>\n",
       "      <td>Cheeky!</td>\n",
       "      <td>These bottoms are very cute but defiantly chee...</td>\n",
       "      <td>4</td>\n",
       "      <td>1</td>\n",
       "      <td>0</td>\n",
       "      <td>Initmates</td>\n",
       "      <td>Intimate</td>\n",
       "      <td>Swim</td>\n",
       "    </tr>\n",
       "    <tr>\n",
       "      <th>23477</th>\n",
       "      <td>23477</td>\n",
       "      <td>1094</td>\n",
       "      <td>39</td>\n",
       "      <td>Entrancing</td>\n",
       "      <td>I'm so impressed with the beautiful color comb...</td>\n",
       "      <td>4</td>\n",
       "      <td>1</td>\n",
       "      <td>5</td>\n",
       "      <td>General Petite</td>\n",
       "      <td>Dresses</td>\n",
       "      <td>Dresses</td>\n",
       "    </tr>\n",
       "    <tr>\n",
       "      <th>23478</th>\n",
       "      <td>23478</td>\n",
       "      <td>1104</td>\n",
       "      <td>32</td>\n",
       "      <td>Unflattering</td>\n",
       "      <td>I was surprised at the positive reviews for th...</td>\n",
       "      <td>1</td>\n",
       "      <td>0</td>\n",
       "      <td>0</td>\n",
       "      <td>General Petite</td>\n",
       "      <td>Dresses</td>\n",
       "      <td>Dresses</td>\n",
       "    </tr>\n",
       "    <tr>\n",
       "      <th>23479</th>\n",
       "      <td>23479</td>\n",
       "      <td>1005</td>\n",
       "      <td>42</td>\n",
       "      <td>What a fun piece!</td>\n",
       "      <td>So i wasn't sure about ordering this skirt bec...</td>\n",
       "      <td>5</td>\n",
       "      <td>1</td>\n",
       "      <td>0</td>\n",
       "      <td>General Petite</td>\n",
       "      <td>Bottoms</td>\n",
       "      <td>Skirts</td>\n",
       "    </tr>\n",
       "    <tr>\n",
       "      <th>23480</th>\n",
       "      <td>23480</td>\n",
       "      <td>862</td>\n",
       "      <td>35</td>\n",
       "      <td>NaN</td>\n",
       "      <td>NaN</td>\n",
       "      <td>5</td>\n",
       "      <td>1</td>\n",
       "      <td>0</td>\n",
       "      <td>General Petite</td>\n",
       "      <td>Tops</td>\n",
       "      <td>Knits</td>\n",
       "    </tr>\n",
       "    <tr>\n",
       "      <th>23481</th>\n",
       "      <td>23481</td>\n",
       "      <td>1104</td>\n",
       "      <td>34</td>\n",
       "      <td>Great dress for many occasions</td>\n",
       "      <td>I was very happy to snag this dress at such a ...</td>\n",
       "      <td>5</td>\n",
       "      <td>1</td>\n",
       "      <td>0</td>\n",
       "      <td>General Petite</td>\n",
       "      <td>Dresses</td>\n",
       "      <td>Dresses</td>\n",
       "    </tr>\n",
       "    <tr>\n",
       "      <th>23482</th>\n",
       "      <td>23482</td>\n",
       "      <td>862</td>\n",
       "      <td>48</td>\n",
       "      <td>Wish it was made of cotton</td>\n",
       "      <td>It reminds me of maternity clothes. soft, stre...</td>\n",
       "      <td>3</td>\n",
       "      <td>1</td>\n",
       "      <td>0</td>\n",
       "      <td>General Petite</td>\n",
       "      <td>Tops</td>\n",
       "      <td>Knits</td>\n",
       "    </tr>\n",
       "    <tr>\n",
       "      <th>23483</th>\n",
       "      <td>23483</td>\n",
       "      <td>1104</td>\n",
       "      <td>31</td>\n",
       "      <td>Cute, but see through</td>\n",
       "      <td>This fit well, but the top was very see throug...</td>\n",
       "      <td>3</td>\n",
       "      <td>0</td>\n",
       "      <td>1</td>\n",
       "      <td>General Petite</td>\n",
       "      <td>Dresses</td>\n",
       "      <td>Dresses</td>\n",
       "    </tr>\n",
       "    <tr>\n",
       "      <th>23484</th>\n",
       "      <td>23484</td>\n",
       "      <td>1084</td>\n",
       "      <td>28</td>\n",
       "      <td>Very cute dress, perfect for summer parties an...</td>\n",
       "      <td>I bought this dress for a wedding i have this ...</td>\n",
       "      <td>3</td>\n",
       "      <td>1</td>\n",
       "      <td>2</td>\n",
       "      <td>General</td>\n",
       "      <td>Dresses</td>\n",
       "      <td>Dresses</td>\n",
       "    </tr>\n",
       "    <tr>\n",
       "      <th>23485</th>\n",
       "      <td>23485</td>\n",
       "      <td>1104</td>\n",
       "      <td>52</td>\n",
       "      <td>Please make more like this one!</td>\n",
       "      <td>This dress in a lovely platinum is feminine an...</td>\n",
       "      <td>5</td>\n",
       "      <td>1</td>\n",
       "      <td>22</td>\n",
       "      <td>General Petite</td>\n",
       "      <td>Dresses</td>\n",
       "      <td>Dresses</td>\n",
       "    </tr>\n",
       "  </tbody>\n",
       "</table>\n",
       "<p>23486 rows × 11 columns</p>\n",
       "</div>"
      ],
      "text/plain": [
       "       Unnamed: 0  Clothing ID  Age  \\\n",
       "0               0          767   33   \n",
       "1               1         1080   34   \n",
       "2               2         1077   60   \n",
       "3               3         1049   50   \n",
       "4               4          847   47   \n",
       "5               5         1080   49   \n",
       "6               6          858   39   \n",
       "7               7          858   39   \n",
       "8               8         1077   24   \n",
       "9               9         1077   34   \n",
       "10             10         1077   53   \n",
       "11             11         1095   39   \n",
       "12             12         1095   53   \n",
       "13             13          767   44   \n",
       "14             14         1077   50   \n",
       "15             15         1065   47   \n",
       "16             16         1065   34   \n",
       "17             17          853   41   \n",
       "18             18         1120   32   \n",
       "19             19         1077   47   \n",
       "20             20          847   33   \n",
       "21             21         1080   55   \n",
       "22             22         1077   31   \n",
       "23             23         1077   34   \n",
       "24             24          847   55   \n",
       "25             25          697   31   \n",
       "26             26          949   33   \n",
       "27             27         1003   31   \n",
       "28             28          684   53   \n",
       "29             29            4   28   \n",
       "...           ...          ...  ...   \n",
       "23456       23456         1104   35   \n",
       "23457       23457          262   49   \n",
       "23458       23458          862   63   \n",
       "23459       23459         1094   57   \n",
       "23460       23460         1078   34   \n",
       "23461       23461          262   49   \n",
       "23462       23462          999   24   \n",
       "23463       23463          262   65   \n",
       "23464       23464         1104   42   \n",
       "23465       23465         1078   41   \n",
       "23466       23466         1104   34   \n",
       "23467       23467         1104   60   \n",
       "23468       23468          721   35   \n",
       "23469       23469          262   50   \n",
       "23470       23470         1104   39   \n",
       "23471       23471          262   31   \n",
       "23472       23472          855   32   \n",
       "23473       23473         1104   29   \n",
       "23474       23474         1104   32   \n",
       "23475       23475         1104   41   \n",
       "23476       23476          522   27   \n",
       "23477       23477         1094   39   \n",
       "23478       23478         1104   32   \n",
       "23479       23479         1005   42   \n",
       "23480       23480          862   35   \n",
       "23481       23481         1104   34   \n",
       "23482       23482          862   48   \n",
       "23483       23483         1104   31   \n",
       "23484       23484         1084   28   \n",
       "23485       23485         1104   52   \n",
       "\n",
       "                                                   Title  \\\n",
       "0                                                    NaN   \n",
       "1                                                    NaN   \n",
       "2                                Some major design flaws   \n",
       "3                                       My favorite buy!   \n",
       "4                                       Flattering shirt   \n",
       "5                                Not for the very petite   \n",
       "6                                   Cagrcoal shimmer fun   \n",
       "7                   Shimmer, surprisingly goes with lots   \n",
       "8                                             Flattering   \n",
       "9                                      Such a fun dress!   \n",
       "10          Dress looks like it's made of cheap material   \n",
       "11                                                   NaN   \n",
       "12                                            Perfect!!!   \n",
       "13                                              Runs big   \n",
       "14                   Pretty party dress with some issues   \n",
       "15                             Nice, but not for my body   \n",
       "16     You need to be at least average height, or taller   \n",
       "17                          Looks great with white pants   \n",
       "18                                   Super cute and cozy   \n",
       "19                               Stylish and comfortable   \n",
       "20                                     Cute, crisp shirt   \n",
       "21                                             I'm torn!   \n",
       "22                                Not what it looks like   \n",
       "23                           Like it, but don't love it.   \n",
       "24                                             Versatile   \n",
       "25                                            Falls flat   \n",
       "26                                   Huge disappointment   \n",
       "27                                   Loved, but returned   \n",
       "28                                        Great shirt!!!   \n",
       "29                                  Great layering piece   \n",
       "...                                                  ...   \n",
       "23456                Flattering and lovely sweater dress   \n",
       "23457                                           Adorable   \n",
       "23458                                                NaN   \n",
       "23459                                Perfect except slip   \n",
       "23460                                   Such high hopes!   \n",
       "23461         Comfortable but not super-flattering on me   \n",
       "23462                                           Its okay   \n",
       "23463                                        Comfy pants   \n",
       "23464                                        Compliments   \n",
       "23465                                       Falls nicely   \n",
       "23466                                     Cute and comfy   \n",
       "23467                                  Super flattering!   \n",
       "23468                                      Sweet stripes   \n",
       "23469                                     Comfy and cute   \n",
       "23470                                                NaN   \n",
       "23471                                 Awkward fit for me   \n",
       "23472                                   Perfectly drapey   \n",
       "23473                                      Perfect dress   \n",
       "23474                             Much better in person!   \n",
       "23475                                         Cute dress   \n",
       "23476                                            Cheeky!   \n",
       "23477                                         Entrancing   \n",
       "23478                                       Unflattering   \n",
       "23479                                  What a fun piece!   \n",
       "23480                                                NaN   \n",
       "23481                     Great dress for many occasions   \n",
       "23482                         Wish it was made of cotton   \n",
       "23483                              Cute, but see through   \n",
       "23484  Very cute dress, perfect for summer parties an...   \n",
       "23485                    Please make more like this one!   \n",
       "\n",
       "                                             Review Text  Rating  \\\n",
       "0      Absolutely wonderful - silky and sexy and comf...       4   \n",
       "1      Love this dress!  it's sooo pretty.  i happene...       5   \n",
       "2      I had such high hopes for this dress and reall...       3   \n",
       "3      I love, love, love this jumpsuit. it's fun, fl...       5   \n",
       "4      This shirt is very flattering to all due to th...       5   \n",
       "5      I love tracy reese dresses, but this one is no...       2   \n",
       "6      I aded this in my basket at hte last mintue to...       5   \n",
       "7      I ordered this in carbon for store pick up, an...       4   \n",
       "8      I love this dress. i usually get an xs but it ...       5   \n",
       "9      I'm 5\"5' and 125 lbs. i ordered the s petite t...       5   \n",
       "10     Dress runs small esp where the zipper area run...       3   \n",
       "11     This dress is perfection! so pretty and flatte...       5   \n",
       "12     More and more i find myself reliant on the rev...       5   \n",
       "13     Bought the black xs to go under the larkspur m...       5   \n",
       "14     This is a nice choice for holiday gatherings. ...       3   \n",
       "15     I took these out of the package and wanted the...       4   \n",
       "16     Material and color is nice.  the leg opening i...       3   \n",
       "17     Took a chance on this blouse and so glad i did...       5   \n",
       "18     A flattering, super cozy coat.  will work well...       5   \n",
       "19     I love the look and feel of this tulle dress. ...       5   \n",
       "20     If this product was in petite, i would get the...       4   \n",
       "21     I'm upset because for the price of the dress, ...       4   \n",
       "22     First of all, this is not pullover styling. th...       2   \n",
       "23     Cute little dress fits tts. it is a little hig...       3   \n",
       "24     I love this shirt because when i first saw it,...       5   \n",
       "25     Loved the material, but i didnt really look at...       3   \n",
       "26     I have been waiting for this sweater coat to s...       2   \n",
       "27     The colors weren't what i expected either. the...       4   \n",
       "28     I have several of goodhyouman shirts and i get...       5   \n",
       "29     This sweater is so comfy and classic - it bala...       5   \n",
       "...                                                  ...     ...   \n",
       "23456  I have been on a search for a dress with sleev...       5   \n",
       "23457  These pants are soft, fun print and comfy. the...       5   \n",
       "23458  This is my new favorite sweater. it is lightwe...       5   \n",
       "23459  This is my new favorite dress! my only complai...       4   \n",
       "23460  I purchased this for a very good price and i t...       3   \n",
       "23461  I tried these on at the store and the fit was ...       4   \n",
       "23462  The pattern of this skirt is adorable and look...       3   \n",
       "23463  These pants overall are very comfortable, but ...       4   \n",
       "23464  I wore this dress to work the other day and go...       5   \n",
       "23465  I bought this dress for work and post work hap...       5   \n",
       "23466  This dress has a great design and fits very we...       4   \n",
       "23467  I worry when i have an elastic waist, or somet...       5   \n",
       "23468  I love this little chemise! the adjustable str...       5   \n",
       "23469  My size was not available so based on reviews ...       4   \n",
       "23470                                                NaN       5   \n",
       "23471  Love the way these pants look in the pictures,...       4   \n",
       "23472  I saw the shirt on the retailer website and ne...       5   \n",
       "23473  Great quality and extremely flattering. bonus ...       5   \n",
       "23474  Yes, this is a great dress! i wasn't sure abou...       5   \n",
       "23475  Cute dress but not for me.  the waist is too h...       3   \n",
       "23476  These bottoms are very cute but defiantly chee...       4   \n",
       "23477  I'm so impressed with the beautiful color comb...       4   \n",
       "23478  I was surprised at the positive reviews for th...       1   \n",
       "23479  So i wasn't sure about ordering this skirt bec...       5   \n",
       "23480                                                NaN       5   \n",
       "23481  I was very happy to snag this dress at such a ...       5   \n",
       "23482  It reminds me of maternity clothes. soft, stre...       3   \n",
       "23483  This fit well, but the top was very see throug...       3   \n",
       "23484  I bought this dress for a wedding i have this ...       3   \n",
       "23485  This dress in a lovely platinum is feminine an...       5   \n",
       "\n",
       "       Recommended IND  Positive Feedback Count   Division Name  \\\n",
       "0                    1                        0       Initmates   \n",
       "1                    1                        4         General   \n",
       "2                    0                        0         General   \n",
       "3                    1                        0  General Petite   \n",
       "4                    1                        6         General   \n",
       "5                    0                        4         General   \n",
       "6                    1                        1  General Petite   \n",
       "7                    1                        4  General Petite   \n",
       "8                    1                        0         General   \n",
       "9                    1                        0         General   \n",
       "10                   0                       14         General   \n",
       "11                   1                        2  General Petite   \n",
       "12                   1                        2  General Petite   \n",
       "13                   1                        0       Initmates   \n",
       "14                   1                        1         General   \n",
       "15                   1                        3         General   \n",
       "16                   1                        2         General   \n",
       "17                   1                        0         General   \n",
       "18                   1                        0         General   \n",
       "19                   1                        0         General   \n",
       "20                   1                        2         General   \n",
       "21                   1                       14         General   \n",
       "22                   0                        7         General   \n",
       "23                   1                        0         General   \n",
       "24                   1                        0         General   \n",
       "25                   0                        0       Initmates   \n",
       "26                   0                        0         General   \n",
       "27                   1                        0         General   \n",
       "28                   1                        2       Initmates   \n",
       "29                   1                        0         General   \n",
       "...                ...                      ...             ...   \n",
       "23456                1                        3  General Petite   \n",
       "23457                1                        3  General Petite   \n",
       "23458                1                        0  General Petite   \n",
       "23459                1                        3  General Petite   \n",
       "23460                0                        0         General   \n",
       "23461                1                        1  General Petite   \n",
       "23462                1                        0         General   \n",
       "23463                1                        1  General Petite   \n",
       "23464                1                        3  General Petite   \n",
       "23465                1                        0         General   \n",
       "23466                1                        0  General Petite   \n",
       "23467                1                       23  General Petite   \n",
       "23468                1                        3  General Petite   \n",
       "23469                1                        0  General Petite   \n",
       "23470                1                        0  General Petite   \n",
       "23471                1                        0  General Petite   \n",
       "23472                1                        0         General   \n",
       "23473                1                        1  General Petite   \n",
       "23474                1                        0  General Petite   \n",
       "23475                1                        0  General Petite   \n",
       "23476                1                        0       Initmates   \n",
       "23477                1                        5  General Petite   \n",
       "23478                0                        0  General Petite   \n",
       "23479                1                        0  General Petite   \n",
       "23480                1                        0  General Petite   \n",
       "23481                1                        0  General Petite   \n",
       "23482                1                        0  General Petite   \n",
       "23483                0                        1  General Petite   \n",
       "23484                1                        2         General   \n",
       "23485                1                       22  General Petite   \n",
       "\n",
       "      Department Name Class Name  \n",
       "0            Intimate  Intimates  \n",
       "1             Dresses    Dresses  \n",
       "2             Dresses    Dresses  \n",
       "3             Bottoms      Pants  \n",
       "4                Tops    Blouses  \n",
       "5             Dresses    Dresses  \n",
       "6                Tops      Knits  \n",
       "7                Tops      Knits  \n",
       "8             Dresses    Dresses  \n",
       "9             Dresses    Dresses  \n",
       "10            Dresses    Dresses  \n",
       "11            Dresses    Dresses  \n",
       "12            Dresses    Dresses  \n",
       "13           Intimate  Intimates  \n",
       "14            Dresses    Dresses  \n",
       "15            Bottoms      Pants  \n",
       "16            Bottoms      Pants  \n",
       "17               Tops    Blouses  \n",
       "18            Jackets  Outerwear  \n",
       "19            Dresses    Dresses  \n",
       "20               Tops    Blouses  \n",
       "21            Dresses    Dresses  \n",
       "22            Dresses    Dresses  \n",
       "23            Dresses    Dresses  \n",
       "24               Tops    Blouses  \n",
       "25           Intimate     Lounge  \n",
       "26               Tops   Sweaters  \n",
       "27            Bottoms     Skirts  \n",
       "28           Intimate     Lounge  \n",
       "29               Tops   Sweaters  \n",
       "...               ...        ...  \n",
       "23456         Dresses    Dresses  \n",
       "23457        Intimate     Lounge  \n",
       "23458            Tops      Knits  \n",
       "23459         Dresses    Dresses  \n",
       "23460         Dresses    Dresses  \n",
       "23461        Intimate     Lounge  \n",
       "23462         Bottoms     Skirts  \n",
       "23463        Intimate     Lounge  \n",
       "23464         Dresses    Dresses  \n",
       "23465         Dresses    Dresses  \n",
       "23466         Dresses    Dresses  \n",
       "23467         Dresses    Dresses  \n",
       "23468        Intimate     Lounge  \n",
       "23469        Intimate     Lounge  \n",
       "23470         Dresses    Dresses  \n",
       "23471        Intimate     Lounge  \n",
       "23472            Tops      Knits  \n",
       "23473         Dresses    Dresses  \n",
       "23474         Dresses    Dresses  \n",
       "23475         Dresses    Dresses  \n",
       "23476        Intimate       Swim  \n",
       "23477         Dresses    Dresses  \n",
       "23478         Dresses    Dresses  \n",
       "23479         Bottoms     Skirts  \n",
       "23480            Tops      Knits  \n",
       "23481         Dresses    Dresses  \n",
       "23482            Tops      Knits  \n",
       "23483         Dresses    Dresses  \n",
       "23484         Dresses    Dresses  \n",
       "23485         Dresses    Dresses  \n",
       "\n",
       "[23486 rows x 11 columns]"
      ]
     },
     "execution_count": 4,
     "metadata": {},
     "output_type": "execute_result"
    }
   ],
   "source": [
    "data"
   ]
  },
  {
   "cell_type": "code",
   "execution_count": 5,
   "metadata": {},
   "outputs": [
    {
     "name": "stdout",
     "output_type": "stream",
     "text": [
      "       Unnamed: 0  Clothing ID  Age  \\\n",
      "0               0          767   33   \n",
      "1               1         1080   34   \n",
      "2               2         1077   60   \n",
      "3               3         1049   50   \n",
      "4               4          847   47   \n",
      "5               5         1080   49   \n",
      "6               6          858   39   \n",
      "7               7          858   39   \n",
      "8               8         1077   24   \n",
      "9               9         1077   34   \n",
      "10             10         1077   53   \n",
      "11             11         1095   39   \n",
      "12             12         1095   53   \n",
      "13             13          767   44   \n",
      "14             14         1077   50   \n",
      "15             15         1065   47   \n",
      "16             16         1065   34   \n",
      "17             17          853   41   \n",
      "18             18         1120   32   \n",
      "19             19         1077   47   \n",
      "20             20          847   33   \n",
      "21             21         1080   55   \n",
      "22             22         1077   31   \n",
      "23             23         1077   34   \n",
      "24             24          847   55   \n",
      "25             25          697   31   \n",
      "26             26          949   33   \n",
      "27             27         1003   31   \n",
      "28             28          684   53   \n",
      "29             29            4   28   \n",
      "...           ...          ...  ...   \n",
      "23456       23456         1104   35   \n",
      "23457       23457          262   49   \n",
      "23458       23458          862   63   \n",
      "23459       23459         1094   57   \n",
      "23460       23460         1078   34   \n",
      "23461       23461          262   49   \n",
      "23462       23462          999   24   \n",
      "23463       23463          262   65   \n",
      "23464       23464         1104   42   \n",
      "23465       23465         1078   41   \n",
      "23466       23466         1104   34   \n",
      "23467       23467         1104   60   \n",
      "23468       23468          721   35   \n",
      "23469       23469          262   50   \n",
      "23470       23470         1104   39   \n",
      "23471       23471          262   31   \n",
      "23472       23472          855   32   \n",
      "23473       23473         1104   29   \n",
      "23474       23474         1104   32   \n",
      "23475       23475         1104   41   \n",
      "23476       23476          522   27   \n",
      "23477       23477         1094   39   \n",
      "23478       23478         1104   32   \n",
      "23479       23479         1005   42   \n",
      "23480       23480          862   35   \n",
      "23481       23481         1104   34   \n",
      "23482       23482          862   48   \n",
      "23483       23483         1104   31   \n",
      "23484       23484         1084   28   \n",
      "23485       23485         1104   52   \n",
      "\n",
      "                                                   Title  \\\n",
      "0                                                    NaN   \n",
      "1                                                    NaN   \n",
      "2                                Some major design flaws   \n",
      "3                                       My favorite buy!   \n",
      "4                                       Flattering shirt   \n",
      "5                                Not for the very petite   \n",
      "6                                   Cagrcoal shimmer fun   \n",
      "7                   Shimmer, surprisingly goes with lots   \n",
      "8                                             Flattering   \n",
      "9                                      Such a fun dress!   \n",
      "10          Dress looks like it's made of cheap material   \n",
      "11                                                   NaN   \n",
      "12                                            Perfect!!!   \n",
      "13                                              Runs big   \n",
      "14                   Pretty party dress with some issues   \n",
      "15                             Nice, but not for my body   \n",
      "16     You need to be at least average height, or taller   \n",
      "17                          Looks great with white pants   \n",
      "18                                   Super cute and cozy   \n",
      "19                               Stylish and comfortable   \n",
      "20                                     Cute, crisp shirt   \n",
      "21                                             I'm torn!   \n",
      "22                                Not what it looks like   \n",
      "23                           Like it, but don't love it.   \n",
      "24                                             Versatile   \n",
      "25                                            Falls flat   \n",
      "26                                   Huge disappointment   \n",
      "27                                   Loved, but returned   \n",
      "28                                        Great shirt!!!   \n",
      "29                                  Great layering piece   \n",
      "...                                                  ...   \n",
      "23456                Flattering and lovely sweater dress   \n",
      "23457                                           Adorable   \n",
      "23458                                                NaN   \n",
      "23459                                Perfect except slip   \n",
      "23460                                   Such high hopes!   \n",
      "23461         Comfortable but not super-flattering on me   \n",
      "23462                                           Its okay   \n",
      "23463                                        Comfy pants   \n",
      "23464                                        Compliments   \n",
      "23465                                       Falls nicely   \n",
      "23466                                     Cute and comfy   \n",
      "23467                                  Super flattering!   \n",
      "23468                                      Sweet stripes   \n",
      "23469                                     Comfy and cute   \n",
      "23470                                                NaN   \n",
      "23471                                 Awkward fit for me   \n",
      "23472                                   Perfectly drapey   \n",
      "23473                                      Perfect dress   \n",
      "23474                             Much better in person!   \n",
      "23475                                         Cute dress   \n",
      "23476                                            Cheeky!   \n",
      "23477                                         Entrancing   \n",
      "23478                                       Unflattering   \n",
      "23479                                  What a fun piece!   \n",
      "23480                                                NaN   \n",
      "23481                     Great dress for many occasions   \n",
      "23482                         Wish it was made of cotton   \n",
      "23483                              Cute, but see through   \n",
      "23484  Very cute dress, perfect for summer parties an...   \n",
      "23485                    Please make more like this one!   \n",
      "\n",
      "                                             Review Text  Rating  \\\n",
      "0      Absolutely wonderful - silky and sexy and comf...       4   \n",
      "1      Love this dress!  it's sooo pretty.  i happene...       5   \n",
      "2      I had such high hopes for this dress and reall...       3   \n",
      "3      I love, love, love this jumpsuit. it's fun, fl...       5   \n",
      "4      This shirt is very flattering to all due to th...       5   \n",
      "5      I love tracy reese dresses, but this one is no...       2   \n",
      "6      I aded this in my basket at hte last mintue to...       5   \n",
      "7      I ordered this in carbon for store pick up, an...       4   \n",
      "8      I love this dress. i usually get an xs but it ...       5   \n",
      "9      I'm 5\"5' and 125 lbs. i ordered the s petite t...       5   \n",
      "10     Dress runs small esp where the zipper area run...       3   \n",
      "11     This dress is perfection! so pretty and flatte...       5   \n",
      "12     More and more i find myself reliant on the rev...       5   \n",
      "13     Bought the black xs to go under the larkspur m...       5   \n",
      "14     This is a nice choice for holiday gatherings. ...       3   \n",
      "15     I took these out of the package and wanted the...       4   \n",
      "16     Material and color is nice.  the leg opening i...       3   \n",
      "17     Took a chance on this blouse and so glad i did...       5   \n",
      "18     A flattering, super cozy coat.  will work well...       5   \n",
      "19     I love the look and feel of this tulle dress. ...       5   \n",
      "20     If this product was in petite, i would get the...       4   \n",
      "21     I'm upset because for the price of the dress, ...       4   \n",
      "22     First of all, this is not pullover styling. th...       2   \n",
      "23     Cute little dress fits tts. it is a little hig...       3   \n",
      "24     I love this shirt because when i first saw it,...       5   \n",
      "25     Loved the material, but i didnt really look at...       3   \n",
      "26     I have been waiting for this sweater coat to s...       2   \n",
      "27     The colors weren't what i expected either. the...       4   \n",
      "28     I have several of goodhyouman shirts and i get...       5   \n",
      "29     This sweater is so comfy and classic - it bala...       5   \n",
      "...                                                  ...     ...   \n",
      "23456  I have been on a search for a dress with sleev...       5   \n",
      "23457  These pants are soft, fun print and comfy. the...       5   \n",
      "23458  This is my new favorite sweater. it is lightwe...       5   \n",
      "23459  This is my new favorite dress! my only complai...       4   \n",
      "23460  I purchased this for a very good price and i t...       3   \n",
      "23461  I tried these on at the store and the fit was ...       4   \n",
      "23462  The pattern of this skirt is adorable and look...       3   \n",
      "23463  These pants overall are very comfortable, but ...       4   \n",
      "23464  I wore this dress to work the other day and go...       5   \n",
      "23465  I bought this dress for work and post work hap...       5   \n",
      "23466  This dress has a great design and fits very we...       4   \n",
      "23467  I worry when i have an elastic waist, or somet...       5   \n",
      "23468  I love this little chemise! the adjustable str...       5   \n",
      "23469  My size was not available so based on reviews ...       4   \n",
      "23470                                                NaN       5   \n",
      "23471  Love the way these pants look in the pictures,...       4   \n",
      "23472  I saw the shirt on the retailer website and ne...       5   \n",
      "23473  Great quality and extremely flattering. bonus ...       5   \n",
      "23474  Yes, this is a great dress! i wasn't sure abou...       5   \n",
      "23475  Cute dress but not for me.  the waist is too h...       3   \n",
      "23476  These bottoms are very cute but defiantly chee...       4   \n",
      "23477  I'm so impressed with the beautiful color comb...       4   \n",
      "23478  I was surprised at the positive reviews for th...       1   \n",
      "23479  So i wasn't sure about ordering this skirt bec...       5   \n",
      "23480                                                NaN       5   \n",
      "23481  I was very happy to snag this dress at such a ...       5   \n",
      "23482  It reminds me of maternity clothes. soft, stre...       3   \n",
      "23483  This fit well, but the top was very see throug...       3   \n",
      "23484  I bought this dress for a wedding i have this ...       3   \n",
      "23485  This dress in a lovely platinum is feminine an...       5   \n",
      "\n",
      "       Recommended IND  Positive Feedback Count   Division Name  \\\n",
      "0                    1                        0       Initmates   \n",
      "1                    1                        4         General   \n",
      "2                    0                        0         General   \n",
      "3                    1                        0  General Petite   \n",
      "4                    1                        6         General   \n",
      "5                    0                        4         General   \n",
      "6                    1                        1  General Petite   \n",
      "7                    1                        4  General Petite   \n",
      "8                    1                        0         General   \n",
      "9                    1                        0         General   \n",
      "10                   0                       14         General   \n",
      "11                   1                        2  General Petite   \n",
      "12                   1                        2  General Petite   \n",
      "13                   1                        0       Initmates   \n",
      "14                   1                        1         General   \n",
      "15                   1                        3         General   \n",
      "16                   1                        2         General   \n",
      "17                   1                        0         General   \n",
      "18                   1                        0         General   \n",
      "19                   1                        0         General   \n",
      "20                   1                        2         General   \n",
      "21                   1                       14         General   \n",
      "22                   0                        7         General   \n",
      "23                   1                        0         General   \n",
      "24                   1                        0         General   \n",
      "25                   0                        0       Initmates   \n",
      "26                   0                        0         General   \n",
      "27                   1                        0         General   \n",
      "28                   1                        2       Initmates   \n",
      "29                   1                        0         General   \n",
      "...                ...                      ...             ...   \n",
      "23456                1                        3  General Petite   \n",
      "23457                1                        3  General Petite   \n",
      "23458                1                        0  General Petite   \n",
      "23459                1                        3  General Petite   \n",
      "23460                0                        0         General   \n",
      "23461                1                        1  General Petite   \n",
      "23462                1                        0         General   \n",
      "23463                1                        1  General Petite   \n",
      "23464                1                        3  General Petite   \n",
      "23465                1                        0         General   \n",
      "23466                1                        0  General Petite   \n",
      "23467                1                       23  General Petite   \n",
      "23468                1                        3  General Petite   \n",
      "23469                1                        0  General Petite   \n",
      "23470                1                        0  General Petite   \n",
      "23471                1                        0  General Petite   \n",
      "23472                1                        0         General   \n",
      "23473                1                        1  General Petite   \n",
      "23474                1                        0  General Petite   \n",
      "23475                1                        0  General Petite   \n",
      "23476                1                        0       Initmates   \n",
      "23477                1                        5  General Petite   \n",
      "23478                0                        0  General Petite   \n",
      "23479                1                        0  General Petite   \n",
      "23480                1                        0  General Petite   \n",
      "23481                1                        0  General Petite   \n",
      "23482                1                        0  General Petite   \n",
      "23483                0                        1  General Petite   \n",
      "23484                1                        2         General   \n",
      "23485                1                       22  General Petite   \n",
      "\n",
      "      Department Name Class Name  \n",
      "0            Intimate  Intimates  \n",
      "1             Dresses    Dresses  \n",
      "2             Dresses    Dresses  \n",
      "3             Bottoms      Pants  \n",
      "4                Tops    Blouses  \n",
      "5             Dresses    Dresses  \n",
      "6                Tops      Knits  \n",
      "7                Tops      Knits  \n",
      "8             Dresses    Dresses  \n",
      "9             Dresses    Dresses  \n",
      "10            Dresses    Dresses  \n",
      "11            Dresses    Dresses  \n",
      "12            Dresses    Dresses  \n",
      "13           Intimate  Intimates  \n",
      "14            Dresses    Dresses  \n",
      "15            Bottoms      Pants  \n",
      "16            Bottoms      Pants  \n",
      "17               Tops    Blouses  \n",
      "18            Jackets  Outerwear  \n",
      "19            Dresses    Dresses  \n",
      "20               Tops    Blouses  \n",
      "21            Dresses    Dresses  \n",
      "22            Dresses    Dresses  \n",
      "23            Dresses    Dresses  \n",
      "24               Tops    Blouses  \n",
      "25           Intimate     Lounge  \n",
      "26               Tops   Sweaters  \n",
      "27            Bottoms     Skirts  \n",
      "28           Intimate     Lounge  \n",
      "29               Tops   Sweaters  \n",
      "...               ...        ...  \n",
      "23456         Dresses    Dresses  \n",
      "23457        Intimate     Lounge  \n",
      "23458            Tops      Knits  \n",
      "23459         Dresses    Dresses  \n",
      "23460         Dresses    Dresses  \n",
      "23461        Intimate     Lounge  \n",
      "23462         Bottoms     Skirts  \n",
      "23463        Intimate     Lounge  \n",
      "23464         Dresses    Dresses  \n",
      "23465         Dresses    Dresses  \n",
      "23466         Dresses    Dresses  \n",
      "23467         Dresses    Dresses  \n",
      "23468        Intimate     Lounge  \n",
      "23469        Intimate     Lounge  \n",
      "23470         Dresses    Dresses  \n",
      "23471        Intimate     Lounge  \n",
      "23472            Tops      Knits  \n",
      "23473         Dresses    Dresses  \n",
      "23474         Dresses    Dresses  \n",
      "23475         Dresses    Dresses  \n",
      "23476        Intimate       Swim  \n",
      "23477         Dresses    Dresses  \n",
      "23478         Dresses    Dresses  \n",
      "23479         Bottoms     Skirts  \n",
      "23480            Tops      Knits  \n",
      "23481         Dresses    Dresses  \n",
      "23482            Tops      Knits  \n",
      "23483         Dresses    Dresses  \n",
      "23484         Dresses    Dresses  \n",
      "23485         Dresses    Dresses  \n",
      "\n",
      "[23486 rows x 11 columns]\n"
     ]
    }
   ],
   "source": [
    "print(data)"
   ]
  },
  {
   "cell_type": "markdown",
   "metadata": {},
   "source": [
    "## Признаки\n",
    "### Рассмотрим подробнее признаки, представленные в датасете:\n",
    "##### Clothing ID: целочисленная категориальная переменная которая относится к конкретной рассматриваемой части.\n",
    "##### Age: целочисленная категориальная переменная характеризующая возраст покупателя.\n",
    "##### Title: строковая переменная для заголовка отзыва.\n",
    "##### Review Text:  строковая переменная для самого отзыва.\n",
    "##### Rating: целочисоенная положительная переменная для оценки продукта (от 1(ужасно) до 5(отлично)).\n",
    "##### Recommended IND: бинарная переменная: 1 - если покупатель рекомендует продукт, 0 - не рекомендует.\n",
    "##### Positive Feedback Count: целочисоенная положительная переменная обозначающая число покупателей, которые нашли отзыв положительным.\n",
    "##### Division Name: категориальная переменная, характеризует тип товара, по которому пишется отзыв.\n",
    "##### Department Name: категориальная переменная, обозначает отдел, где куплен товар, по которому пишется отзыв.\n",
    "##### Class Name: категориальная переменная, обозначает класс, к которому принадлежит товар."
   ]
  },
  {
   "cell_type": "code",
   "execution_count": 6,
   "metadata": {},
   "outputs": [
    {
     "data": {
      "text/html": [
       "<div>\n",
       "<style scoped>\n",
       "    .dataframe tbody tr th:only-of-type {\n",
       "        vertical-align: middle;\n",
       "    }\n",
       "\n",
       "    .dataframe tbody tr th {\n",
       "        vertical-align: top;\n",
       "    }\n",
       "\n",
       "    .dataframe thead th {\n",
       "        text-align: right;\n",
       "    }\n",
       "</style>\n",
       "<table border=\"1\" class=\"dataframe\">\n",
       "  <thead>\n",
       "    <tr style=\"text-align: right;\">\n",
       "      <th></th>\n",
       "      <th>Unnamed: 0</th>\n",
       "      <th>Clothing ID</th>\n",
       "      <th>Age</th>\n",
       "      <th>Title</th>\n",
       "      <th>Review Text</th>\n",
       "      <th>Rating</th>\n",
       "      <th>Recommended IND</th>\n",
       "      <th>Positive Feedback Count</th>\n",
       "      <th>Division Name</th>\n",
       "      <th>Department Name</th>\n",
       "      <th>Class Name</th>\n",
       "    </tr>\n",
       "  </thead>\n",
       "  <tbody>\n",
       "    <tr>\n",
       "      <th>0</th>\n",
       "      <td>0</td>\n",
       "      <td>767</td>\n",
       "      <td>33</td>\n",
       "      <td>NaN</td>\n",
       "      <td>Absolutely wonderful - silky and sexy and comf...</td>\n",
       "      <td>4</td>\n",
       "      <td>1</td>\n",
       "      <td>0</td>\n",
       "      <td>Initmates</td>\n",
       "      <td>Intimate</td>\n",
       "      <td>Intimates</td>\n",
       "    </tr>\n",
       "    <tr>\n",
       "      <th>1</th>\n",
       "      <td>1</td>\n",
       "      <td>1080</td>\n",
       "      <td>34</td>\n",
       "      <td>NaN</td>\n",
       "      <td>Love this dress!  it's sooo pretty.  i happene...</td>\n",
       "      <td>5</td>\n",
       "      <td>1</td>\n",
       "      <td>4</td>\n",
       "      <td>General</td>\n",
       "      <td>Dresses</td>\n",
       "      <td>Dresses</td>\n",
       "    </tr>\n",
       "    <tr>\n",
       "      <th>2</th>\n",
       "      <td>2</td>\n",
       "      <td>1077</td>\n",
       "      <td>60</td>\n",
       "      <td>Some major design flaws</td>\n",
       "      <td>I had such high hopes for this dress and reall...</td>\n",
       "      <td>3</td>\n",
       "      <td>0</td>\n",
       "      <td>0</td>\n",
       "      <td>General</td>\n",
       "      <td>Dresses</td>\n",
       "      <td>Dresses</td>\n",
       "    </tr>\n",
       "    <tr>\n",
       "      <th>3</th>\n",
       "      <td>3</td>\n",
       "      <td>1049</td>\n",
       "      <td>50</td>\n",
       "      <td>My favorite buy!</td>\n",
       "      <td>I love, love, love this jumpsuit. it's fun, fl...</td>\n",
       "      <td>5</td>\n",
       "      <td>1</td>\n",
       "      <td>0</td>\n",
       "      <td>General Petite</td>\n",
       "      <td>Bottoms</td>\n",
       "      <td>Pants</td>\n",
       "    </tr>\n",
       "    <tr>\n",
       "      <th>4</th>\n",
       "      <td>4</td>\n",
       "      <td>847</td>\n",
       "      <td>47</td>\n",
       "      <td>Flattering shirt</td>\n",
       "      <td>This shirt is very flattering to all due to th...</td>\n",
       "      <td>5</td>\n",
       "      <td>1</td>\n",
       "      <td>6</td>\n",
       "      <td>General</td>\n",
       "      <td>Tops</td>\n",
       "      <td>Blouses</td>\n",
       "    </tr>\n",
       "  </tbody>\n",
       "</table>\n",
       "</div>"
      ],
      "text/plain": [
       "   Unnamed: 0  Clothing ID  Age                    Title  \\\n",
       "0           0          767   33                      NaN   \n",
       "1           1         1080   34                      NaN   \n",
       "2           2         1077   60  Some major design flaws   \n",
       "3           3         1049   50         My favorite buy!   \n",
       "4           4          847   47         Flattering shirt   \n",
       "\n",
       "                                         Review Text  Rating  Recommended IND  \\\n",
       "0  Absolutely wonderful - silky and sexy and comf...       4                1   \n",
       "1  Love this dress!  it's sooo pretty.  i happene...       5                1   \n",
       "2  I had such high hopes for this dress and reall...       3                0   \n",
       "3  I love, love, love this jumpsuit. it's fun, fl...       5                1   \n",
       "4  This shirt is very flattering to all due to th...       5                1   \n",
       "\n",
       "   Positive Feedback Count   Division Name Department Name Class Name  \n",
       "0                        0       Initmates        Intimate  Intimates  \n",
       "1                        4         General         Dresses    Dresses  \n",
       "2                        0         General         Dresses    Dresses  \n",
       "3                        0  General Petite         Bottoms      Pants  \n",
       "4                        6         General            Tops    Blouses  "
      ]
     },
     "execution_count": 6,
     "metadata": {},
     "output_type": "execute_result"
    }
   ],
   "source": [
    "data.head()"
   ]
  },
  {
   "cell_type": "code",
   "execution_count": 7,
   "metadata": {},
   "outputs": [
    {
     "data": {
      "text/html": [
       "<div>\n",
       "<style scoped>\n",
       "    .dataframe tbody tr th:only-of-type {\n",
       "        vertical-align: middle;\n",
       "    }\n",
       "\n",
       "    .dataframe tbody tr th {\n",
       "        vertical-align: top;\n",
       "    }\n",
       "\n",
       "    .dataframe thead th {\n",
       "        text-align: right;\n",
       "    }\n",
       "</style>\n",
       "<table border=\"1\" class=\"dataframe\">\n",
       "  <thead>\n",
       "    <tr style=\"text-align: right;\">\n",
       "      <th></th>\n",
       "      <th>Unnamed: 0</th>\n",
       "      <th>Clothing ID</th>\n",
       "      <th>Age</th>\n",
       "      <th>Title</th>\n",
       "      <th>Review Text</th>\n",
       "      <th>Rating</th>\n",
       "      <th>Recommended IND</th>\n",
       "      <th>Positive Feedback Count</th>\n",
       "      <th>Division Name</th>\n",
       "      <th>Department Name</th>\n",
       "      <th>Class Name</th>\n",
       "    </tr>\n",
       "  </thead>\n",
       "  <tbody>\n",
       "    <tr>\n",
       "      <th>23481</th>\n",
       "      <td>23481</td>\n",
       "      <td>1104</td>\n",
       "      <td>34</td>\n",
       "      <td>Great dress for many occasions</td>\n",
       "      <td>I was very happy to snag this dress at such a ...</td>\n",
       "      <td>5</td>\n",
       "      <td>1</td>\n",
       "      <td>0</td>\n",
       "      <td>General Petite</td>\n",
       "      <td>Dresses</td>\n",
       "      <td>Dresses</td>\n",
       "    </tr>\n",
       "    <tr>\n",
       "      <th>23482</th>\n",
       "      <td>23482</td>\n",
       "      <td>862</td>\n",
       "      <td>48</td>\n",
       "      <td>Wish it was made of cotton</td>\n",
       "      <td>It reminds me of maternity clothes. soft, stre...</td>\n",
       "      <td>3</td>\n",
       "      <td>1</td>\n",
       "      <td>0</td>\n",
       "      <td>General Petite</td>\n",
       "      <td>Tops</td>\n",
       "      <td>Knits</td>\n",
       "    </tr>\n",
       "    <tr>\n",
       "      <th>23483</th>\n",
       "      <td>23483</td>\n",
       "      <td>1104</td>\n",
       "      <td>31</td>\n",
       "      <td>Cute, but see through</td>\n",
       "      <td>This fit well, but the top was very see throug...</td>\n",
       "      <td>3</td>\n",
       "      <td>0</td>\n",
       "      <td>1</td>\n",
       "      <td>General Petite</td>\n",
       "      <td>Dresses</td>\n",
       "      <td>Dresses</td>\n",
       "    </tr>\n",
       "    <tr>\n",
       "      <th>23484</th>\n",
       "      <td>23484</td>\n",
       "      <td>1084</td>\n",
       "      <td>28</td>\n",
       "      <td>Very cute dress, perfect for summer parties an...</td>\n",
       "      <td>I bought this dress for a wedding i have this ...</td>\n",
       "      <td>3</td>\n",
       "      <td>1</td>\n",
       "      <td>2</td>\n",
       "      <td>General</td>\n",
       "      <td>Dresses</td>\n",
       "      <td>Dresses</td>\n",
       "    </tr>\n",
       "    <tr>\n",
       "      <th>23485</th>\n",
       "      <td>23485</td>\n",
       "      <td>1104</td>\n",
       "      <td>52</td>\n",
       "      <td>Please make more like this one!</td>\n",
       "      <td>This dress in a lovely platinum is feminine an...</td>\n",
       "      <td>5</td>\n",
       "      <td>1</td>\n",
       "      <td>22</td>\n",
       "      <td>General Petite</td>\n",
       "      <td>Dresses</td>\n",
       "      <td>Dresses</td>\n",
       "    </tr>\n",
       "  </tbody>\n",
       "</table>\n",
       "</div>"
      ],
      "text/plain": [
       "       Unnamed: 0  Clothing ID  Age  \\\n",
       "23481       23481         1104   34   \n",
       "23482       23482          862   48   \n",
       "23483       23483         1104   31   \n",
       "23484       23484         1084   28   \n",
       "23485       23485         1104   52   \n",
       "\n",
       "                                                   Title  \\\n",
       "23481                     Great dress for many occasions   \n",
       "23482                         Wish it was made of cotton   \n",
       "23483                              Cute, but see through   \n",
       "23484  Very cute dress, perfect for summer parties an...   \n",
       "23485                    Please make more like this one!   \n",
       "\n",
       "                                             Review Text  Rating  \\\n",
       "23481  I was very happy to snag this dress at such a ...       5   \n",
       "23482  It reminds me of maternity clothes. soft, stre...       3   \n",
       "23483  This fit well, but the top was very see throug...       3   \n",
       "23484  I bought this dress for a wedding i have this ...       3   \n",
       "23485  This dress in a lovely platinum is feminine an...       5   \n",
       "\n",
       "       Recommended IND  Positive Feedback Count   Division Name  \\\n",
       "23481                1                        0  General Petite   \n",
       "23482                1                        0  General Petite   \n",
       "23483                0                        1  General Petite   \n",
       "23484                1                        2         General   \n",
       "23485                1                       22  General Petite   \n",
       "\n",
       "      Department Name Class Name  \n",
       "23481         Dresses    Dresses  \n",
       "23482            Tops      Knits  \n",
       "23483         Dresses    Dresses  \n",
       "23484         Dresses    Dresses  \n",
       "23485         Dresses    Dresses  "
      ]
     },
     "execution_count": 7,
     "metadata": {},
     "output_type": "execute_result"
    }
   ],
   "source": [
    "data.tail()"
   ]
  },
  {
   "cell_type": "code",
   "execution_count": 8,
   "metadata": {},
   "outputs": [
    {
     "name": "stdout",
     "output_type": "stream",
     "text": [
      "(23486, 11)\n",
      "Index(['Unnamed: 0', 'Clothing ID', 'Age', 'Title', 'Review Text', 'Rating',\n",
      "       'Recommended IND', 'Positive Feedback Count', 'Division Name',\n",
      "       'Department Name', 'Class Name'],\n",
      "      dtype='object')\n"
     ]
    }
   ],
   "source": [
    "print(data.shape)\n",
    "print(data.columns)"
   ]
  },
  {
   "cell_type": "code",
   "execution_count": 9,
   "metadata": {},
   "outputs": [
    {
     "data": {
      "text/plain": [
       "RangeIndex(start=0, stop=23486, step=1)"
      ]
     },
     "execution_count": 9,
     "metadata": {},
     "output_type": "execute_result"
    }
   ],
   "source": [
    "data.index"
   ]
  },
  {
   "cell_type": "code",
   "execution_count": 10,
   "metadata": {},
   "outputs": [
    {
     "data": {
      "text/plain": [
       "'Some major design flaws'"
      ]
     },
     "execution_count": 10,
     "metadata": {},
     "output_type": "execute_result"
    }
   ],
   "source": [
    "data.at[2, 'Title']"
   ]
  },
  {
   "cell_type": "code",
   "execution_count": 11,
   "metadata": {},
   "outputs": [
    {
     "data": {
      "text/plain": [
       "0                                                      NaN\n",
       "1                                                      NaN\n",
       "2                                  Some major design flaws\n",
       "3                                         My favorite buy!\n",
       "4                                         Flattering shirt\n",
       "5                                  Not for the very petite\n",
       "6                                     Cagrcoal shimmer fun\n",
       "7                     Shimmer, surprisingly goes with lots\n",
       "8                                               Flattering\n",
       "9                                        Such a fun dress!\n",
       "10            Dress looks like it's made of cheap material\n",
       "11                                                     NaN\n",
       "12                                              Perfect!!!\n",
       "13                                                Runs big\n",
       "14                     Pretty party dress with some issues\n",
       "15                               Nice, but not for my body\n",
       "16       You need to be at least average height, or taller\n",
       "17                            Looks great with white pants\n",
       "18                                     Super cute and cozy\n",
       "19                                 Stylish and comfortable\n",
       "20                                       Cute, crisp shirt\n",
       "21                                               I'm torn!\n",
       "22                                  Not what it looks like\n",
       "23                             Like it, but don't love it.\n",
       "24                                               Versatile\n",
       "25                                              Falls flat\n",
       "26                                     Huge disappointment\n",
       "27                                     Loved, but returned\n",
       "28                                          Great shirt!!!\n",
       "29                                    Great layering piece\n",
       "                               ...                        \n",
       "23456                  Flattering and lovely sweater dress\n",
       "23457                                             Adorable\n",
       "23458                                                  NaN\n",
       "23459                                  Perfect except slip\n",
       "23460                                     Such high hopes!\n",
       "23461           Comfortable but not super-flattering on me\n",
       "23462                                             Its okay\n",
       "23463                                          Comfy pants\n",
       "23464                                          Compliments\n",
       "23465                                         Falls nicely\n",
       "23466                                       Cute and comfy\n",
       "23467                                    Super flattering!\n",
       "23468                                        Sweet stripes\n",
       "23469                                       Comfy and cute\n",
       "23470                                                  NaN\n",
       "23471                                   Awkward fit for me\n",
       "23472                                     Perfectly drapey\n",
       "23473                                        Perfect dress\n",
       "23474                               Much better in person!\n",
       "23475                                           Cute dress\n",
       "23476                                              Cheeky!\n",
       "23477                                           Entrancing\n",
       "23478                                         Unflattering\n",
       "23479                                    What a fun piece!\n",
       "23480                                                  NaN\n",
       "23481                       Great dress for many occasions\n",
       "23482                           Wish it was made of cotton\n",
       "23483                                Cute, but see through\n",
       "23484    Very cute dress, perfect for summer parties an...\n",
       "23485                      Please make more like this one!\n",
       "Name: Title, Length: 23486, dtype: object"
      ]
     },
     "execution_count": 11,
     "metadata": {},
     "output_type": "execute_result"
    }
   ],
   "source": [
    "data['Title']"
   ]
  },
  {
   "cell_type": "code",
   "execution_count": 12,
   "metadata": {},
   "outputs": [
    {
     "data": {
      "text/plain": [
       "'Flattering shirt'"
      ]
     },
     "execution_count": 12,
     "metadata": {},
     "output_type": "execute_result"
    }
   ],
   "source": [
    "data['Title'][4]"
   ]
  },
  {
   "cell_type": "code",
   "execution_count": 13,
   "metadata": {},
   "outputs": [
    {
     "data": {
      "text/plain": [
       "'object'"
      ]
     },
     "execution_count": 13,
     "metadata": {},
     "output_type": "execute_result"
    }
   ],
   "source": [
    "data['Title'].dtype.name"
   ]
  },
  {
   "cell_type": "code",
   "execution_count": 14,
   "metadata": {},
   "outputs": [
    {
     "data": {
      "text/plain": [
       "str"
      ]
     },
     "execution_count": 14,
     "metadata": {},
     "output_type": "execute_result"
    }
   ],
   "source": [
    "type(data['Title'][4])"
   ]
  },
  {
   "cell_type": "code",
   "execution_count": 15,
   "metadata": {},
   "outputs": [
    {
     "data": {
      "text/plain": [
       "pandas.core.series.Series"
      ]
     },
     "execution_count": 15,
     "metadata": {},
     "output_type": "execute_result"
    }
   ],
   "source": [
    "type(data['Title'])"
   ]
  },
  {
   "cell_type": "code",
   "execution_count": 16,
   "metadata": {},
   "outputs": [
    {
     "data": {
      "text/html": [
       "<div>\n",
       "<style scoped>\n",
       "    .dataframe tbody tr th:only-of-type {\n",
       "        vertical-align: middle;\n",
       "    }\n",
       "\n",
       "    .dataframe tbody tr th {\n",
       "        vertical-align: top;\n",
       "    }\n",
       "\n",
       "    .dataframe thead th {\n",
       "        text-align: right;\n",
       "    }\n",
       "</style>\n",
       "<table border=\"1\" class=\"dataframe\">\n",
       "  <thead>\n",
       "    <tr style=\"text-align: right;\">\n",
       "      <th></th>\n",
       "      <th>Title</th>\n",
       "      <th>Division Name</th>\n",
       "    </tr>\n",
       "  </thead>\n",
       "  <tbody>\n",
       "    <tr>\n",
       "      <th>0</th>\n",
       "      <td>NaN</td>\n",
       "      <td>Initmates</td>\n",
       "    </tr>\n",
       "    <tr>\n",
       "      <th>1</th>\n",
       "      <td>NaN</td>\n",
       "      <td>General</td>\n",
       "    </tr>\n",
       "    <tr>\n",
       "      <th>2</th>\n",
       "      <td>Some major design flaws</td>\n",
       "      <td>General</td>\n",
       "    </tr>\n",
       "    <tr>\n",
       "      <th>3</th>\n",
       "      <td>My favorite buy!</td>\n",
       "      <td>General Petite</td>\n",
       "    </tr>\n",
       "    <tr>\n",
       "      <th>4</th>\n",
       "      <td>Flattering shirt</td>\n",
       "      <td>General</td>\n",
       "    </tr>\n",
       "  </tbody>\n",
       "</table>\n",
       "</div>"
      ],
      "text/plain": [
       "                     Title   Division Name\n",
       "0                      NaN       Initmates\n",
       "1                      NaN         General\n",
       "2  Some major design flaws         General\n",
       "3         My favorite buy!  General Petite\n",
       "4         Flattering shirt         General"
      ]
     },
     "execution_count": 16,
     "metadata": {},
     "output_type": "execute_result"
    }
   ],
   "source": [
    "data[['Title', 'Division Name']].head()"
   ]
  },
  {
   "cell_type": "code",
   "execution_count": 17,
   "metadata": {},
   "outputs": [
    {
     "data": {
      "text/html": [
       "<div>\n",
       "<style scoped>\n",
       "    .dataframe tbody tr th:only-of-type {\n",
       "        vertical-align: middle;\n",
       "    }\n",
       "\n",
       "    .dataframe tbody tr th {\n",
       "        vertical-align: top;\n",
       "    }\n",
       "\n",
       "    .dataframe thead th {\n",
       "        text-align: right;\n",
       "    }\n",
       "</style>\n",
       "<table border=\"1\" class=\"dataframe\">\n",
       "  <thead>\n",
       "    <tr style=\"text-align: right;\">\n",
       "      <th></th>\n",
       "      <th>Unnamed: 0</th>\n",
       "      <th>Clothing ID</th>\n",
       "      <th>Age</th>\n",
       "      <th>Rating</th>\n",
       "      <th>Recommended IND</th>\n",
       "      <th>Positive Feedback Count</th>\n",
       "    </tr>\n",
       "  </thead>\n",
       "  <tbody>\n",
       "    <tr>\n",
       "      <th>count</th>\n",
       "      <td>23486.000000</td>\n",
       "      <td>23486.000000</td>\n",
       "      <td>23486.000000</td>\n",
       "      <td>23486.000000</td>\n",
       "      <td>23486.000000</td>\n",
       "      <td>23486.000000</td>\n",
       "    </tr>\n",
       "    <tr>\n",
       "      <th>mean</th>\n",
       "      <td>11742.500000</td>\n",
       "      <td>918.118709</td>\n",
       "      <td>43.198544</td>\n",
       "      <td>4.196032</td>\n",
       "      <td>0.822362</td>\n",
       "      <td>2.535936</td>\n",
       "    </tr>\n",
       "    <tr>\n",
       "      <th>std</th>\n",
       "      <td>6779.968547</td>\n",
       "      <td>203.298980</td>\n",
       "      <td>12.279544</td>\n",
       "      <td>1.110031</td>\n",
       "      <td>0.382216</td>\n",
       "      <td>5.702202</td>\n",
       "    </tr>\n",
       "    <tr>\n",
       "      <th>min</th>\n",
       "      <td>0.000000</td>\n",
       "      <td>0.000000</td>\n",
       "      <td>18.000000</td>\n",
       "      <td>1.000000</td>\n",
       "      <td>0.000000</td>\n",
       "      <td>0.000000</td>\n",
       "    </tr>\n",
       "    <tr>\n",
       "      <th>25%</th>\n",
       "      <td>5871.250000</td>\n",
       "      <td>861.000000</td>\n",
       "      <td>34.000000</td>\n",
       "      <td>4.000000</td>\n",
       "      <td>1.000000</td>\n",
       "      <td>0.000000</td>\n",
       "    </tr>\n",
       "    <tr>\n",
       "      <th>50%</th>\n",
       "      <td>11742.500000</td>\n",
       "      <td>936.000000</td>\n",
       "      <td>41.000000</td>\n",
       "      <td>5.000000</td>\n",
       "      <td>1.000000</td>\n",
       "      <td>1.000000</td>\n",
       "    </tr>\n",
       "    <tr>\n",
       "      <th>75%</th>\n",
       "      <td>17613.750000</td>\n",
       "      <td>1078.000000</td>\n",
       "      <td>52.000000</td>\n",
       "      <td>5.000000</td>\n",
       "      <td>1.000000</td>\n",
       "      <td>3.000000</td>\n",
       "    </tr>\n",
       "    <tr>\n",
       "      <th>max</th>\n",
       "      <td>23485.000000</td>\n",
       "      <td>1205.000000</td>\n",
       "      <td>99.000000</td>\n",
       "      <td>5.000000</td>\n",
       "      <td>1.000000</td>\n",
       "      <td>122.000000</td>\n",
       "    </tr>\n",
       "  </tbody>\n",
       "</table>\n",
       "</div>"
      ],
      "text/plain": [
       "         Unnamed: 0   Clothing ID           Age        Rating  \\\n",
       "count  23486.000000  23486.000000  23486.000000  23486.000000   \n",
       "mean   11742.500000    918.118709     43.198544      4.196032   \n",
       "std     6779.968547    203.298980     12.279544      1.110031   \n",
       "min        0.000000      0.000000     18.000000      1.000000   \n",
       "25%     5871.250000    861.000000     34.000000      4.000000   \n",
       "50%    11742.500000    936.000000     41.000000      5.000000   \n",
       "75%    17613.750000   1078.000000     52.000000      5.000000   \n",
       "max    23485.000000   1205.000000     99.000000      5.000000   \n",
       "\n",
       "       Recommended IND  Positive Feedback Count  \n",
       "count     23486.000000             23486.000000  \n",
       "mean          0.822362                 2.535936  \n",
       "std           0.382216                 5.702202  \n",
       "min           0.000000                 0.000000  \n",
       "25%           1.000000                 0.000000  \n",
       "50%           1.000000                 1.000000  \n",
       "75%           1.000000                 3.000000  \n",
       "max           1.000000               122.000000  "
      ]
     },
     "execution_count": 17,
     "metadata": {},
     "output_type": "execute_result"
    }
   ],
   "source": [
    "data.describe()"
   ]
  },
  {
   "cell_type": "code",
   "execution_count": 18,
   "metadata": {},
   "outputs": [
    {
     "ename": "ModuleNotFoundError",
     "evalue": "No module named 'pandas.tools'",
     "output_type": "error",
     "traceback": [
      "\u001b[1;31m---------------------------------------------------------------------------\u001b[0m",
      "\u001b[1;31mModuleNotFoundError\u001b[0m                       Traceback (most recent call last)",
      "\u001b[1;32m<ipython-input-18-d9f15f9ec828>\u001b[0m in \u001b[0;36m<module>\u001b[1;34m\u001b[0m\n\u001b[1;32m----> 1\u001b[1;33m \u001b[1;32mimport\u001b[0m \u001b[0mpandas\u001b[0m\u001b[1;33m.\u001b[0m\u001b[0mtools\u001b[0m\u001b[1;33m.\u001b[0m\u001b[0mplotting\u001b[0m\u001b[1;33m\u001b[0m\u001b[1;33m\u001b[0m\u001b[0m\n\u001b[0m\u001b[0;32m      2\u001b[0m \u001b[1;32mfrom\u001b[0m \u001b[0mpandas\u001b[0m\u001b[1;33m.\u001b[0m\u001b[0mtools\u001b[0m\u001b[1;33m.\u001b[0m\u001b[0mplotting\u001b[0m \u001b[1;32mimport\u001b[0m \u001b[0mscatter_matrix\u001b[0m\u001b[1;33m\u001b[0m\u001b[1;33m\u001b[0m\u001b[0m\n\u001b[0;32m      3\u001b[0m \u001b[0mscatter_matrix\u001b[0m\u001b[1;33m(\u001b[0m\u001b[0mdata\u001b[0m\u001b[1;33m,\u001b[0m \u001b[0malpha\u001b[0m \u001b[1;33m=\u001b[0m \u001b[1;36m.01\u001b[0m\u001b[1;33m,\u001b[0m \u001b[0mfigsize\u001b[0m \u001b[1;33m=\u001b[0m \u001b[1;33m(\u001b[0m\u001b[1;36m10\u001b[0m\u001b[1;33m,\u001b[0m \u001b[1;36m10\u001b[0m\u001b[1;33m)\u001b[0m\u001b[1;33m)\u001b[0m\u001b[1;33m\u001b[0m\u001b[1;33m\u001b[0m\u001b[0m\n\u001b[0;32m      4\u001b[0m \u001b[1;32mpass\u001b[0m\u001b[1;33m\u001b[0m\u001b[1;33m\u001b[0m\u001b[0m\n",
      "\u001b[1;31mModuleNotFoundError\u001b[0m: No module named 'pandas.tools'"
     ]
    }
   ],
   "source": [
    "import pandas.tools.plotting \n",
    "from pandas.tools.plotting import scatter_matrix\n",
    "scatter_matrix(data, alpha = .01, figsize = (10, 10))\n",
    "pass"
   ]
  },
  {
   "cell_type": "code",
   "execution_count": null,
   "metadata": {},
   "outputs": [],
   "source": [
    "data.corr()"
   ]
  },
  {
   "cell_type": "code",
   "execution_count": null,
   "metadata": {},
   "outputs": [],
   "source": [
    "plt.plot(data['Clothing ID'], data['Age'], 'o', alpha = 0.05)\n",
    "plt.xlabel('Clothing ID')\n",
    "plt.ylabel('Age')\n",
    "plt.title('Clothing ID vs Age')\n",
    "pass"
   ]
  },
  {
   "cell_type": "code",
   "execution_count": 19,
   "metadata": {},
   "outputs": [
    {
     "data": {
      "text/plain": [
       "0        False\n",
       "1         True\n",
       "2         True\n",
       "3        False\n",
       "4         True\n",
       "5         True\n",
       "6        False\n",
       "7        False\n",
       "8         True\n",
       "9         True\n",
       "10        True\n",
       "11       False\n",
       "12       False\n",
       "13       False\n",
       "14        True\n",
       "15        True\n",
       "16        True\n",
       "17        True\n",
       "18        True\n",
       "19        True\n",
       "20        True\n",
       "21        True\n",
       "22        True\n",
       "23        True\n",
       "24        True\n",
       "25       False\n",
       "26        True\n",
       "27        True\n",
       "28       False\n",
       "29        True\n",
       "         ...  \n",
       "23456    False\n",
       "23457    False\n",
       "23458    False\n",
       "23459    False\n",
       "23460     True\n",
       "23461    False\n",
       "23462     True\n",
       "23463    False\n",
       "23464    False\n",
       "23465     True\n",
       "23466    False\n",
       "23467    False\n",
       "23468    False\n",
       "23469    False\n",
       "23470    False\n",
       "23471    False\n",
       "23472     True\n",
       "23473    False\n",
       "23474    False\n",
       "23475    False\n",
       "23476    False\n",
       "23477    False\n",
       "23478    False\n",
       "23479    False\n",
       "23480    False\n",
       "23481    False\n",
       "23482    False\n",
       "23483    False\n",
       "23484     True\n",
       "23485    False\n",
       "Name: Division Name, Length: 23486, dtype: bool"
      ]
     },
     "execution_count": 19,
     "metadata": {},
     "output_type": "execute_result"
    }
   ],
   "source": [
    "data['Division Name'] == 'General'"
   ]
  },
  {
   "cell_type": "code",
   "execution_count": 20,
   "metadata": {
    "scrolled": true
   },
   "outputs": [
    {
     "data": {
      "image/png": "[encoded data removed]",
      "text/plain": [
       "<Figure size 720x432 with 1 Axes>"
      ]
     },
     "metadata": {
      "needs_background": "light"
     },
     "output_type": "display_data"
    }
   ],
   "source": [
    "plt.figure(figsize = (10, 6))\n",
    "\n",
    "plt.scatter(data[data['Division Name'] == 'General Petite']['Positive Feedback Count'],\n",
    "            data[data['Division Name'] == 'General Petite']['Rating'],\n",
    "            alpha = 0.15,\n",
    "            label = 'General Petite',\n",
    "            color = 'b')\n",
    "\n",
    "plt.scatter(data[data['Division Name'] == 'Petite']['Positive Feedback Count'],\n",
    "            data[data['Division Name'] == 'Petite']['Rating'],\n",
    "            alpha = 0.05,\n",
    "            label = 'Petite',\n",
    "            color = 'r')\n",
    "\n",
    "plt.xlabel('Positive Feedback Count')\n",
    "plt.xticks(range(50))\n",
    "plt.xlim(0, 50)\n",
    "plt.ylabel('Rating')\n",
    "plt.legend()\n",
    "plt.grid()"
   ]
  },
  {
   "cell_type": "markdown",
   "metadata": {
    "collapsed": true
   },
   "source": [
    "## Постановка задачи и подготовка данных"
   ]
  },
  {
   "cell_type": "markdown",
   "metadata": {},
   "source": [
    "#### Задачей данной лабораторной работы является определение того, как сочитание различных параметров оценки товара (количество положительных отзывов, рекомендуют они его или нет) покупателями влияет на их предпочтения. Данная задача представляет интерес для реальных маркетинговых исследований, и могла бы помочь производителям лучше понимать, что нравится клиентам.\n",
    "#### Для дальнейших действий нужно подготовить данные: удалим некоторые столбцы, заполним пропущенные значения. Такие признаки как division name, department name не являются существенными при поставленной задаче. Также не будем учитывать содержание самого отзывы и его название. "
   ]
  },
  {
   "cell_type": "code",
   "execution_count": 21,
   "metadata": {},
   "outputs": [],
   "source": [
    "data = data.drop('Unnamed: 0', axis = 1)\\\n",
    "           .drop('Title', axis = 1)\\\n",
    "           .drop('Review Text', axis = 1)\\\n",
    "           .drop('Division Name', axis = 1)\\\n",
    "           .drop('Department Name', axis = 1)\\\n",
    "           .drop('Clothing ID', axis = 1)\\\n",
    "           "
   ]
  },
  {
   "cell_type": "code",
   "execution_count": 22,
   "metadata": {},
   "outputs": [
    {
     "data": {
      "text/html": [
       "<div>\n",
       "<style scoped>\n",
       "    .dataframe tbody tr th:only-of-type {\n",
       "        vertical-align: middle;\n",
       "    }\n",
       "\n",
       "    .dataframe tbody tr th {\n",
       "        vertical-align: top;\n",
       "    }\n",
       "\n",
       "    .dataframe thead th {\n",
       "        text-align: right;\n",
       "    }\n",
       "</style>\n",
       "<table border=\"1\" class=\"dataframe\">\n",
       "  <thead>\n",
       "    <tr style=\"text-align: right;\">\n",
       "      <th></th>\n",
       "      <th>Age</th>\n",
       "      <th>Rating</th>\n",
       "      <th>Recommended IND</th>\n",
       "      <th>Positive Feedback Count</th>\n",
       "      <th>Class Name</th>\n",
       "    </tr>\n",
       "  </thead>\n",
       "  <tbody>\n",
       "    <tr>\n",
       "      <th>0</th>\n",
       "      <td>33</td>\n",
       "      <td>4</td>\n",
       "      <td>1</td>\n",
       "      <td>0</td>\n",
       "      <td>Intimates</td>\n",
       "    </tr>\n",
       "    <tr>\n",
       "      <th>1</th>\n",
       "      <td>34</td>\n",
       "      <td>5</td>\n",
       "      <td>1</td>\n",
       "      <td>4</td>\n",
       "      <td>Dresses</td>\n",
       "    </tr>\n",
       "    <tr>\n",
       "      <th>2</th>\n",
       "      <td>60</td>\n",
       "      <td>3</td>\n",
       "      <td>0</td>\n",
       "      <td>0</td>\n",
       "      <td>Dresses</td>\n",
       "    </tr>\n",
       "    <tr>\n",
       "      <th>3</th>\n",
       "      <td>50</td>\n",
       "      <td>5</td>\n",
       "      <td>1</td>\n",
       "      <td>0</td>\n",
       "      <td>Pants</td>\n",
       "    </tr>\n",
       "    <tr>\n",
       "      <th>4</th>\n",
       "      <td>47</td>\n",
       "      <td>5</td>\n",
       "      <td>1</td>\n",
       "      <td>6</td>\n",
       "      <td>Blouses</td>\n",
       "    </tr>\n",
       "    <tr>\n",
       "      <th>5</th>\n",
       "      <td>49</td>\n",
       "      <td>2</td>\n",
       "      <td>0</td>\n",
       "      <td>4</td>\n",
       "      <td>Dresses</td>\n",
       "    </tr>\n",
       "    <tr>\n",
       "      <th>6</th>\n",
       "      <td>39</td>\n",
       "      <td>5</td>\n",
       "      <td>1</td>\n",
       "      <td>1</td>\n",
       "      <td>Knits</td>\n",
       "    </tr>\n",
       "    <tr>\n",
       "      <th>7</th>\n",
       "      <td>39</td>\n",
       "      <td>4</td>\n",
       "      <td>1</td>\n",
       "      <td>4</td>\n",
       "      <td>Knits</td>\n",
       "    </tr>\n",
       "    <tr>\n",
       "      <th>8</th>\n",
       "      <td>24</td>\n",
       "      <td>5</td>\n",
       "      <td>1</td>\n",
       "      <td>0</td>\n",
       "      <td>Dresses</td>\n",
       "    </tr>\n",
       "    <tr>\n",
       "      <th>9</th>\n",
       "      <td>34</td>\n",
       "      <td>5</td>\n",
       "      <td>1</td>\n",
       "      <td>0</td>\n",
       "      <td>Dresses</td>\n",
       "    </tr>\n",
       "    <tr>\n",
       "      <th>10</th>\n",
       "      <td>53</td>\n",
       "      <td>3</td>\n",
       "      <td>0</td>\n",
       "      <td>14</td>\n",
       "      <td>Dresses</td>\n",
       "    </tr>\n",
       "    <tr>\n",
       "      <th>11</th>\n",
       "      <td>39</td>\n",
       "      <td>5</td>\n",
       "      <td>1</td>\n",
       "      <td>2</td>\n",
       "      <td>Dresses</td>\n",
       "    </tr>\n",
       "    <tr>\n",
       "      <th>12</th>\n",
       "      <td>53</td>\n",
       "      <td>5</td>\n",
       "      <td>1</td>\n",
       "      <td>2</td>\n",
       "      <td>Dresses</td>\n",
       "    </tr>\n",
       "    <tr>\n",
       "      <th>13</th>\n",
       "      <td>44</td>\n",
       "      <td>5</td>\n",
       "      <td>1</td>\n",
       "      <td>0</td>\n",
       "      <td>Intimates</td>\n",
       "    </tr>\n",
       "    <tr>\n",
       "      <th>14</th>\n",
       "      <td>50</td>\n",
       "      <td>3</td>\n",
       "      <td>1</td>\n",
       "      <td>1</td>\n",
       "      <td>Dresses</td>\n",
       "    </tr>\n",
       "    <tr>\n",
       "      <th>15</th>\n",
       "      <td>47</td>\n",
       "      <td>4</td>\n",
       "      <td>1</td>\n",
       "      <td>3</td>\n",
       "      <td>Pants</td>\n",
       "    </tr>\n",
       "    <tr>\n",
       "      <th>16</th>\n",
       "      <td>34</td>\n",
       "      <td>3</td>\n",
       "      <td>1</td>\n",
       "      <td>2</td>\n",
       "      <td>Pants</td>\n",
       "    </tr>\n",
       "    <tr>\n",
       "      <th>17</th>\n",
       "      <td>41</td>\n",
       "      <td>5</td>\n",
       "      <td>1</td>\n",
       "      <td>0</td>\n",
       "      <td>Blouses</td>\n",
       "    </tr>\n",
       "    <tr>\n",
       "      <th>18</th>\n",
       "      <td>32</td>\n",
       "      <td>5</td>\n",
       "      <td>1</td>\n",
       "      <td>0</td>\n",
       "      <td>Outerwear</td>\n",
       "    </tr>\n",
       "    <tr>\n",
       "      <th>19</th>\n",
       "      <td>47</td>\n",
       "      <td>5</td>\n",
       "      <td>1</td>\n",
       "      <td>0</td>\n",
       "      <td>Dresses</td>\n",
       "    </tr>\n",
       "    <tr>\n",
       "      <th>20</th>\n",
       "      <td>33</td>\n",
       "      <td>4</td>\n",
       "      <td>1</td>\n",
       "      <td>2</td>\n",
       "      <td>Blouses</td>\n",
       "    </tr>\n",
       "    <tr>\n",
       "      <th>21</th>\n",
       "      <td>55</td>\n",
       "      <td>4</td>\n",
       "      <td>1</td>\n",
       "      <td>14</td>\n",
       "      <td>Dresses</td>\n",
       "    </tr>\n",
       "    <tr>\n",
       "      <th>22</th>\n",
       "      <td>31</td>\n",
       "      <td>2</td>\n",
       "      <td>0</td>\n",
       "      <td>7</td>\n",
       "      <td>Dresses</td>\n",
       "    </tr>\n",
       "    <tr>\n",
       "      <th>23</th>\n",
       "      <td>34</td>\n",
       "      <td>3</td>\n",
       "      <td>1</td>\n",
       "      <td>0</td>\n",
       "      <td>Dresses</td>\n",
       "    </tr>\n",
       "    <tr>\n",
       "      <th>24</th>\n",
       "      <td>55</td>\n",
       "      <td>5</td>\n",
       "      <td>1</td>\n",
       "      <td>0</td>\n",
       "      <td>Blouses</td>\n",
       "    </tr>\n",
       "    <tr>\n",
       "      <th>25</th>\n",
       "      <td>31</td>\n",
       "      <td>3</td>\n",
       "      <td>0</td>\n",
       "      <td>0</td>\n",
       "      <td>Lounge</td>\n",
       "    </tr>\n",
       "    <tr>\n",
       "      <th>26</th>\n",
       "      <td>33</td>\n",
       "      <td>2</td>\n",
       "      <td>0</td>\n",
       "      <td>0</td>\n",
       "      <td>Sweaters</td>\n",
       "    </tr>\n",
       "    <tr>\n",
       "      <th>27</th>\n",
       "      <td>31</td>\n",
       "      <td>4</td>\n",
       "      <td>1</td>\n",
       "      <td>0</td>\n",
       "      <td>Skirts</td>\n",
       "    </tr>\n",
       "    <tr>\n",
       "      <th>28</th>\n",
       "      <td>53</td>\n",
       "      <td>5</td>\n",
       "      <td>1</td>\n",
       "      <td>2</td>\n",
       "      <td>Lounge</td>\n",
       "    </tr>\n",
       "    <tr>\n",
       "      <th>29</th>\n",
       "      <td>28</td>\n",
       "      <td>5</td>\n",
       "      <td>1</td>\n",
       "      <td>0</td>\n",
       "      <td>Sweaters</td>\n",
       "    </tr>\n",
       "    <tr>\n",
       "      <th>...</th>\n",
       "      <td>...</td>\n",
       "      <td>...</td>\n",
       "      <td>...</td>\n",
       "      <td>...</td>\n",
       "      <td>...</td>\n",
       "    </tr>\n",
       "    <tr>\n",
       "      <th>23456</th>\n",
       "      <td>35</td>\n",
       "      <td>5</td>\n",
       "      <td>1</td>\n",
       "      <td>3</td>\n",
       "      <td>Dresses</td>\n",
       "    </tr>\n",
       "    <tr>\n",
       "      <th>23457</th>\n",
       "      <td>49</td>\n",
       "      <td>5</td>\n",
       "      <td>1</td>\n",
       "      <td>3</td>\n",
       "      <td>Lounge</td>\n",
       "    </tr>\n",
       "    <tr>\n",
       "      <th>23458</th>\n",
       "      <td>63</td>\n",
       "      <td>5</td>\n",
       "      <td>1</td>\n",
       "      <td>0</td>\n",
       "      <td>Knits</td>\n",
       "    </tr>\n",
       "    <tr>\n",
       "      <th>23459</th>\n",
       "      <td>57</td>\n",
       "      <td>4</td>\n",
       "      <td>1</td>\n",
       "      <td>3</td>\n",
       "      <td>Dresses</td>\n",
       "    </tr>\n",
       "    <tr>\n",
       "      <th>23460</th>\n",
       "      <td>34</td>\n",
       "      <td>3</td>\n",
       "      <td>0</td>\n",
       "      <td>0</td>\n",
       "      <td>Dresses</td>\n",
       "    </tr>\n",
       "    <tr>\n",
       "      <th>23461</th>\n",
       "      <td>49</td>\n",
       "      <td>4</td>\n",
       "      <td>1</td>\n",
       "      <td>1</td>\n",
       "      <td>Lounge</td>\n",
       "    </tr>\n",
       "    <tr>\n",
       "      <th>23462</th>\n",
       "      <td>24</td>\n",
       "      <td>3</td>\n",
       "      <td>1</td>\n",
       "      <td>0</td>\n",
       "      <td>Skirts</td>\n",
       "    </tr>\n",
       "    <tr>\n",
       "      <th>23463</th>\n",
       "      <td>65</td>\n",
       "      <td>4</td>\n",
       "      <td>1</td>\n",
       "      <td>1</td>\n",
       "      <td>Lounge</td>\n",
       "    </tr>\n",
       "    <tr>\n",
       "      <th>23464</th>\n",
       "      <td>42</td>\n",
       "      <td>5</td>\n",
       "      <td>1</td>\n",
       "      <td>3</td>\n",
       "      <td>Dresses</td>\n",
       "    </tr>\n",
       "    <tr>\n",
       "      <th>23465</th>\n",
       "      <td>41</td>\n",
       "      <td>5</td>\n",
       "      <td>1</td>\n",
       "      <td>0</td>\n",
       "      <td>Dresses</td>\n",
       "    </tr>\n",
       "    <tr>\n",
       "      <th>23466</th>\n",
       "      <td>34</td>\n",
       "      <td>4</td>\n",
       "      <td>1</td>\n",
       "      <td>0</td>\n",
       "      <td>Dresses</td>\n",
       "    </tr>\n",
       "    <tr>\n",
       "      <th>23467</th>\n",
       "      <td>60</td>\n",
       "      <td>5</td>\n",
       "      <td>1</td>\n",
       "      <td>23</td>\n",
       "      <td>Dresses</td>\n",
       "    </tr>\n",
       "    <tr>\n",
       "      <th>23468</th>\n",
       "      <td>35</td>\n",
       "      <td>5</td>\n",
       "      <td>1</td>\n",
       "      <td>3</td>\n",
       "      <td>Lounge</td>\n",
       "    </tr>\n",
       "    <tr>\n",
       "      <th>23469</th>\n",
       "      <td>50</td>\n",
       "      <td>4</td>\n",
       "      <td>1</td>\n",
       "      <td>0</td>\n",
       "      <td>Lounge</td>\n",
       "    </tr>\n",
       "    <tr>\n",
       "      <th>23470</th>\n",
       "      <td>39</td>\n",
       "      <td>5</td>\n",
       "      <td>1</td>\n",
       "      <td>0</td>\n",
       "      <td>Dresses</td>\n",
       "    </tr>\n",
       "    <tr>\n",
       "      <th>23471</th>\n",
       "      <td>31</td>\n",
       "      <td>4</td>\n",
       "      <td>1</td>\n",
       "      <td>0</td>\n",
       "      <td>Lounge</td>\n",
       "    </tr>\n",
       "    <tr>\n",
       "      <th>23472</th>\n",
       "      <td>32</td>\n",
       "      <td>5</td>\n",
       "      <td>1</td>\n",
       "      <td>0</td>\n",
       "      <td>Knits</td>\n",
       "    </tr>\n",
       "    <tr>\n",
       "      <th>23473</th>\n",
       "      <td>29</td>\n",
       "      <td>5</td>\n",
       "      <td>1</td>\n",
       "      <td>1</td>\n",
       "      <td>Dresses</td>\n",
       "    </tr>\n",
       "    <tr>\n",
       "      <th>23474</th>\n",
       "      <td>32</td>\n",
       "      <td>5</td>\n",
       "      <td>1</td>\n",
       "      <td>0</td>\n",
       "      <td>Dresses</td>\n",
       "    </tr>\n",
       "    <tr>\n",
       "      <th>23475</th>\n",
       "      <td>41</td>\n",
       "      <td>3</td>\n",
       "      <td>1</td>\n",
       "      <td>0</td>\n",
       "      <td>Dresses</td>\n",
       "    </tr>\n",
       "    <tr>\n",
       "      <th>23476</th>\n",
       "      <td>27</td>\n",
       "      <td>4</td>\n",
       "      <td>1</td>\n",
       "      <td>0</td>\n",
       "      <td>Swim</td>\n",
       "    </tr>\n",
       "    <tr>\n",
       "      <th>23477</th>\n",
       "      <td>39</td>\n",
       "      <td>4</td>\n",
       "      <td>1</td>\n",
       "      <td>5</td>\n",
       "      <td>Dresses</td>\n",
       "    </tr>\n",
       "    <tr>\n",
       "      <th>23478</th>\n",
       "      <td>32</td>\n",
       "      <td>1</td>\n",
       "      <td>0</td>\n",
       "      <td>0</td>\n",
       "      <td>Dresses</td>\n",
       "    </tr>\n",
       "    <tr>\n",
       "      <th>23479</th>\n",
       "      <td>42</td>\n",
       "      <td>5</td>\n",
       "      <td>1</td>\n",
       "      <td>0</td>\n",
       "      <td>Skirts</td>\n",
       "    </tr>\n",
       "    <tr>\n",
       "      <th>23480</th>\n",
       "      <td>35</td>\n",
       "      <td>5</td>\n",
       "      <td>1</td>\n",
       "      <td>0</td>\n",
       "      <td>Knits</td>\n",
       "    </tr>\n",
       "    <tr>\n",
       "      <th>23481</th>\n",
       "      <td>34</td>\n",
       "      <td>5</td>\n",
       "      <td>1</td>\n",
       "      <td>0</td>\n",
       "      <td>Dresses</td>\n",
       "    </tr>\n",
       "    <tr>\n",
       "      <th>23482</th>\n",
       "      <td>48</td>\n",
       "      <td>3</td>\n",
       "      <td>1</td>\n",
       "      <td>0</td>\n",
       "      <td>Knits</td>\n",
       "    </tr>\n",
       "    <tr>\n",
       "      <th>23483</th>\n",
       "      <td>31</td>\n",
       "      <td>3</td>\n",
       "      <td>0</td>\n",
       "      <td>1</td>\n",
       "      <td>Dresses</td>\n",
       "    </tr>\n",
       "    <tr>\n",
       "      <th>23484</th>\n",
       "      <td>28</td>\n",
       "      <td>3</td>\n",
       "      <td>1</td>\n",
       "      <td>2</td>\n",
       "      <td>Dresses</td>\n",
       "    </tr>\n",
       "    <tr>\n",
       "      <th>23485</th>\n",
       "      <td>52</td>\n",
       "      <td>5</td>\n",
       "      <td>1</td>\n",
       "      <td>22</td>\n",
       "      <td>Dresses</td>\n",
       "    </tr>\n",
       "  </tbody>\n",
       "</table>\n",
       "<p>23486 rows × 5 columns</p>\n",
       "</div>"
      ],
      "text/plain": [
       "       Age  Rating  Recommended IND  Positive Feedback Count Class Name\n",
       "0       33       4                1                        0  Intimates\n",
       "1       34       5                1                        4    Dresses\n",
       "2       60       3                0                        0    Dresses\n",
       "3       50       5                1                        0      Pants\n",
       "4       47       5                1                        6    Blouses\n",
       "5       49       2                0                        4    Dresses\n",
       "6       39       5                1                        1      Knits\n",
       "7       39       4                1                        4      Knits\n",
       "8       24       5                1                        0    Dresses\n",
       "9       34       5                1                        0    Dresses\n",
       "10      53       3                0                       14    Dresses\n",
       "11      39       5                1                        2    Dresses\n",
       "12      53       5                1                        2    Dresses\n",
       "13      44       5                1                        0  Intimates\n",
       "14      50       3                1                        1    Dresses\n",
       "15      47       4                1                        3      Pants\n",
       "16      34       3                1                        2      Pants\n",
       "17      41       5                1                        0    Blouses\n",
       "18      32       5                1                        0  Outerwear\n",
       "19      47       5                1                        0    Dresses\n",
       "20      33       4                1                        2    Blouses\n",
       "21      55       4                1                       14    Dresses\n",
       "22      31       2                0                        7    Dresses\n",
       "23      34       3                1                        0    Dresses\n",
       "24      55       5                1                        0    Blouses\n",
       "25      31       3                0                        0     Lounge\n",
       "26      33       2                0                        0   Sweaters\n",
       "27      31       4                1                        0     Skirts\n",
       "28      53       5                1                        2     Lounge\n",
       "29      28       5                1                        0   Sweaters\n",
       "...    ...     ...              ...                      ...        ...\n",
       "23456   35       5                1                        3    Dresses\n",
       "23457   49       5                1                        3     Lounge\n",
       "23458   63       5                1                        0      Knits\n",
       "23459   57       4                1                        3    Dresses\n",
       "23460   34       3                0                        0    Dresses\n",
       "23461   49       4                1                        1     Lounge\n",
       "23462   24       3                1                        0     Skirts\n",
       "23463   65       4                1                        1     Lounge\n",
       "23464   42       5                1                        3    Dresses\n",
       "23465   41       5                1                        0    Dresses\n",
       "23466   34       4                1                        0    Dresses\n",
       "23467   60       5                1                       23    Dresses\n",
       "23468   35       5                1                        3     Lounge\n",
       "23469   50       4                1                        0     Lounge\n",
       "23470   39       5                1                        0    Dresses\n",
       "23471   31       4                1                        0     Lounge\n",
       "23472   32       5                1                        0      Knits\n",
       "23473   29       5                1                        1    Dresses\n",
       "23474   32       5                1                        0    Dresses\n",
       "23475   41       3                1                        0    Dresses\n",
       "23476   27       4                1                        0       Swim\n",
       "23477   39       4                1                        5    Dresses\n",
       "23478   32       1                0                        0    Dresses\n",
       "23479   42       5                1                        0     Skirts\n",
       "23480   35       5                1                        0      Knits\n",
       "23481   34       5                1                        0    Dresses\n",
       "23482   48       3                1                        0      Knits\n",
       "23483   31       3                0                        1    Dresses\n",
       "23484   28       3                1                        2    Dresses\n",
       "23485   52       5                1                       22    Dresses\n",
       "\n",
       "[23486 rows x 5 columns]"
      ]
     },
     "execution_count": 22,
     "metadata": {},
     "output_type": "execute_result"
    }
   ],
   "source": [
    "data"
   ]
  },
  {
   "cell_type": "markdown",
   "metadata": {},
   "source": [
    "## Таким образом, важными для нас признаками будут:\n",
    "#### -возраст опрошенных\n",
    "#### -рэйтинг вещи\n",
    "#### -рекомендуют ее или нет\n",
    "#### -количество положительных отзывов"
   ]
  },
  {
   "cell_type": "code",
   "execution_count": 23,
   "metadata": {},
   "outputs": [
    {
     "name": "stdout",
     "output_type": "stream",
     "text": [
      "['Class Name']\n",
      "['Age', 'Rating', 'Recommended IND', 'Positive Feedback Count']\n"
     ]
    }
   ],
   "source": [
    "categorical_columns = [c for c in data.columns if data[c].dtype.name == 'object']\n",
    "numerical_columns   = [c for c in data.columns if data[c].dtype.name != 'object']\n",
    "print(categorical_columns)\n",
    "print(numerical_columns)"
   ]
  },
  {
   "cell_type": "code",
   "execution_count": 24,
   "metadata": {},
   "outputs": [
    {
     "name": "stdout",
     "output_type": "stream",
     "text": [
      "Class Name ['Intimates' 'Dresses' 'Pants' 'Blouses' 'Knits' 'Outerwear' 'Lounge'\n",
      " 'Sweaters' 'Skirts' 'Fine gauge' 'Sleep' 'Jackets' 'Swim' 'Trend' 'Jeans'\n",
      " 'Legwear' 'Shorts' 'Layering' 'Casual bottoms' nan 'Chemises']\n"
     ]
    }
   ],
   "source": [
    "for c in categorical_columns:\n",
    "    print(c, data[c].unique())"
   ]
  },
  {
   "cell_type": "markdown",
   "metadata": {},
   "source": [
    "# Заполнение пропущенных значений\n",
    "## Воспользуемся следующей стратегией:\n",
    "### Будем заполнять пропущенные значения для каждой количественной переменной ее средним значением. Таким образом не останется пропущенных значений."
   ]
  },
  {
   "cell_type": "code",
   "execution_count": 25,
   "metadata": {},
   "outputs": [
    {
     "data": {
      "text/plain": [
       "Age                        41.0\n",
       "Rating                      5.0\n",
       "Recommended IND             1.0\n",
       "Positive Feedback Count     1.0\n",
       "dtype: float64"
      ]
     },
     "execution_count": 25,
     "metadata": {},
     "output_type": "execute_result"
    }
   ],
   "source": [
    "data.median(axis = 0)"
   ]
  },
  {
   "cell_type": "code",
   "execution_count": 26,
   "metadata": {},
   "outputs": [],
   "source": [
    "data = data.fillna(data.median(axis = 0), axis = 0)"
   ]
  },
  {
   "cell_type": "code",
   "execution_count": 27,
   "metadata": {},
   "outputs": [
    {
     "data": {
      "text/plain": [
       "Age                        23486\n",
       "Rating                     23486\n",
       "Recommended IND            23486\n",
       "Positive Feedback Count    23486\n",
       "dtype: int64"
      ]
     },
     "execution_count": 27,
     "metadata": {},
     "output_type": "execute_result"
    }
   ],
   "source": [
    "data[numerical_columns].count(axis = 0)"
   ]
  },
  {
   "cell_type": "markdown",
   "metadata": {},
   "source": [
    "## Для категориальных признаков пропущенные значения будем заполнять самым популярным значением в столбце."
   ]
  },
  {
   "cell_type": "code",
   "execution_count": 28,
   "metadata": {},
   "outputs": [
    {
     "data": {
      "text/plain": [
       "Class Name    23472\n",
       "dtype: int64"
      ]
     },
     "execution_count": 28,
     "metadata": {},
     "output_type": "execute_result"
    }
   ],
   "source": [
    "data[categorical_columns].count(axis = 0)"
   ]
  },
  {
   "cell_type": "code",
   "execution_count": 29,
   "metadata": {},
   "outputs": [
    {
     "data": {
      "text/plain": [
       "count       23472\n",
       "unique         20\n",
       "top       Dresses\n",
       "freq         6319\n",
       "Name: Class Name, dtype: object"
      ]
     },
     "execution_count": 29,
     "metadata": {},
     "output_type": "execute_result"
    }
   ],
   "source": [
    "data['Class Name'].describe()"
   ]
  },
  {
   "cell_type": "code",
   "execution_count": 30,
   "metadata": {},
   "outputs": [
    {
     "data": {
      "text/plain": [
       "'Dresses'"
      ]
     },
     "execution_count": 30,
     "metadata": {},
     "output_type": "execute_result"
    }
   ],
   "source": [
    "data['Class Name'].describe().top"
   ]
  },
  {
   "cell_type": "code",
   "execution_count": 31,
   "metadata": {},
   "outputs": [],
   "source": [
    "data['Class Name'] = data['Class Name'].fillna('Dresses')"
   ]
  },
  {
   "cell_type": "code",
   "execution_count": 32,
   "metadata": {},
   "outputs": [
    {
     "data": {
      "text/html": [
       "<div>\n",
       "<style scoped>\n",
       "    .dataframe tbody tr th:only-of-type {\n",
       "        vertical-align: middle;\n",
       "    }\n",
       "\n",
       "    .dataframe tbody tr th {\n",
       "        vertical-align: top;\n",
       "    }\n",
       "\n",
       "    .dataframe thead th {\n",
       "        text-align: right;\n",
       "    }\n",
       "</style>\n",
       "<table border=\"1\" class=\"dataframe\">\n",
       "  <thead>\n",
       "    <tr style=\"text-align: right;\">\n",
       "      <th></th>\n",
       "      <th>Class Name</th>\n",
       "    </tr>\n",
       "  </thead>\n",
       "  <tbody>\n",
       "    <tr>\n",
       "      <th>count</th>\n",
       "      <td>23486</td>\n",
       "    </tr>\n",
       "    <tr>\n",
       "      <th>unique</th>\n",
       "      <td>20</td>\n",
       "    </tr>\n",
       "    <tr>\n",
       "      <th>top</th>\n",
       "      <td>Dresses</td>\n",
       "    </tr>\n",
       "    <tr>\n",
       "      <th>freq</th>\n",
       "      <td>6333</td>\n",
       "    </tr>\n",
       "  </tbody>\n",
       "</table>\n",
       "</div>"
      ],
      "text/plain": [
       "       Class Name\n",
       "count       23486\n",
       "unique         20\n",
       "top       Dresses\n",
       "freq         6333"
      ]
     },
     "execution_count": 32,
     "metadata": {},
     "output_type": "execute_result"
    }
   ],
   "source": [
    "data.describe(include = [object])"
   ]
  },
  {
   "cell_type": "code",
   "execution_count": 33,
   "metadata": {},
   "outputs": [],
   "source": [
    "data_describe = data.describe(include = [object])\n",
    "for c in categorical_columns:\n",
    "    data[c] = data[c].fillna(data_describe[c]['top'])"
   ]
  },
  {
   "cell_type": "code",
   "execution_count": 34,
   "metadata": {},
   "outputs": [
    {
     "data": {
      "text/html": [
       "<div>\n",
       "<style scoped>\n",
       "    .dataframe tbody tr th:only-of-type {\n",
       "        vertical-align: middle;\n",
       "    }\n",
       "\n",
       "    .dataframe tbody tr th {\n",
       "        vertical-align: top;\n",
       "    }\n",
       "\n",
       "    .dataframe thead th {\n",
       "        text-align: right;\n",
       "    }\n",
       "</style>\n",
       "<table border=\"1\" class=\"dataframe\">\n",
       "  <thead>\n",
       "    <tr style=\"text-align: right;\">\n",
       "      <th></th>\n",
       "      <th>Class Name</th>\n",
       "    </tr>\n",
       "  </thead>\n",
       "  <tbody>\n",
       "    <tr>\n",
       "      <th>count</th>\n",
       "      <td>23486</td>\n",
       "    </tr>\n",
       "    <tr>\n",
       "      <th>unique</th>\n",
       "      <td>20</td>\n",
       "    </tr>\n",
       "    <tr>\n",
       "      <th>top</th>\n",
       "      <td>Dresses</td>\n",
       "    </tr>\n",
       "    <tr>\n",
       "      <th>freq</th>\n",
       "      <td>6333</td>\n",
       "    </tr>\n",
       "  </tbody>\n",
       "</table>\n",
       "</div>"
      ],
      "text/plain": [
       "       Class Name\n",
       "count       23486\n",
       "unique         20\n",
       "top       Dresses\n",
       "freq         6333"
      ]
     },
     "execution_count": 34,
     "metadata": {},
     "output_type": "execute_result"
    }
   ],
   "source": [
    "data.describe(include = [object])"
   ]
  },
  {
   "cell_type": "markdown",
   "metadata": {
    "collapsed": true
   },
   "source": [
    "## Векторизация признаков\n",
    "### Выполним определенные действия для категориальных признаков."
   ]
  },
  {
   "cell_type": "code",
   "execution_count": 35,
   "metadata": {},
   "outputs": [
    {
     "name": "stdout",
     "output_type": "stream",
     "text": [
      "[] ['Class Name']\n"
     ]
    }
   ],
   "source": [
    "binary_columns    = [c for c in categorical_columns if data_describe[c]['unique'] == 2]\n",
    "nonbinary_columns = [c for c in categorical_columns if data_describe[c]['unique'] > 2]\n",
    "print(binary_columns, nonbinary_columns)"
   ]
  },
  {
   "cell_type": "code",
   "execution_count": 36,
   "metadata": {},
   "outputs": [
    {
     "data": {
      "text/plain": [
       "array(['Intimates', 'Dresses', 'Pants', 'Blouses', 'Knits', 'Outerwear',\n",
       "       'Lounge', 'Sweaters', 'Skirts', 'Fine gauge', 'Sleep', 'Jackets',\n",
       "       'Swim', 'Trend', 'Jeans', 'Legwear', 'Shorts', 'Layering',\n",
       "       'Casual bottoms', 'Chemises'], dtype=object)"
      ]
     },
     "execution_count": 36,
     "metadata": {},
     "output_type": "execute_result"
    }
   ],
   "source": [
    "data['Class Name'].unique()"
   ]
  },
  {
   "cell_type": "markdown",
   "metadata": {},
   "source": [
    "### Признак имя класса принимает 20 различных значений. Данный признак категориальный. Применим следующий метод векторизации:\n",
    "#### Признак j, принимающий s значений, заменим на s признаков, принимащих значения 0 или 1, в зависимости от того, чему равно значение исходного признака j."
   ]
  },
  {
   "cell_type": "code",
   "execution_count": 37,
   "metadata": {},
   "outputs": [
    {
     "name": "stdout",
     "output_type": "stream",
     "text": [
      "Index(['Class Name_Blouses', 'Class Name_Casual bottoms',\n",
      "       'Class Name_Chemises', 'Class Name_Dresses', 'Class Name_Fine gauge',\n",
      "       'Class Name_Intimates', 'Class Name_Jackets', 'Class Name_Jeans',\n",
      "       'Class Name_Knits', 'Class Name_Layering', 'Class Name_Legwear',\n",
      "       'Class Name_Lounge', 'Class Name_Outerwear', 'Class Name_Pants',\n",
      "       'Class Name_Shorts', 'Class Name_Skirts', 'Class Name_Sleep',\n",
      "       'Class Name_Sweaters', 'Class Name_Swim', 'Class Name_Trend'],\n",
      "      dtype='object')\n"
     ]
    }
   ],
   "source": [
    "data_nonbinary = pd.get_dummies(data[nonbinary_columns])\n",
    "print(data_nonbinary.columns)"
   ]
  },
  {
   "cell_type": "markdown",
   "metadata": {
    "collapsed": true
   },
   "source": [
    "## Нормализация количественных признаков\n",
    "### Выполним нормализацию для количественных признаков следующим образом:\n",
    "#### каждый количественный признак приведем к нулевому среднему и единичному среднеквадратичному отклонению"
   ]
  },
  {
   "cell_type": "code",
   "execution_count": 38,
   "metadata": {},
   "outputs": [
    {
     "data": {
      "text/html": [
       "<div>\n",
       "<style scoped>\n",
       "    .dataframe tbody tr th:only-of-type {\n",
       "        vertical-align: middle;\n",
       "    }\n",
       "\n",
       "    .dataframe tbody tr th {\n",
       "        vertical-align: top;\n",
       "    }\n",
       "\n",
       "    .dataframe thead th {\n",
       "        text-align: right;\n",
       "    }\n",
       "</style>\n",
       "<table border=\"1\" class=\"dataframe\">\n",
       "  <thead>\n",
       "    <tr style=\"text-align: right;\">\n",
       "      <th></th>\n",
       "      <th>Age</th>\n",
       "      <th>Recommended IND</th>\n",
       "      <th>Positive Feedback Count</th>\n",
       "    </tr>\n",
       "  </thead>\n",
       "  <tbody>\n",
       "    <tr>\n",
       "      <th>count</th>\n",
       "      <td>23486.000000</td>\n",
       "      <td>23486.000000</td>\n",
       "      <td>23486.000000</td>\n",
       "    </tr>\n",
       "    <tr>\n",
       "      <th>mean</th>\n",
       "      <td>43.198544</td>\n",
       "      <td>0.822362</td>\n",
       "      <td>2.535936</td>\n",
       "    </tr>\n",
       "    <tr>\n",
       "      <th>std</th>\n",
       "      <td>12.279544</td>\n",
       "      <td>0.382216</td>\n",
       "      <td>5.702202</td>\n",
       "    </tr>\n",
       "    <tr>\n",
       "      <th>min</th>\n",
       "      <td>18.000000</td>\n",
       "      <td>0.000000</td>\n",
       "      <td>0.000000</td>\n",
       "    </tr>\n",
       "    <tr>\n",
       "      <th>25%</th>\n",
       "      <td>34.000000</td>\n",
       "      <td>1.000000</td>\n",
       "      <td>0.000000</td>\n",
       "    </tr>\n",
       "    <tr>\n",
       "      <th>50%</th>\n",
       "      <td>41.000000</td>\n",
       "      <td>1.000000</td>\n",
       "      <td>1.000000</td>\n",
       "    </tr>\n",
       "    <tr>\n",
       "      <th>75%</th>\n",
       "      <td>52.000000</td>\n",
       "      <td>1.000000</td>\n",
       "      <td>3.000000</td>\n",
       "    </tr>\n",
       "    <tr>\n",
       "      <th>max</th>\n",
       "      <td>99.000000</td>\n",
       "      <td>1.000000</td>\n",
       "      <td>122.000000</td>\n",
       "    </tr>\n",
       "  </tbody>\n",
       "</table>\n",
       "</div>"
      ],
      "text/plain": [
       "                Age  Recommended IND  Positive Feedback Count\n",
       "count  23486.000000     23486.000000             23486.000000\n",
       "mean      43.198544         0.822362                 2.535936\n",
       "std       12.279544         0.382216                 5.702202\n",
       "min       18.000000         0.000000                 0.000000\n",
       "25%       34.000000         1.000000                 0.000000\n",
       "50%       41.000000         1.000000                 1.000000\n",
       "75%       52.000000         1.000000                 3.000000\n",
       "max       99.000000         1.000000               122.000000"
      ]
     },
     "execution_count": 38,
     "metadata": {},
     "output_type": "execute_result"
    }
   ],
   "source": [
    "data_numerical = data[numerical_columns]\n",
    "data_numerical = data_numerical.drop(('Rating'), axis = 1)\n",
    "data_numerical.describe()"
   ]
  },
  {
   "cell_type": "code",
   "execution_count": 39,
   "metadata": {},
   "outputs": [],
   "source": [
    "data_numerical = (data_numerical - data_numerical.mean(axis = 0))/data_numerical.std(axis = 0)"
   ]
  },
  {
   "cell_type": "code",
   "execution_count": 40,
   "metadata": {},
   "outputs": [
    {
     "data": {
      "text/html": [
       "<div>\n",
       "<style scoped>\n",
       "    .dataframe tbody tr th:only-of-type {\n",
       "        vertical-align: middle;\n",
       "    }\n",
       "\n",
       "    .dataframe tbody tr th {\n",
       "        vertical-align: top;\n",
       "    }\n",
       "\n",
       "    .dataframe thead th {\n",
       "        text-align: right;\n",
       "    }\n",
       "</style>\n",
       "<table border=\"1\" class=\"dataframe\">\n",
       "  <thead>\n",
       "    <tr style=\"text-align: right;\">\n",
       "      <th></th>\n",
       "      <th>Age</th>\n",
       "      <th>Recommended IND</th>\n",
       "      <th>Positive Feedback Count</th>\n",
       "    </tr>\n",
       "  </thead>\n",
       "  <tbody>\n",
       "    <tr>\n",
       "      <th>count</th>\n",
       "      <td>2.348600e+04</td>\n",
       "      <td>2.348600e+04</td>\n",
       "      <td>2.348600e+04</td>\n",
       "    </tr>\n",
       "    <tr>\n",
       "      <th>mean</th>\n",
       "      <td>3.025388e-18</td>\n",
       "      <td>-2.541326e-17</td>\n",
       "      <td>3.085896e-17</td>\n",
       "    </tr>\n",
       "    <tr>\n",
       "      <th>std</th>\n",
       "      <td>1.000000e+00</td>\n",
       "      <td>1.000000e+00</td>\n",
       "      <td>1.000000e+00</td>\n",
       "    </tr>\n",
       "    <tr>\n",
       "      <th>min</th>\n",
       "      <td>-2.052075e+00</td>\n",
       "      <td>-2.151566e+00</td>\n",
       "      <td>-4.447293e-01</td>\n",
       "    </tr>\n",
       "    <tr>\n",
       "      <th>25%</th>\n",
       "      <td>-7.490949e-01</td>\n",
       "      <td>4.647579e-01</td>\n",
       "      <td>-4.447293e-01</td>\n",
       "    </tr>\n",
       "    <tr>\n",
       "      <th>50%</th>\n",
       "      <td>-1.790412e-01</td>\n",
       "      <td>4.647579e-01</td>\n",
       "      <td>-2.693585e-01</td>\n",
       "    </tr>\n",
       "    <tr>\n",
       "      <th>75%</th>\n",
       "      <td>7.167576e-01</td>\n",
       "      <td>4.647579e-01</td>\n",
       "      <td>8.138325e-02</td>\n",
       "    </tr>\n",
       "    <tr>\n",
       "      <th>max</th>\n",
       "      <td>4.544261e+00</td>\n",
       "      <td>4.647579e-01</td>\n",
       "      <td>2.095052e+01</td>\n",
       "    </tr>\n",
       "  </tbody>\n",
       "</table>\n",
       "</div>"
      ],
      "text/plain": [
       "                Age  Recommended IND  Positive Feedback Count\n",
       "count  2.348600e+04     2.348600e+04             2.348600e+04\n",
       "mean   3.025388e-18    -2.541326e-17             3.085896e-17\n",
       "std    1.000000e+00     1.000000e+00             1.000000e+00\n",
       "min   -2.052075e+00    -2.151566e+00            -4.447293e-01\n",
       "25%   -7.490949e-01     4.647579e-01            -4.447293e-01\n",
       "50%   -1.790412e-01     4.647579e-01            -2.693585e-01\n",
       "75%    7.167576e-01     4.647579e-01             8.138325e-02\n",
       "max    4.544261e+00     4.647579e-01             2.095052e+01"
      ]
     },
     "execution_count": 40,
     "metadata": {},
     "output_type": "execute_result"
    }
   ],
   "source": [
    "data_numerical.describe()"
   ]
  },
  {
   "cell_type": "markdown",
   "metadata": {
    "collapsed": true
   },
   "source": [
    "## Единая таблица\n",
    "### Соберем все данные, полученные выше, в единую таблицу."
   ]
  },
  {
   "cell_type": "code",
   "execution_count": 41,
   "metadata": {},
   "outputs": [
    {
     "name": "stdout",
     "output_type": "stream",
     "text": [
      "(23486, 24)\n"
     ]
    }
   ],
   "source": [
    "data = pd.concat((data_numerical, data_nonbinary, data[binary_columns], data['Rating']), axis = 1)\n",
    "print(data.shape)"
   ]
  },
  {
   "cell_type": "code",
   "execution_count": 42,
   "metadata": {},
   "outputs": [
    {
     "data": {
      "text/html": [
       "<div>\n",
       "<style scoped>\n",
       "    .dataframe tbody tr th:only-of-type {\n",
       "        vertical-align: middle;\n",
       "    }\n",
       "\n",
       "    .dataframe tbody tr th {\n",
       "        vertical-align: top;\n",
       "    }\n",
       "\n",
       "    .dataframe thead th {\n",
       "        text-align: right;\n",
       "    }\n",
       "</style>\n",
       "<table border=\"1\" class=\"dataframe\">\n",
       "  <thead>\n",
       "    <tr style=\"text-align: right;\">\n",
       "      <th></th>\n",
       "      <th>Age</th>\n",
       "      <th>Recommended IND</th>\n",
       "      <th>Positive Feedback Count</th>\n",
       "      <th>Class Name_Blouses</th>\n",
       "      <th>Class Name_Casual bottoms</th>\n",
       "      <th>Class Name_Chemises</th>\n",
       "      <th>Class Name_Dresses</th>\n",
       "      <th>Class Name_Fine gauge</th>\n",
       "      <th>Class Name_Intimates</th>\n",
       "      <th>Class Name_Jackets</th>\n",
       "      <th>...</th>\n",
       "      <th>Class Name_Lounge</th>\n",
       "      <th>Class Name_Outerwear</th>\n",
       "      <th>Class Name_Pants</th>\n",
       "      <th>Class Name_Shorts</th>\n",
       "      <th>Class Name_Skirts</th>\n",
       "      <th>Class Name_Sleep</th>\n",
       "      <th>Class Name_Sweaters</th>\n",
       "      <th>Class Name_Swim</th>\n",
       "      <th>Class Name_Trend</th>\n",
       "      <th>Rating</th>\n",
       "    </tr>\n",
       "  </thead>\n",
       "  <tbody>\n",
       "    <tr>\n",
       "      <th>count</th>\n",
       "      <td>2.348600e+04</td>\n",
       "      <td>2.348600e+04</td>\n",
       "      <td>2.348600e+04</td>\n",
       "      <td>23486.000000</td>\n",
       "      <td>23486.000000</td>\n",
       "      <td>23486.000000</td>\n",
       "      <td>23486.000000</td>\n",
       "      <td>23486.000000</td>\n",
       "      <td>23486.000000</td>\n",
       "      <td>23486.000000</td>\n",
       "      <td>...</td>\n",
       "      <td>23486.000000</td>\n",
       "      <td>23486.000000</td>\n",
       "      <td>23486.000000</td>\n",
       "      <td>23486.000000</td>\n",
       "      <td>23486.000000</td>\n",
       "      <td>23486.000000</td>\n",
       "      <td>23486.000000</td>\n",
       "      <td>23486.000000</td>\n",
       "      <td>23486.000000</td>\n",
       "      <td>23486.000000</td>\n",
       "    </tr>\n",
       "    <tr>\n",
       "      <th>mean</th>\n",
       "      <td>3.025388e-18</td>\n",
       "      <td>-2.541326e-17</td>\n",
       "      <td>3.085896e-17</td>\n",
       "      <td>0.131866</td>\n",
       "      <td>0.000085</td>\n",
       "      <td>0.000043</td>\n",
       "      <td>0.269650</td>\n",
       "      <td>0.046836</td>\n",
       "      <td>0.006557</td>\n",
       "      <td>0.029975</td>\n",
       "      <td>...</td>\n",
       "      <td>0.029422</td>\n",
       "      <td>0.013966</td>\n",
       "      <td>0.059099</td>\n",
       "      <td>0.013497</td>\n",
       "      <td>0.040237</td>\n",
       "      <td>0.009708</td>\n",
       "      <td>0.060802</td>\n",
       "      <td>0.014902</td>\n",
       "      <td>0.005067</td>\n",
       "      <td>4.196032</td>\n",
       "    </tr>\n",
       "    <tr>\n",
       "      <th>std</th>\n",
       "      <td>1.000000e+00</td>\n",
       "      <td>1.000000e+00</td>\n",
       "      <td>1.000000e+00</td>\n",
       "      <td>0.338352</td>\n",
       "      <td>0.009228</td>\n",
       "      <td>0.006525</td>\n",
       "      <td>0.443787</td>\n",
       "      <td>0.211293</td>\n",
       "      <td>0.080712</td>\n",
       "      <td>0.170523</td>\n",
       "      <td>...</td>\n",
       "      <td>0.168989</td>\n",
       "      <td>0.117351</td>\n",
       "      <td>0.235815</td>\n",
       "      <td>0.115394</td>\n",
       "      <td>0.196518</td>\n",
       "      <td>0.098051</td>\n",
       "      <td>0.238972</td>\n",
       "      <td>0.121165</td>\n",
       "      <td>0.071003</td>\n",
       "      <td>1.110031</td>\n",
       "    </tr>\n",
       "    <tr>\n",
       "      <th>min</th>\n",
       "      <td>-2.052075e+00</td>\n",
       "      <td>-2.151566e+00</td>\n",
       "      <td>-4.447293e-01</td>\n",
       "      <td>0.000000</td>\n",
       "      <td>0.000000</td>\n",
       "      <td>0.000000</td>\n",
       "      <td>0.000000</td>\n",
       "      <td>0.000000</td>\n",
       "      <td>0.000000</td>\n",
       "      <td>0.000000</td>\n",
       "      <td>...</td>\n",
       "      <td>0.000000</td>\n",
       "      <td>0.000000</td>\n",
       "      <td>0.000000</td>\n",
       "      <td>0.000000</td>\n",
       "      <td>0.000000</td>\n",
       "      <td>0.000000</td>\n",
       "      <td>0.000000</td>\n",
       "      <td>0.000000</td>\n",
       "      <td>0.000000</td>\n",
       "      <td>1.000000</td>\n",
       "    </tr>\n",
       "    <tr>\n",
       "      <th>25%</th>\n",
       "      <td>-7.490949e-01</td>\n",
       "      <td>4.647579e-01</td>\n",
       "      <td>-4.447293e-01</td>\n",
       "      <td>0.000000</td>\n",
       "      <td>0.000000</td>\n",
       "      <td>0.000000</td>\n",
       "      <td>0.000000</td>\n",
       "      <td>0.000000</td>\n",
       "      <td>0.000000</td>\n",
       "      <td>0.000000</td>\n",
       "      <td>...</td>\n",
       "      <td>0.000000</td>\n",
       "      <td>0.000000</td>\n",
       "      <td>0.000000</td>\n",
       "      <td>0.000000</td>\n",
       "      <td>0.000000</td>\n",
       "      <td>0.000000</td>\n",
       "      <td>0.000000</td>\n",
       "      <td>0.000000</td>\n",
       "      <td>0.000000</td>\n",
       "      <td>4.000000</td>\n",
       "    </tr>\n",
       "    <tr>\n",
       "      <th>50%</th>\n",
       "      <td>-1.790412e-01</td>\n",
       "      <td>4.647579e-01</td>\n",
       "      <td>-2.693585e-01</td>\n",
       "      <td>0.000000</td>\n",
       "      <td>0.000000</td>\n",
       "      <td>0.000000</td>\n",
       "      <td>0.000000</td>\n",
       "      <td>0.000000</td>\n",
       "      <td>0.000000</td>\n",
       "      <td>0.000000</td>\n",
       "      <td>...</td>\n",
       "      <td>0.000000</td>\n",
       "      <td>0.000000</td>\n",
       "      <td>0.000000</td>\n",
       "      <td>0.000000</td>\n",
       "      <td>0.000000</td>\n",
       "      <td>0.000000</td>\n",
       "      <td>0.000000</td>\n",
       "      <td>0.000000</td>\n",
       "      <td>0.000000</td>\n",
       "      <td>5.000000</td>\n",
       "    </tr>\n",
       "    <tr>\n",
       "      <th>75%</th>\n",
       "      <td>7.167576e-01</td>\n",
       "      <td>4.647579e-01</td>\n",
       "      <td>8.138325e-02</td>\n",
       "      <td>0.000000</td>\n",
       "      <td>0.000000</td>\n",
       "      <td>0.000000</td>\n",
       "      <td>1.000000</td>\n",
       "      <td>0.000000</td>\n",
       "      <td>0.000000</td>\n",
       "      <td>0.000000</td>\n",
       "      <td>...</td>\n",
       "      <td>0.000000</td>\n",
       "      <td>0.000000</td>\n",
       "      <td>0.000000</td>\n",
       "      <td>0.000000</td>\n",
       "      <td>0.000000</td>\n",
       "      <td>0.000000</td>\n",
       "      <td>0.000000</td>\n",
       "      <td>0.000000</td>\n",
       "      <td>0.000000</td>\n",
       "      <td>5.000000</td>\n",
       "    </tr>\n",
       "    <tr>\n",
       "      <th>max</th>\n",
       "      <td>4.544261e+00</td>\n",
       "      <td>4.647579e-01</td>\n",
       "      <td>2.095052e+01</td>\n",
       "      <td>1.000000</td>\n",
       "      <td>1.000000</td>\n",
       "      <td>1.000000</td>\n",
       "      <td>1.000000</td>\n",
       "      <td>1.000000</td>\n",
       "      <td>1.000000</td>\n",
       "      <td>1.000000</td>\n",
       "      <td>...</td>\n",
       "      <td>1.000000</td>\n",
       "      <td>1.000000</td>\n",
       "      <td>1.000000</td>\n",
       "      <td>1.000000</td>\n",
       "      <td>1.000000</td>\n",
       "      <td>1.000000</td>\n",
       "      <td>1.000000</td>\n",
       "      <td>1.000000</td>\n",
       "      <td>1.000000</td>\n",
       "      <td>5.000000</td>\n",
       "    </tr>\n",
       "  </tbody>\n",
       "</table>\n",
       "<p>8 rows × 24 columns</p>\n",
       "</div>"
      ],
      "text/plain": [
       "                Age  Recommended IND  Positive Feedback Count  \\\n",
       "count  2.348600e+04     2.348600e+04             2.348600e+04   \n",
       "mean   3.025388e-18    -2.541326e-17             3.085896e-17   \n",
       "std    1.000000e+00     1.000000e+00             1.000000e+00   \n",
       "min   -2.052075e+00    -2.151566e+00            -4.447293e-01   \n",
       "25%   -7.490949e-01     4.647579e-01            -4.447293e-01   \n",
       "50%   -1.790412e-01     4.647579e-01            -2.693585e-01   \n",
       "75%    7.167576e-01     4.647579e-01             8.138325e-02   \n",
       "max    4.544261e+00     4.647579e-01             2.095052e+01   \n",
       "\n",
       "       Class Name_Blouses  Class Name_Casual bottoms  Class Name_Chemises  \\\n",
       "count        23486.000000               23486.000000         23486.000000   \n",
       "mean             0.131866                   0.000085             0.000043   \n",
       "std              0.338352                   0.009228             0.006525   \n",
       "min              0.000000                   0.000000             0.000000   \n",
       "25%              0.000000                   0.000000             0.000000   \n",
       "50%              0.000000                   0.000000             0.000000   \n",
       "75%              0.000000                   0.000000             0.000000   \n",
       "max              1.000000                   1.000000             1.000000   \n",
       "\n",
       "       Class Name_Dresses  Class Name_Fine gauge  Class Name_Intimates  \\\n",
       "count        23486.000000           23486.000000          23486.000000   \n",
       "mean             0.269650               0.046836              0.006557   \n",
       "std              0.443787               0.211293              0.080712   \n",
       "min              0.000000               0.000000              0.000000   \n",
       "25%              0.000000               0.000000              0.000000   \n",
       "50%              0.000000               0.000000              0.000000   \n",
       "75%              1.000000               0.000000              0.000000   \n",
       "max              1.000000               1.000000              1.000000   \n",
       "\n",
       "       Class Name_Jackets  ...  Class Name_Lounge  Class Name_Outerwear  \\\n",
       "count        23486.000000  ...       23486.000000          23486.000000   \n",
       "mean             0.029975  ...           0.029422              0.013966   \n",
       "std              0.170523  ...           0.168989              0.117351   \n",
       "min              0.000000  ...           0.000000              0.000000   \n",
       "25%              0.000000  ...           0.000000              0.000000   \n",
       "50%              0.000000  ...           0.000000              0.000000   \n",
       "75%              0.000000  ...           0.000000              0.000000   \n",
       "max              1.000000  ...           1.000000              1.000000   \n",
       "\n",
       "       Class Name_Pants  Class Name_Shorts  Class Name_Skirts  \\\n",
       "count      23486.000000       23486.000000       23486.000000   \n",
       "mean           0.059099           0.013497           0.040237   \n",
       "std            0.235815           0.115394           0.196518   \n",
       "min            0.000000           0.000000           0.000000   \n",
       "25%            0.000000           0.000000           0.000000   \n",
       "50%            0.000000           0.000000           0.000000   \n",
       "75%            0.000000           0.000000           0.000000   \n",
       "max            1.000000           1.000000           1.000000   \n",
       "\n",
       "       Class Name_Sleep  Class Name_Sweaters  Class Name_Swim  \\\n",
       "count      23486.000000         23486.000000     23486.000000   \n",
       "mean           0.009708             0.060802         0.014902   \n",
       "std            0.098051             0.238972         0.121165   \n",
       "min            0.000000             0.000000         0.000000   \n",
       "25%            0.000000             0.000000         0.000000   \n",
       "50%            0.000000             0.000000         0.000000   \n",
       "75%            0.000000             0.000000         0.000000   \n",
       "max            1.000000             1.000000         1.000000   \n",
       "\n",
       "       Class Name_Trend        Rating  \n",
       "count      23486.000000  23486.000000  \n",
       "mean           0.005067      4.196032  \n",
       "std            0.071003      1.110031  \n",
       "min            0.000000      1.000000  \n",
       "25%            0.000000      4.000000  \n",
       "50%            0.000000      5.000000  \n",
       "75%            0.000000      5.000000  \n",
       "max            1.000000      5.000000  \n",
       "\n",
       "[8 rows x 24 columns]"
      ]
     },
     "execution_count": 42,
     "metadata": {},
     "output_type": "execute_result"
    }
   ],
   "source": [
    "data.describe()"
   ]
  },
  {
   "cell_type": "markdown",
   "metadata": {
    "collapsed": true
   },
   "source": [
    "## Выборки\n",
    "### Создадим выборки следующим образом:\n"
   ]
  },
  {
   "cell_type": "code",
   "execution_count": 43,
   "metadata": {},
   "outputs": [],
   "source": [
    "X = data.drop(('Rating'), axis = 1)\n",
    "y = data['Rating']\n",
    "feature_names = X.columns"
   ]
  },
  {
   "cell_type": "code",
   "execution_count": 44,
   "metadata": {},
   "outputs": [
    {
     "data": {
      "text/plain": [
       "pandas.core.indexes.base.Index"
      ]
     },
     "execution_count": 44,
     "metadata": {},
     "output_type": "execute_result"
    }
   ],
   "source": [
    "type(feature_names)"
   ]
  },
  {
   "cell_type": "code",
   "execution_count": 45,
   "metadata": {},
   "outputs": [
    {
     "data": {
      "text/plain": [
       "Index(['Age', 'Recommended IND', 'Positive Feedback Count',\n",
       "       'Class Name_Blouses', 'Class Name_Casual bottoms',\n",
       "       'Class Name_Chemises', 'Class Name_Dresses', 'Class Name_Fine gauge',\n",
       "       'Class Name_Intimates', 'Class Name_Jackets', 'Class Name_Jeans',\n",
       "       'Class Name_Knits', 'Class Name_Layering', 'Class Name_Legwear',\n",
       "       'Class Name_Lounge', 'Class Name_Outerwear', 'Class Name_Pants',\n",
       "       'Class Name_Shorts', 'Class Name_Skirts', 'Class Name_Sleep',\n",
       "       'Class Name_Sweaters', 'Class Name_Swim', 'Class Name_Trend'],\n",
       "      dtype='object')"
      ]
     },
     "execution_count": 45,
     "metadata": {},
     "output_type": "execute_result"
    }
   ],
   "source": [
    "feature_names"
   ]
  },
  {
   "cell_type": "code",
   "execution_count": 46,
   "metadata": {},
   "outputs": [
    {
     "name": "stdout",
     "output_type": "stream",
     "text": [
      "(23486, 23)\n",
      "(23486,)\n"
     ]
    }
   ],
   "source": [
    "print(X.shape)\n",
    "print(y.shape)\n",
    "N, d = X.shape"
   ]
  },
  {
   "cell_type": "code",
   "execution_count": 47,
   "metadata": {},
   "outputs": [
    {
     "data": {
      "text/plain": [
       "pandas.core.frame.DataFrame"
      ]
     },
     "execution_count": 47,
     "metadata": {},
     "output_type": "execute_result"
    }
   ],
   "source": [
    "type(X)"
   ]
  },
  {
   "cell_type": "code",
   "execution_count": 48,
   "metadata": {},
   "outputs": [
    {
     "data": {
      "text/plain": [
       "pandas.core.series.Series"
      ]
     },
     "execution_count": 48,
     "metadata": {},
     "output_type": "execute_result"
    }
   ],
   "source": [
    "type(y)"
   ]
  },
  {
   "cell_type": "markdown",
   "metadata": {},
   "source": [
    "## 𝑘NN"
   ]
  },
  {
   "cell_type": "code",
   "execution_count": 49,
   "metadata": {},
   "outputs": [
    {
     "name": "stdout",
     "output_type": "stream",
     "text": [
      "16440 7046\n"
     ]
    }
   ],
   "source": [
    "from sklearn.model_selection import train_test_split\n",
    "X_train, X_test, y_train, y_test = train_test_split(X, y, test_size = 0.3, random_state = 42)\n",
    "\n",
    "N_train, _ = X_train.shape \n",
    "N_test,  _ = X_test.shape \n",
    "\n",
    "print(N_train, N_test)"
   ]
  },
  {
   "cell_type": "code",
   "execution_count": 50,
   "metadata": {},
   "outputs": [
    {
     "name": "stdout",
     "output_type": "stream",
     "text": [
      "23486\n"
     ]
    }
   ],
   "source": [
    "print(N_train + N_test)"
   ]
  },
  {
   "cell_type": "markdown",
   "metadata": {},
   "source": [
    "### Таким образом получили тестовую выборку размером 7046 и тренировочную размером 16440. Будем дальше работать с этими выборками."
   ]
  },
  {
   "cell_type": "code",
   "execution_count": 51,
   "metadata": {},
   "outputs": [
    {
     "data": {
      "text/plain": [
       "KNeighborsClassifier(algorithm='auto', leaf_size=30, metric='minkowski',\n",
       "           metric_params=None, n_jobs=None, n_neighbors=10, p=2,\n",
       "           weights='uniform')"
      ]
     },
     "execution_count": 51,
     "metadata": {},
     "output_type": "execute_result"
    }
   ],
   "source": [
    "from sklearn.neighbors import KNeighborsClassifier\n",
    "\n",
    "knn = KNeighborsClassifier(n_neighbors = 10)\n",
    "knn.fit(X_train, y_train)"
   ]
  },
  {
   "cell_type": "code",
   "execution_count": 52,
   "metadata": {},
   "outputs": [
    {
     "name": "stdout",
     "output_type": "stream",
     "text": [
      "0.3557785888077859 0.41711609423786544\n"
     ]
    }
   ],
   "source": [
    "y_train_predict = knn.predict(X_train)\n",
    "y_test_predict = knn.predict(X_test)\n",
    "\n",
    "err_train = np.mean(y_train != y_train_predict)\n",
    "err_test  = np.mean(y_test  != y_test_predict)\n",
    "\n",
    "print(err_train, err_test)"
   ]
  },
  {
   "cell_type": "markdown",
   "metadata": {},
   "source": [
    "### Видим, что ошибка на тренировочной и тестовой выборках близка, но велика. Попробуем использовать подбор параметров для уменьшения ошибки."
   ]
  },
  {
   "cell_type": "code",
   "execution_count": 53,
   "metadata": {},
   "outputs": [
    {
     "name": "stdout",
     "output_type": "stream",
     "text": [
      "[[  32   85  115    3    4]\n",
      " [  47  201  203    5   26]\n",
      " [  75  214  235   30  344]\n",
      " [   5   19   22  155 1316]\n",
      " [   0    5   10  411 3484]]\n"
     ]
    }
   ],
   "source": [
    "from sklearn.metrics import confusion_matrix\n",
    "\n",
    "print(confusion_matrix(y_test, y_test_predict))"
   ]
  },
  {
   "cell_type": "markdown",
   "metadata": {},
   "source": [
    "### Видим, что большое количество ошибок связано с неправильным определением рэйтинга как 5, когда он является 4 и наоборот. Также можем заметить, что грубых ошибок (когда рэйтинг определился как 5, а на самом деле 1 и наоборот) достаточно мало."
   ]
  },
  {
   "cell_type": "markdown",
   "metadata": {},
   "source": [
    "## Подбор параметров"
   ]
  },
  {
   "cell_type": "code",
   "execution_count": 54,
   "metadata": {},
   "outputs": [
    {
     "name": "stdout",
     "output_type": "stream",
     "text": [
      "0.37068126520681266 55\n"
     ]
    }
   ],
   "source": [
    "from sklearn.model_selection import GridSearchCV\n",
    "nnb = [1, 3, 5, 10, 15, 20, 25, 35, 45, 55]\n",
    "knn = KNeighborsClassifier()\n",
    "grid = GridSearchCV(knn, param_grid = {'n_neighbors': nnb}, cv=10)\n",
    "grid.fit(X_train, y_train)\n",
    "\n",
    "best_cv_err = 1 - grid.best_score_\n",
    "best_n_neighbors = grid.best_estimator_.n_neighbors\n",
    "print(best_cv_err, best_n_neighbors)"
   ]
  },
  {
   "cell_type": "code",
   "execution_count": 55,
   "metadata": {},
   "outputs": [
    {
     "name": "stdout",
     "output_type": "stream",
     "text": [
      "0.3641727493917275 0.37311950042577346\n"
     ]
    }
   ],
   "source": [
    "knn = KNeighborsClassifier(n_neighbors = best_n_neighbors).fit(X_train, y_train)\n",
    "\n",
    "err_train = np.mean(y_train != knn.predict(X_train))\n",
    "err_test  = np.mean(y_test  != knn.predict(X_test))\n",
    "\n",
    "print(err_train, err_test)"
   ]
  },
  {
   "cell_type": "markdown",
   "metadata": {},
   "source": [
    "### Подбор параметров не смог помочь уменьшить ошибку. Лучшим числом соседей является 55."
   ]
  },
  {
   "cell_type": "markdown",
   "metadata": {},
   "source": [
    "## SVC"
   ]
  },
  {
   "cell_type": "code",
   "execution_count": 56,
   "metadata": {},
   "outputs": [
    {
     "name": "stderr",
     "output_type": "stream",
     "text": [
      "c:\\users\\vika\\appdata\\local\\programs\\python\\python37-32\\lib\\site-packages\\sklearn\\svm\\base.py:196: FutureWarning: The default value of gamma will change from 'auto' to 'scale' in version 0.22 to account better for unscaled features. Set gamma explicitly to 'auto' or 'scale' to avoid this warning.\n",
      "  \"avoid this warning.\", FutureWarning)\n"
     ]
    },
    {
     "name": "stdout",
     "output_type": "stream",
     "text": [
      "0.3694038929440389 0.37226795344876523\n"
     ]
    }
   ],
   "source": [
    "from sklearn.svm import SVC\n",
    "svc = SVC()\n",
    "svc.fit(X_train, y_train)\n",
    "\n",
    "err_train = np.mean(y_train != svc.predict(X_train))\n",
    "err_test  = np.mean(y_test  != svc.predict(X_test))\n",
    "\n",
    "print(err_train, err_test)"
   ]
  },
  {
   "cell_type": "markdown",
   "metadata": {},
   "source": [
    "## Выводы:\n",
    "### Ошибка полученная на данных является достаточно большой. Данный факт можно легко объяснить. Датасет состоит из полностью реальных данных, не искусственно сгенерированных. Также данный датасет содержит много субъективных полей - рэйтинг, рекоммендация. Человек может поставить товару самую высокую оценку, но не рекомендовать его и наоборот. Так как значения многих полей зависят от человека, то отсюда и возникает проблема в правильной обработке. Сложно найти логические закономерности там, где их может и не быть. Данная проблема может решаться введением дополнительных полей или отсеиванием вручную подозрительных по выставлению рэйтинга и рекомендации записей.\n"
   ]
  },
  {
   "cell_type": "markdown",
   "metadata": {},
   "source": [
    "## Обучение полносвязной (неглубокой) нейронной сети"
   ]
  },
  {
   "cell_type": "markdown",
   "metadata": {},
   "source": [
    "### Обучаем классификатор"
   ]
  },
  {
   "cell_type": "code",
   "execution_count": 57,
   "metadata": {},
   "outputs": [
    {
     "data": {
      "text/plain": [
       "MLPClassifier(activation='logistic', alpha=0.0001, batch_size='auto',\n",
       "       beta_1=0.9, beta_2=0.999, early_stopping=False, epsilon=1e-08,\n",
       "       hidden_layer_sizes=(100,), learning_rate='constant',\n",
       "       learning_rate_init=0.001, max_iter=200, momentum=0.9,\n",
       "       n_iter_no_change=10, nesterovs_momentum=True, power_t=0.5,\n",
       "       random_state=42, shuffle=True, solver='lbfgs', tol=0.0001,\n",
       "       validation_fraction=0.1, verbose=False, warm_start=False)"
      ]
     },
     "execution_count": 57,
     "metadata": {},
     "output_type": "execute_result"
    }
   ],
   "source": [
    "from sklearn.neural_network import MLPClassifier\n",
    "mlp_model = MLPClassifier(hidden_layer_sizes = (100,), solver = 'lbfgs', \n",
    "                          activation = 'logistic', random_state = 42)\n",
    "mlp_model.fit(X_train, y_train)"
   ]
  },
  {
   "cell_type": "markdown",
   "metadata": {},
   "source": [
    "### Проверяем качество классификатора"
   ]
  },
  {
   "cell_type": "code",
   "execution_count": 58,
   "metadata": {},
   "outputs": [],
   "source": [
    "y_train_pred = mlp_model.predict(X_train)\n",
    "y_test_pred = mlp_model.predict(X_test)"
   ]
  },
  {
   "cell_type": "markdown",
   "metadata": {},
   "source": [
    "Ошибки на обучающей и тестовой выборках:"
   ]
  },
  {
   "cell_type": "code",
   "execution_count": 59,
   "metadata": {},
   "outputs": [
    {
     "name": "stdout",
     "output_type": "stream",
     "text": [
      "0.36776155717761555 0.3753902923644621\n"
     ]
    }
   ],
   "source": [
    "print(np.mean(y_train != y_train_pred), np.mean(y_test != y_test_pred))"
   ]
  },
  {
   "cell_type": "markdown",
   "metadata": {},
   "source": [
    "Получаем друим способом:"
   ]
  },
  {
   "cell_type": "code",
   "execution_count": 60,
   "metadata": {},
   "outputs": [
    {
     "name": "stdout",
     "output_type": "stream",
     "text": [
      "0.6322384428223844 0.6246097076355379\n"
     ]
    }
   ],
   "source": [
    "print(mlp_model.score(X_train, y_train), mlp_model.score(X_test, y_test))"
   ]
  },
  {
   "cell_type": "markdown",
   "metadata": {},
   "source": [
    "Аналогично:"
   ]
  },
  {
   "cell_type": "code",
   "execution_count": 61,
   "metadata": {},
   "outputs": [
    {
     "name": "stdout",
     "output_type": "stream",
     "text": [
      "0.3677615571776156 0.3753902923644621\n"
     ]
    }
   ],
   "source": [
    "print(1 - mlp_model.score(X_train, y_train),1 - mlp_model.score(X_test, y_test))"
   ]
  },
  {
   "cell_type": "markdown",
   "metadata": {},
   "source": [
    "Заметим, что ошибки на тестовой и тренировочной выборках близки.Также, ошибка на тестовой выборке незначительно превосходит ошибку на обучающей выборке.Отсюда можно сделать вывод,что есть переобучение."
   ]
  },
  {
   "cell_type": "markdown",
   "metadata": {},
   "source": [
    "### Подбор гиперпараметров классификатора\n",
    "\n",
    "Подберем оптимальное значение параметра регуляризации alpha"
   ]
  },
  {
   "cell_type": "code",
   "execution_count": 62,
   "metadata": {},
   "outputs": [],
   "source": [
    "alpha_arr = np.logspace(-3, 2, 21)\n",
    "test_err = []\n",
    "train_err = []\n",
    "for alpha in alpha_arr:\n",
    "    mlp_model = MLPClassifier(alpha = alpha, hidden_layer_sizes = (100,), \n",
    "                              solver = 'lbfgs', activation = 'logistic', random_state = 42)\n",
    "    mlp_model.fit(X_train, y_train)\n",
    "\n",
    "    y_train_pred = mlp_model.predict(X_train)\n",
    "    y_test_pred = mlp_model.predict(X_test)\n",
    "    train_err.append(np.mean(y_train != y_train_pred))\n",
    "    test_err.append(np.mean(y_test != y_test_pred))"
   ]
  },
  {
   "cell_type": "code",
   "execution_count": 63,
   "metadata": {},
   "outputs": [
    {
     "data": {
      "image/png": "[encoded data removed]",
      "text/plain": [
       "<Figure size 432x288 with 1 Axes>"
      ]
     },
     "metadata": {
      "needs_background": "light"
     },
     "output_type": "display_data"
    }
   ],
   "source": [
    "plt.semilogx(alpha_arr, train_err, 'b-o', label = 'train')\n",
    "plt.semilogx(alpha_arr, test_err, 'r-o', label = 'test')\n",
    "plt.xlim([np.max(alpha_arr), np.min(alpha_arr)])\n",
    "plt.title('Error vs. alpha')\n",
    "plt.xlabel('alpha')\n",
    "plt.ylabel('error')\n",
    "plt.legend()\n",
    "pass\n"
   ]
  },
  {
   "cell_type": "markdown",
   "metadata": {},
   "source": [
    "Минимальное значение ошибки на обучающей и тестовой выборках:"
   ]
  },
  {
   "cell_type": "code",
   "execution_count": 64,
   "metadata": {},
   "outputs": [
    {
     "name": "stdout",
     "output_type": "stream",
     "text": [
      "0.36751824817518247 0.3717002554640931\n"
     ]
    }
   ],
   "source": [
    "min_train_err = np.min(train_err)\n",
    "min_test_err = np.min(test_err)\n",
    "print(min_train_err, min_test_err)"
   ]
  },
  {
   "cell_type": "markdown",
   "metadata": {},
   "source": [
    "Получим оптимальное значение параметра регуляризации alpha:"
   ]
  },
  {
   "cell_type": "code",
   "execution_count": 65,
   "metadata": {},
   "outputs": [
    {
     "name": "stdout",
     "output_type": "stream",
     "text": [
      "[ 17.7827941   31.6227766   56.23413252 100.        ]\n"
     ]
    }
   ],
   "source": [
    "alpha_opt = alpha_arr[test_err == min_test_err]\n",
    "print(alpha_opt)"
   ]
  },
  {
   "cell_type": "code",
   "execution_count": 66,
   "metadata": {},
   "outputs": [],
   "source": [
    "alpha_opt = alpha_opt[0]"
   ]
  },
  {
   "cell_type": "markdown",
   "metadata": {},
   "source": [
    "#### Подберем оптимальное количество нейронов"
   ]
  },
  {
   "cell_type": "code",
   "execution_count": 67,
   "metadata": {},
   "outputs": [],
   "source": [
    "numNeurons_arr = np.arange(50,500,10)\n",
    "test_err = []\n",
    "train_err = []\n",
    "for neuron in numNeurons_arr:\n",
    "    mlp_model = MLPClassifier(alpha = alpha_opt, hidden_layer_sizes = (neuron, ), \n",
    "                              solver = 'lbfgs', activation = 'logistic', random_state = 42)\n",
    "    mlp_model.fit(X_train, y_train)\n",
    "\n",
    "    y_train_pred = mlp_model.predict(X_train)\n",
    "    y_test_pred = mlp_model.predict(X_test)\n",
    "    train_err.append(np.mean(y_train != y_train_pred))\n",
    "    test_err.append(np.mean(y_test != y_test_pred))"
   ]
  },
  {
   "cell_type": "code",
   "execution_count": 68,
   "metadata": {},
   "outputs": [
    {
     "data": {
      "image/png": "[encoded data removed]",
      "text/plain": [
       "<Figure size 432x288 with 1 Axes>"
      ]
     },
     "metadata": {
      "needs_background": "light"
     },
     "output_type": "display_data"
    }
   ],
   "source": [
    "plt.semilogx(numNeurons_arr, train_err, 'b-o', label = 'train')\n",
    "plt.semilogx(numNeurons_arr, test_err, 'r-o', label = 'test')\n",
    "plt.xlim([np.max(numNeurons_arr), np.min(numNeurons_arr)])\n",
    "plt.title('Error vs. neurons')\n",
    "plt.xlabel('neurons number')\n",
    "plt.ylabel('error')\n",
    "plt.legend()\n",
    "pass"
   ]
  },
  {
   "cell_type": "markdown",
   "metadata": {},
   "source": [
    "#### Минимальное значение ошибки"
   ]
  },
  {
   "cell_type": "code",
   "execution_count": 69,
   "metadata": {},
   "outputs": [
    {
     "name": "stdout",
     "output_type": "stream",
     "text": [
      "0.36958637469586375 0.371416406471757\n"
     ]
    }
   ],
   "source": [
    "min_train_err = np.min(train_err)\n",
    "min_test_err = np.min(test_err)\n",
    "print(min_train_err, min_test_err)"
   ]
  },
  {
   "cell_type": "markdown",
   "metadata": {},
   "source": [
    "#### Оптимальное количество нейронов"
   ]
  },
  {
   "cell_type": "code",
   "execution_count": 70,
   "metadata": {},
   "outputs": [
    {
     "name": "stdout",
     "output_type": "stream",
     "text": [
      "300\n"
     ]
    }
   ],
   "source": [
    "neurons_opt = numNeurons_arr[test_err == min_test_err]\n",
    "neurons_opt = neurons_opt[0]\n",
    "print(neurons_opt)"
   ]
  },
  {
   "cell_type": "markdown",
   "metadata": {},
   "source": [
    "#### Можно заметить, что уменьшения ошибки не произошло"
   ]
  },
  {
   "cell_type": "markdown",
   "metadata": {},
   "source": [
    "### Классификатор при найденном оптимальном значении alpha\n",
    "Повторяем обучение классификаторас использованием найденного параметра регуляризации alpha"
   ]
  },
  {
   "cell_type": "code",
   "execution_count": 71,
   "metadata": {},
   "outputs": [
    {
     "name": "stdout",
     "output_type": "stream",
     "text": [
      "0.3698905109489051\n",
      "0.3717002554640931\n"
     ]
    }
   ],
   "source": [
    "mlp_model = MLPClassifier(alpha = alpha_opt, hidden_layer_sizes = (100,),\n",
    "                          solver = 'lbfgs', activation = 'logistic', random_state = 42)\n",
    "mlp_model.fit(X_train, y_train)\n",
    "\n",
    "y_train_pred = mlp_model.predict(X_train)\n",
    "y_test_pred = mlp_model.predict(X_test)\n",
    "print(np.mean(y_train != y_train_pred))\n",
    "print(np.mean(y_test != y_test_pred))"
   ]
  },
  {
   "cell_type": "markdown",
   "metadata": {},
   "source": [
    "В результате обучения получаем,что ошибка на тестовой выборке по-прежнему незначительно превосходит ошибку на тренировочной выборке. Можно сделать вывод,что даже с использованием оптимального значения параметра alpha наблюдается небольшое переобучение."
   ]
  },
  {
   "cell_type": "markdown",
   "metadata": {},
   "source": [
    "## Метрики качества\n",
    "\n",
    "### Матрица рассогласования:"
   ]
  },
  {
   "cell_type": "code",
   "execution_count": 72,
   "metadata": {},
   "outputs": [
    {
     "name": "stdout",
     "output_type": "stream",
     "text": [
      "[[   0    0    0    0    0]\n",
      " [   5    4    4    0    1]\n",
      " [ 229  447  520   42    6]\n",
      " [   0    0    0    0    0]\n",
      " [   5   31  374 1475 3903]]\n"
     ]
    }
   ],
   "source": [
    "from sklearn.metrics import confusion_matrix\n",
    "print(confusion_matrix(y_test_pred, y_test))"
   ]
  },
  {
   "cell_type": "markdown",
   "metadata": {},
   "source": [
    "Как и при использовании метода K ближайших соседей, большая часть ошибок наблюдается с неправильным определением рейтинга 4 и 5, а также 2 и 3. Грубых ошибок наблюдается не так много.\n",
    "\n",
    "### Другие метрики качества:"
   ]
  },
  {
   "cell_type": "code",
   "execution_count": 73,
   "metadata": {},
   "outputs": [
    {
     "name": "stdout",
     "output_type": "stream",
     "text": [
      "              precision    recall  f1-score   support\n",
      "\n",
      "           1       0.00      0.00      0.00       239\n",
      "           2       0.29      0.01      0.02       482\n",
      "           3       0.42      0.58      0.49       898\n",
      "           4       0.00      0.00      0.00      1517\n",
      "           5       0.67      1.00      0.80      3910\n",
      "\n",
      "   micro avg       0.63      0.63      0.63      7046\n",
      "   macro avg       0.28      0.32      0.26      7046\n",
      "weighted avg       0.45      0.63      0.51      7046\n",
      "\n"
     ]
    },
    {
     "name": "stderr",
     "output_type": "stream",
     "text": [
      "c:\\users\\vika\\appdata\\local\\programs\\python\\python37-32\\lib\\site-packages\\sklearn\\metrics\\classification.py:1143: UndefinedMetricWarning: Precision and F-score are ill-defined and being set to 0.0 in labels with no predicted samples.\n",
      "  'precision', 'predicted', average, warn_for)\n"
     ]
    }
   ],
   "source": [
    "from sklearn.metrics import classification_report\n",
    "print(classification_report(y_test, y_test_pred))"
   ]
  },
  {
   "cell_type": "markdown",
   "metadata": {},
   "source": [
    "## Другие алгоритмы обучения\n",
    "### Попробуем обучить на данных следующие алгоритмы:\n",
    "#### Random Forest\n",
    "#### Extremely Random Forest\n",
    "#### Adaboost\n",
    "#### Gradient boosted trees\n",
    "Также построим графики зависимости ошибки (на тестовой и обучающейся выборках, а также oob-ошибку) от количества используемых деревьев."
   ]
  },
  {
   "cell_type": "markdown",
   "metadata": {},
   "source": [
    "## Random Forest\n",
    "Random forest (с англ. — «случайный лес») — алгоритм машинного обучения, заключающийся в использовании комитета (ансамбля) решающих деревьев. Основная идея заключается в использовании большого ансамбля решающих деревьев, каждое из которых само по себе даёт очень невысокое качество классификации, но за счёт их большого количества результат получается хорошим."
   ]
  },
  {
   "cell_type": "code",
   "execution_count": 74,
   "metadata": {},
   "outputs": [
    {
     "name": "stdout",
     "output_type": "stream",
     "text": [
      "0.247323600973236 0.4162645472608572\n"
     ]
    }
   ],
   "source": [
    "from sklearn import ensemble\n",
    "rf = ensemble.RandomForestClassifier(n_estimators = 1000)\n",
    "rf.fit(X_train, y_train)\n",
    "\n",
    "err_train = np.mean(y_train != rf.predict(X_train))\n",
    "err_test  = np.mean(y_test  != rf.predict(X_test))\n",
    "\n",
    "print(err_train, err_test)"
   ]
  },
  {
   "cell_type": "markdown",
   "metadata": {},
   "source": [
    "Ошибка на тренировочной выборке в разы меньше ошибки на тестовой выборке, значит наблюдается переобучение.\n",
    "\n",
    " Построим график зависимости ошибки на обучающей и тестовой выборке от количества используемых деревьев, а также ошибки out-of-bag(oob)"
   ]
  },
  {
   "cell_type": "code",
   "execution_count": 75,
   "metadata": {},
   "outputs": [
    {
     "name": "stderr",
     "output_type": "stream",
     "text": [
      "c:\\users\\vika\\appdata\\local\\programs\\python\\python37-32\\lib\\site-packages\\sklearn\\ensemble\\forest.py:458: UserWarning: Some inputs do not have OOB scores. This probably means too few trees were used to compute any reliable oob estimates.\n",
      "  warn(\"Some inputs do not have OOB scores. \"\n",
      "c:\\users\\vika\\appdata\\local\\programs\\python\\python37-32\\lib\\site-packages\\sklearn\\ensemble\\forest.py:463: RuntimeWarning: invalid value encountered in true_divide\n",
      "  predictions[k].sum(axis=1)[:, np.newaxis])\n",
      "c:\\users\\vika\\appdata\\local\\programs\\python\\python37-32\\lib\\site-packages\\sklearn\\ensemble\\forest.py:458: UserWarning: Some inputs do not have OOB scores. This probably means too few trees were used to compute any reliable oob estimates.\n",
      "  warn(\"Some inputs do not have OOB scores. \"\n",
      "c:\\users\\vika\\appdata\\local\\programs\\python\\python37-32\\lib\\site-packages\\sklearn\\ensemble\\forest.py:463: RuntimeWarning: invalid value encountered in true_divide\n",
      "  predictions[k].sum(axis=1)[:, np.newaxis])\n",
      "c:\\users\\vika\\appdata\\local\\programs\\python\\python37-32\\lib\\site-packages\\sklearn\\ensemble\\forest.py:458: UserWarning: Some inputs do not have OOB scores. This probably means too few trees were used to compute any reliable oob estimates.\n",
      "  warn(\"Some inputs do not have OOB scores. \"\n",
      "c:\\users\\vika\\appdata\\local\\programs\\python\\python37-32\\lib\\site-packages\\sklearn\\ensemble\\forest.py:463: RuntimeWarning: invalid value encountered in true_divide\n",
      "  predictions[k].sum(axis=1)[:, np.newaxis])\n",
      "c:\\users\\vika\\appdata\\local\\programs\\python\\python37-32\\lib\\site-packages\\sklearn\\ensemble\\forest.py:458: UserWarning: Some inputs do not have OOB scores. This probably means too few trees were used to compute any reliable oob estimates.\n",
      "  warn(\"Some inputs do not have OOB scores. \"\n",
      "c:\\users\\vika\\appdata\\local\\programs\\python\\python37-32\\lib\\site-packages\\sklearn\\ensemble\\forest.py:463: RuntimeWarning: invalid value encountered in true_divide\n",
      "  predictions[k].sum(axis=1)[:, np.newaxis])\n",
      "c:\\users\\vika\\appdata\\local\\programs\\python\\python37-32\\lib\\site-packages\\sklearn\\ensemble\\forest.py:458: UserWarning: Some inputs do not have OOB scores. This probably means too few trees were used to compute any reliable oob estimates.\n",
      "  warn(\"Some inputs do not have OOB scores. \"\n",
      "c:\\users\\vika\\appdata\\local\\programs\\python\\python37-32\\lib\\site-packages\\sklearn\\ensemble\\forest.py:463: RuntimeWarning: invalid value encountered in true_divide\n",
      "  predictions[k].sum(axis=1)[:, np.newaxis])\n",
      "c:\\users\\vika\\appdata\\local\\programs\\python\\python37-32\\lib\\site-packages\\sklearn\\ensemble\\forest.py:458: UserWarning: Some inputs do not have OOB scores. This probably means too few trees were used to compute any reliable oob estimates.\n",
      "  warn(\"Some inputs do not have OOB scores. \"\n",
      "c:\\users\\vika\\appdata\\local\\programs\\python\\python37-32\\lib\\site-packages\\sklearn\\ensemble\\forest.py:463: RuntimeWarning: invalid value encountered in true_divide\n",
      "  predictions[k].sum(axis=1)[:, np.newaxis])\n",
      "c:\\users\\vika\\appdata\\local\\programs\\python\\python37-32\\lib\\site-packages\\sklearn\\ensemble\\forest.py:458: UserWarning: Some inputs do not have OOB scores. This probably means too few trees were used to compute any reliable oob estimates.\n",
      "  warn(\"Some inputs do not have OOB scores. \"\n",
      "c:\\users\\vika\\appdata\\local\\programs\\python\\python37-32\\lib\\site-packages\\sklearn\\ensemble\\forest.py:463: RuntimeWarning: invalid value encountered in true_divide\n",
      "  predictions[k].sum(axis=1)[:, np.newaxis])\n",
      "c:\\users\\vika\\appdata\\local\\programs\\python\\python37-32\\lib\\site-packages\\sklearn\\ensemble\\forest.py:458: UserWarning: Some inputs do not have OOB scores. This probably means too few trees were used to compute any reliable oob estimates.\n",
      "  warn(\"Some inputs do not have OOB scores. \"\n",
      "c:\\users\\vika\\appdata\\local\\programs\\python\\python37-32\\lib\\site-packages\\sklearn\\ensemble\\forest.py:463: RuntimeWarning: invalid value encountered in true_divide\n",
      "  predictions[k].sum(axis=1)[:, np.newaxis])\n",
      "c:\\users\\vika\\appdata\\local\\programs\\python\\python37-32\\lib\\site-packages\\sklearn\\ensemble\\forest.py:458: UserWarning: Some inputs do not have OOB scores. This probably means too few trees were used to compute any reliable oob estimates.\n",
      "  warn(\"Some inputs do not have OOB scores. \"\n",
      "c:\\users\\vika\\appdata\\local\\programs\\python\\python37-32\\lib\\site-packages\\sklearn\\ensemble\\forest.py:463: RuntimeWarning: invalid value encountered in true_divide\n",
      "  predictions[k].sum(axis=1)[:, np.newaxis])\n",
      "c:\\users\\vika\\appdata\\local\\programs\\python\\python37-32\\lib\\site-packages\\sklearn\\ensemble\\forest.py:458: UserWarning: Some inputs do not have OOB scores. This probably means too few trees were used to compute any reliable oob estimates.\n",
      "  warn(\"Some inputs do not have OOB scores. \"\n",
      "c:\\users\\vika\\appdata\\local\\programs\\python\\python37-32\\lib\\site-packages\\sklearn\\ensemble\\forest.py:463: RuntimeWarning: invalid value encountered in true_divide\n",
      "  predictions[k].sum(axis=1)[:, np.newaxis])\n",
      "c:\\users\\vika\\appdata\\local\\programs\\python\\python37-32\\lib\\site-packages\\sklearn\\ensemble\\forest.py:458: UserWarning: Some inputs do not have OOB scores. This probably means too few trees were used to compute any reliable oob estimates.\n",
      "  warn(\"Some inputs do not have OOB scores. \"\n",
      "c:\\users\\vika\\appdata\\local\\programs\\python\\python37-32\\lib\\site-packages\\sklearn\\ensemble\\forest.py:463: RuntimeWarning: invalid value encountered in true_divide\n",
      "  predictions[k].sum(axis=1)[:, np.newaxis])\n",
      "c:\\users\\vika\\appdata\\local\\programs\\python\\python37-32\\lib\\site-packages\\sklearn\\ensemble\\forest.py:458: UserWarning: Some inputs do not have OOB scores. This probably means too few trees were used to compute any reliable oob estimates.\n",
      "  warn(\"Some inputs do not have OOB scores. \"\n",
      "c:\\users\\vika\\appdata\\local\\programs\\python\\python37-32\\lib\\site-packages\\sklearn\\ensemble\\forest.py:463: RuntimeWarning: invalid value encountered in true_divide\n",
      "  predictions[k].sum(axis=1)[:, np.newaxis])\n",
      "c:\\users\\vika\\appdata\\local\\programs\\python\\python37-32\\lib\\site-packages\\sklearn\\ensemble\\forest.py:458: UserWarning: Some inputs do not have OOB scores. This probably means too few trees were used to compute any reliable oob estimates.\n",
      "  warn(\"Some inputs do not have OOB scores. \"\n",
      "c:\\users\\vika\\appdata\\local\\programs\\python\\python37-32\\lib\\site-packages\\sklearn\\ensemble\\forest.py:463: RuntimeWarning: invalid value encountered in true_divide\n",
      "  predictions[k].sum(axis=1)[:, np.newaxis])\n"
     ]
    },
    {
     "data": {
      "image/png": "[encoded data removed]",
      "text/plain": [
       "<Figure size 432x288 with 1 Axes>"
      ]
     },
     "metadata": {
      "needs_background": "light"
     },
     "output_type": "display_data"
    },
    {
     "data": {
      "image/png": "[encoded data removed]",
      "text/plain": [
       "<Figure size 432x288 with 1 Axes>"
      ]
     },
     "metadata": {
      "needs_background": "light"
     },
     "output_type": "display_data"
    }
   ],
   "source": [
    "tree_arr = np.logspace(0, 3, 30)\n",
    "err_test = []\n",
    "err_train = []\n",
    "oob_scores = []\n",
    "for tree in tree_arr:\n",
    "    rf = ensemble.RandomForestClassifier(n_estimators = int(tree),oob_score=True,random_state=42)\n",
    "    rf.fit(X_train, y_train)\n",
    "\n",
    "    y_train_pred = rf.predict(X_train)\n",
    "    y_test_pred = rf.predict(X_test)\n",
    "    err_train.append(np.mean(y_train.values.ravel() != y_train_pred))\n",
    "    err_test.append(np.mean(y_test.values.ravel() != y_test_pred))\n",
    "    oob_scores.append(rf.oob_score_) \n",
    "    \n",
    "plt.figure(1)\n",
    "plt.semilogx(tree_arr, err_test, 'b-o', label = 'test')\n",
    "plt.semilogx(tree_arr, err_train, 'r-o', label = 'train')\n",
    "plt.xlim([np.max(tree_arr), np.min(tree_arr)])\n",
    "plt.title('Error vs. Count of tree')\n",
    "plt.xlabel('count of tree')\n",
    "plt.ylabel('error')\n",
    "plt.legend()\n",
    "\n",
    "plt.figure(2)\n",
    "plt.semilogx(tree_arr, oob_scores, 'b-o', label = 'oob')\n",
    "plt.xlim([np.max(tree_arr), np.min(tree_arr)])\n",
    "plt.title('oob error vs. Count of tree')\n",
    "plt.xlabel('count of tree')\n",
    "plt.ylabel('oob error')\n",
    "plt.legend()\n",
    "pass"
   ]
  },
  {
   "cell_type": "markdown",
   "metadata": {},
   "source": [
    "Можно наблюдать, что мы имеем устойчивую ошибку около 0.45, т.е. вокруг неё все колеблется. Происходит постоянное переобучение."
   ]
  },
  {
   "cell_type": "code",
   "execution_count": 76,
   "metadata": {},
   "outputs": [
    {
     "name": "stdout",
     "output_type": "stream",
     "text": [
      "Среднее значение ошибки 0.4328602516794398\n",
      " Минимальное значение ошибки 0.41697416974169743\n"
     ]
    }
   ],
   "source": [
    "print('Среднее значение ошибки ' + str(np.mean(err_test)) + '\\n','Минимальное значение ошибки ' + str(np.min(err_test)))"
   ]
  },
  {
   "cell_type": "markdown",
   "metadata": {},
   "source": [
    "## Extremely Random Fores\n",
    "В сверхслучайных деревьях (Extremely Randomized Trees) больше случайности в том, как вычисляются разделения в узлах. Как и в случайных лесах, используется случайное подмножество возможных признаков, но вместо поиска наиболее оптимальных порогов, пороговые значения произвольно выбираются для каждого возможного признака, и наилучший из этих случайно генерируемых порогов выбирается как лучшее правило для разделения узла. Это обычно позволяет немного уменьшить дисперсию модели за счет несколько большего увеличения смещения."
   ]
  },
  {
   "cell_type": "code",
   "execution_count": 77,
   "metadata": {
    "scrolled": true
   },
   "outputs": [
    {
     "name": "stdout",
     "output_type": "stream",
     "text": [
      "0.247323600973236 0.4418109565711042\n"
     ]
    }
   ],
   "source": [
    "ert = ensemble.ExtraTreesClassifier(n_estimators = 100).fit(X_train, y_train)\n",
    "\n",
    "err_train = np.mean(y_train != ert.predict(X_train))\n",
    "err_test  = np.mean(y_test  != ert.predict(X_test))\n",
    "\n",
    "print(err_train, err_test)"
   ]
  },
  {
   "cell_type": "markdown",
   "metadata": {},
   "source": [
    "Нетрудно видеть,что снова наблюдается переобучение. Попробуем подобрать более подходящее число деревьев."
   ]
  },
  {
   "cell_type": "code",
   "execution_count": 78,
   "metadata": {},
   "outputs": [
    {
     "name": "stderr",
     "output_type": "stream",
     "text": [
      "c:\\users\\vika\\appdata\\local\\programs\\python\\python37-32\\lib\\site-packages\\sklearn\\ensemble\\forest.py:458: UserWarning: Some inputs do not have OOB scores. This probably means too few trees were used to compute any reliable oob estimates.\n",
      "  warn(\"Some inputs do not have OOB scores. \"\n",
      "c:\\users\\vika\\appdata\\local\\programs\\python\\python37-32\\lib\\site-packages\\sklearn\\ensemble\\forest.py:463: RuntimeWarning: invalid value encountered in true_divide\n",
      "  predictions[k].sum(axis=1)[:, np.newaxis])\n",
      "c:\\users\\vika\\appdata\\local\\programs\\python\\python37-32\\lib\\site-packages\\sklearn\\ensemble\\forest.py:458: UserWarning: Some inputs do not have OOB scores. This probably means too few trees were used to compute any reliable oob estimates.\n",
      "  warn(\"Some inputs do not have OOB scores. \"\n",
      "c:\\users\\vika\\appdata\\local\\programs\\python\\python37-32\\lib\\site-packages\\sklearn\\ensemble\\forest.py:463: RuntimeWarning: invalid value encountered in true_divide\n",
      "  predictions[k].sum(axis=1)[:, np.newaxis])\n",
      "c:\\users\\vika\\appdata\\local\\programs\\python\\python37-32\\lib\\site-packages\\sklearn\\ensemble\\forest.py:458: UserWarning: Some inputs do not have OOB scores. This probably means too few trees were used to compute any reliable oob estimates.\n",
      "  warn(\"Some inputs do not have OOB scores. \"\n",
      "c:\\users\\vika\\appdata\\local\\programs\\python\\python37-32\\lib\\site-packages\\sklearn\\ensemble\\forest.py:463: RuntimeWarning: invalid value encountered in true_divide\n",
      "  predictions[k].sum(axis=1)[:, np.newaxis])\n",
      "c:\\users\\vika\\appdata\\local\\programs\\python\\python37-32\\lib\\site-packages\\sklearn\\ensemble\\forest.py:458: UserWarning: Some inputs do not have OOB scores. This probably means too few trees were used to compute any reliable oob estimates.\n",
      "  warn(\"Some inputs do not have OOB scores. \"\n",
      "c:\\users\\vika\\appdata\\local\\programs\\python\\python37-32\\lib\\site-packages\\sklearn\\ensemble\\forest.py:463: RuntimeWarning: invalid value encountered in true_divide\n",
      "  predictions[k].sum(axis=1)[:, np.newaxis])\n",
      "c:\\users\\vika\\appdata\\local\\programs\\python\\python37-32\\lib\\site-packages\\sklearn\\ensemble\\forest.py:458: UserWarning: Some inputs do not have OOB scores. This probably means too few trees were used to compute any reliable oob estimates.\n",
      "  warn(\"Some inputs do not have OOB scores. \"\n",
      "c:\\users\\vika\\appdata\\local\\programs\\python\\python37-32\\lib\\site-packages\\sklearn\\ensemble\\forest.py:463: RuntimeWarning: invalid value encountered in true_divide\n",
      "  predictions[k].sum(axis=1)[:, np.newaxis])\n",
      "c:\\users\\vika\\appdata\\local\\programs\\python\\python37-32\\lib\\site-packages\\sklearn\\ensemble\\forest.py:458: UserWarning: Some inputs do not have OOB scores. This probably means too few trees were used to compute any reliable oob estimates.\n",
      "  warn(\"Some inputs do not have OOB scores. \"\n",
      "c:\\users\\vika\\appdata\\local\\programs\\python\\python37-32\\lib\\site-packages\\sklearn\\ensemble\\forest.py:463: RuntimeWarning: invalid value encountered in true_divide\n",
      "  predictions[k].sum(axis=1)[:, np.newaxis])\n",
      "c:\\users\\vika\\appdata\\local\\programs\\python\\python37-32\\lib\\site-packages\\sklearn\\ensemble\\forest.py:458: UserWarning: Some inputs do not have OOB scores. This probably means too few trees were used to compute any reliable oob estimates.\n",
      "  warn(\"Some inputs do not have OOB scores. \"\n",
      "c:\\users\\vika\\appdata\\local\\programs\\python\\python37-32\\lib\\site-packages\\sklearn\\ensemble\\forest.py:463: RuntimeWarning: invalid value encountered in true_divide\n",
      "  predictions[k].sum(axis=1)[:, np.newaxis])\n",
      "c:\\users\\vika\\appdata\\local\\programs\\python\\python37-32\\lib\\site-packages\\sklearn\\ensemble\\forest.py:458: UserWarning: Some inputs do not have OOB scores. This probably means too few trees were used to compute any reliable oob estimates.\n",
      "  warn(\"Some inputs do not have OOB scores. \"\n",
      "c:\\users\\vika\\appdata\\local\\programs\\python\\python37-32\\lib\\site-packages\\sklearn\\ensemble\\forest.py:463: RuntimeWarning: invalid value encountered in true_divide\n",
      "  predictions[k].sum(axis=1)[:, np.newaxis])\n",
      "c:\\users\\vika\\appdata\\local\\programs\\python\\python37-32\\lib\\site-packages\\sklearn\\ensemble\\forest.py:458: UserWarning: Some inputs do not have OOB scores. This probably means too few trees were used to compute any reliable oob estimates.\n",
      "  warn(\"Some inputs do not have OOB scores. \"\n",
      "c:\\users\\vika\\appdata\\local\\programs\\python\\python37-32\\lib\\site-packages\\sklearn\\ensemble\\forest.py:463: RuntimeWarning: invalid value encountered in true_divide\n",
      "  predictions[k].sum(axis=1)[:, np.newaxis])\n",
      "c:\\users\\vika\\appdata\\local\\programs\\python\\python37-32\\lib\\site-packages\\sklearn\\ensemble\\forest.py:458: UserWarning: Some inputs do not have OOB scores. This probably means too few trees were used to compute any reliable oob estimates.\n",
      "  warn(\"Some inputs do not have OOB scores. \"\n",
      "c:\\users\\vika\\appdata\\local\\programs\\python\\python37-32\\lib\\site-packages\\sklearn\\ensemble\\forest.py:463: RuntimeWarning: invalid value encountered in true_divide\n",
      "  predictions[k].sum(axis=1)[:, np.newaxis])\n",
      "c:\\users\\vika\\appdata\\local\\programs\\python\\python37-32\\lib\\site-packages\\sklearn\\ensemble\\forest.py:458: UserWarning: Some inputs do not have OOB scores. This probably means too few trees were used to compute any reliable oob estimates.\n",
      "  warn(\"Some inputs do not have OOB scores. \"\n",
      "c:\\users\\vika\\appdata\\local\\programs\\python\\python37-32\\lib\\site-packages\\sklearn\\ensemble\\forest.py:463: RuntimeWarning: invalid value encountered in true_divide\n",
      "  predictions[k].sum(axis=1)[:, np.newaxis])\n",
      "c:\\users\\vika\\appdata\\local\\programs\\python\\python37-32\\lib\\site-packages\\sklearn\\ensemble\\forest.py:458: UserWarning: Some inputs do not have OOB scores. This probably means too few trees were used to compute any reliable oob estimates.\n",
      "  warn(\"Some inputs do not have OOB scores. \"\n",
      "c:\\users\\vika\\appdata\\local\\programs\\python\\python37-32\\lib\\site-packages\\sklearn\\ensemble\\forest.py:463: RuntimeWarning: invalid value encountered in true_divide\n",
      "  predictions[k].sum(axis=1)[:, np.newaxis])\n",
      "c:\\users\\vika\\appdata\\local\\programs\\python\\python37-32\\lib\\site-packages\\sklearn\\ensemble\\forest.py:458: UserWarning: Some inputs do not have OOB scores. This probably means too few trees were used to compute any reliable oob estimates.\n",
      "  warn(\"Some inputs do not have OOB scores. \"\n",
      "c:\\users\\vika\\appdata\\local\\programs\\python\\python37-32\\lib\\site-packages\\sklearn\\ensemble\\forest.py:463: RuntimeWarning: invalid value encountered in true_divide\n",
      "  predictions[k].sum(axis=1)[:, np.newaxis])\n"
     ]
    },
    {
     "data": {
      "image/png": "[encoded data removed]",
      "text/plain": [
       "<Figure size 432x288 with 1 Axes>"
      ]
     },
     "metadata": {
      "needs_background": "light"
     },
     "output_type": "display_data"
    },
    {
     "data": {
      "image/png": "[encoded data removed]",
      "text/plain": [
       "<Figure size 432x288 with 1 Axes>"
      ]
     },
     "metadata": {
      "needs_background": "light"
     },
     "output_type": "display_data"
    }
   ],
   "source": [
    "oob_scores = []\n",
    "tree_arr = np.logspace(0, 3, 30)\n",
    "err_test = []\n",
    "err_train = []\n",
    "for tree in tree_arr:\n",
    "    rf = ensemble.ExtraTreesClassifier(n_estimators = int(tree),oob_score=True,bootstrap=True,random_state=42)\n",
    "    rf.fit(X_train, y_train)\n",
    "\n",
    "    y_train_pred = rf.predict(X_train)\n",
    "    y_test_pred = rf.predict(X_test)\n",
    "    err_train.append(np.mean(y_train.values.ravel() != y_train_pred))\n",
    "    err_test.append(np.mean(y_test.values.ravel() != y_test_pred))\n",
    "    oob_scores.append(rf.oob_score_) \n",
    "    \n",
    "plt.figure(1)\n",
    "plt.semilogx(tree_arr, err_test, 'b-o', label = 'test')\n",
    "plt.semilogx(tree_arr, err_train, 'r-o', label = 'train')\n",
    "plt.xlim([np.max(tree_arr), np.min(tree_arr)])\n",
    "plt.title('Error vs. Count of tree')\n",
    "plt.xlabel('count of tree')\n",
    "plt.ylabel('error')\n",
    "plt.legend()\n",
    "\n",
    "plt.figure(2)\n",
    "plt.semilogx(tree_arr, oob_scores, 'b-o', label = 'oob')\n",
    "plt.xlim([np.max(tree_arr), np.min(tree_arr)])\n",
    "plt.title('oob error vs. Count of tree')\n",
    "plt.xlabel('count of tree')\n",
    "plt.ylabel('oob error')\n",
    "plt.legend()\n",
    "pass"
   ]
  },
  {
   "cell_type": "markdown",
   "metadata": {},
   "source": [
    "Как можно видеть, подбором числа деревьев особо не получилось улучшить результат. По-прежнему наблюдается сильное переобучение."
   ]
  },
  {
   "cell_type": "code",
   "execution_count": 79,
   "metadata": {},
   "outputs": [
    {
     "name": "stdout",
     "output_type": "stream",
     "text": [
      "Среднее значение ошибки 0.43128488977197466\n",
      " Минимальное значение ошибки 0.41427760431450467\n"
     ]
    }
   ],
   "source": [
    "print('Среднее значение ошибки ' + str(np.mean(err_test)) + '\\n',\n",
    "      'Минимальное значение ошибки ' + str(np.min(err_test)))"
   ]
  },
  {
   "cell_type": "markdown",
   "metadata": {},
   "source": [
    "## AdaBoost\n",
    "AdaBoost (сокращение от Adaptive Boosting) — алгоритм машинного обучения, который усиливает классификаторы, объединяя их в «комитет». AdaBoost является адаптивным в том смысле, что каждый следующий комитет классификаторов строится по объектам, неверно классифицированным предыдущими комитетами. AdaBoost чувствителен к шуму в данных и выбросам. Однако он менее подвержен переобучению по сравнению с другими алгоритмами машинного обучения.\n",
    "\n"
   ]
  },
  {
   "cell_type": "code",
   "execution_count": 80,
   "metadata": {},
   "outputs": [
    {
     "name": "stdout",
     "output_type": "stream",
     "text": [
      "0.46131386861313867 0.4609707635537894\n"
     ]
    }
   ],
   "source": [
    "ada = ensemble.AdaBoostClassifier(n_estimators = 1000)\n",
    "ada.fit(X_train, y_train)\n",
    "\n",
    "err_train = np.mean(y_train != ada.predict(X_train))\n",
    "err_test = np.mean(y_test != ada.predict(X_test))\n",
    "\n",
    "print(err_train, err_test)"
   ]
  },
  {
   "cell_type": "markdown",
   "metadata": {},
   "source": [
    "\n",
    "Ошибки на тестовой и на обучающей выборках близки,но достаточно велики. Попробуем подобрать параметры,чтобы уменьшить ошибку, а также посмотрим на графики ошибок в зависимости от числа деревьев."
   ]
  },
  {
   "cell_type": "code",
   "execution_count": 81,
   "metadata": {},
   "outputs": [
    {
     "data": {
      "image/png": "[encoded data removed]",
      "text/plain": [
       "<Figure size 432x288 with 1 Axes>"
      ]
     },
     "metadata": {
      "needs_background": "light"
     },
     "output_type": "display_data"
    }
   ],
   "source": [
    "tree_arr = np.logspace(0, 3, 30)\n",
    "err_test = []\n",
    "err_train = []\n",
    "for tree in tree_arr:\n",
    "    rf = ensemble.AdaBoostClassifier(n_estimators = int(tree))\n",
    "    rf.fit(X_train, y_train)\n",
    "\n",
    "    y_train_pred = rf.predict(X_train)\n",
    "    y_test_pred = rf.predict(X_test)\n",
    "    err_train.append(np.mean(y_train.values.ravel() != y_train_pred))\n",
    "    err_test.append(np.mean(y_test.values.ravel() != y_test_pred))   \n",
    "\n",
    "plt.semilogx(tree_arr, err_test, 'b-o', label = 'test')\n",
    "plt.semilogx(tree_arr, err_train, 'r-o', label = 'train')\n",
    "plt.xlim([np.max(tree_arr), np.min(tree_arr)])\n",
    "plt.title('Error vs. Count of tree')\n",
    "plt.xlabel('count of tree')\n",
    "plt.ylabel('error')\n",
    "plt.legend()\n",
    "pass"
   ]
  },
  {
   "cell_type": "markdown",
   "metadata": {},
   "source": [
    "В данном случае переобучения не наблюдается. Но точность по-прежнему недостаточно хорошая."
   ]
  },
  {
   "cell_type": "code",
   "execution_count": 82,
   "metadata": {},
   "outputs": [
    {
     "name": "stdout",
     "output_type": "stream",
     "text": [
      "Среднее значение ошибки 0.40341091872457185\n",
      " Минимальное значение ошибки 0.3717002554640931\n"
     ]
    }
   ],
   "source": [
    "print('Среднее значение ошибки ' + str(np.mean(err_test)) + '\\n',\n",
    "      'Минимальное значение ошибки ' + str(np.min(err_test)))"
   ]
  },
  {
   "cell_type": "markdown",
   "metadata": {},
   "source": [
    "## Gradient boosted trees\n",
    "Бустинг – создание ансамбля слабых моделей, путем их последовательного добавления к существующему набору. При этом каждая последующая модель уточняет прогноз всех предыдущих моделей. Основная идея – создание на каждом шаге модели, прогноз которой максимально коррелирует с отрицательным градиентом функции потерь существующего ансамбля моделей."
   ]
  },
  {
   "cell_type": "code",
   "execution_count": 83,
   "metadata": {},
   "outputs": [
    {
     "name": "stdout",
     "output_type": "stream",
     "text": [
      "0.32092457420924575 0.3827703661652001\n"
     ]
    }
   ],
   "source": [
    "gbt = ensemble.GradientBoostingClassifier(n_estimators = 1000)\n",
    "gbt.fit(X_train, y_train)\n",
    "\n",
    "err_train = np.mean(y_train != gbt.predict(X_train))\n",
    "err_test = np.mean(y_test != gbt.predict(X_test))\n",
    "\n",
    "print(err_train, err_test)"
   ]
  },
  {
   "cell_type": "markdown",
   "metadata": {},
   "source": [
    "\n",
    "Можем пронаблюдать небольшо переобучение. Попробуем подобрать удачное число деревьев."
   ]
  },
  {
   "cell_type": "code",
   "execution_count": 84,
   "metadata": {},
   "outputs": [
    {
     "data": {
      "image/png": "[encoded data removed]",
      "text/plain": [
       "<Figure size 432x288 with 1 Axes>"
      ]
     },
     "metadata": {
      "needs_background": "light"
     },
     "output_type": "display_data"
    }
   ],
   "source": [
    "tree_arr = np.logspace(0, 3, 30)\n",
    "err_test = []\n",
    "err_train = []\n",
    "for tree in tree_arr:\n",
    "    rf = ensemble.GradientBoostingClassifier(n_estimators = int(tree))\n",
    "    rf.fit(X_train, y_train)\n",
    "\n",
    "    y_train_pred = rf.predict(X_train)\n",
    "    y_test_pred = rf.predict(X_test)\n",
    "    err_train.append(np.mean(y_train.values.ravel() != y_train_pred))\n",
    "    err_test.append(np.mean(y_test.values.ravel() != y_test_pred))\n",
    "    \n",
    "plt.figure(1)\n",
    "plt.semilogx(tree_arr, err_test, 'b-o', label = 'test')\n",
    "plt.semilogx(tree_arr, err_train, 'r-o', label = 'train')\n",
    "plt.xlim([np.max(tree_arr), np.min(tree_arr)])\n",
    "plt.title('Error vs. Count of tree')\n",
    "plt.xlabel('count of tree')\n",
    "plt.ylabel('error')\n",
    "plt.legend()\n",
    "pass"
   ]
  },
  {
   "cell_type": "markdown",
   "metadata": {},
   "source": [
    "\n",
    "Нетрудно заметить, что переобучение становится больше и ошибка на тестовой выборке растет при увеличении числа деревьев. Можно заметить,что чем сложнее модель,тем больше преобучение."
   ]
  },
  {
   "cell_type": "code",
   "execution_count": 85,
   "metadata": {},
   "outputs": [
    {
     "name": "stdout",
     "output_type": "stream",
     "text": [
      "Среднее значение ошибки 0.38541016179392557\n",
      " Минимальное значение ошибки 0.3721260289525972\n"
     ]
    }
   ],
   "source": [
    "print('Среднее значение ошибки ' + str(np.mean(err_test)) + '\\n',\n",
    "      'Минимальное значение ошибки ' + str(np.min(err_test)))"
   ]
  },
  {
   "cell_type": "markdown",
   "metadata": {},
   "source": [
    "\n",
    "Многие методы показывают, что обладает переобучение. Наименьшую ошибку можно наблюдать на AdaBoost, она равняется 0.3717"
   ]
  },
  {
   "cell_type": "code",
   "execution_count": 86,
   "metadata": {},
   "outputs": [],
   "source": [
    "from sklearn import decomposition"
   ]
  },
  {
   "cell_type": "code",
   "execution_count": 88,
   "metadata": {},
   "outputs": [],
   "source": [
    "components_arr = [1,2,3,4,5,6,7,8,9,10,11,12,13,14,15,16,17,18,19,20,21,22,23]\n",
    "err_test = []\n",
    "err_train = []\n",
    "oob_err = []\n",
    "for components in components_arr:\n",
    "    pca = decomposition.PCA(n_components = components)\n",
    "    X_train_reduc = pca.fit_transform(X_train)\n",
    "    X_test_reduc = pca.transform(X_test)\n",
    "    ert = ensemble.ExtraTreesClassifier(n_estimators = 1000, oob_score=True, bootstrap=True)\n",
    "    ert.fit(X_train_reduc, y_train)\n",
    "    err_train.append(np.mean(y_train.values.ravel() != ert.predict(X_train_reduc)))\n",
    "    err_test.append(np.mean(y_test.values.ravel()  != ert.predict(X_test_reduc)))\n",
    "    oob_err.append(1 - ert.oob_score_)"
   ]
  },
  {
   "cell_type": "code",
   "execution_count": 89,
   "metadata": {},
   "outputs": [
    {
     "data": {
      "image/png": "[encoded data removed]",
      "text/plain": [
       "<Figure size 432x288 with 1 Axes>"
      ]
     },
     "metadata": {
      "needs_background": "light"
     },
     "output_type": "display_data"
    }
   ],
   "source": [
    "plt.plot(components_arr, err_train, 'b-o', label = 'train')\n",
    "plt.plot(components_arr, err_test, 'r-o', label = 'test')\n",
    "plt.plot(components_arr, oob_err, 'g-o', label = 'oob')\n",
    "plt.xlim([np.max(components_arr), np.min(components_arr)])\n",
    "plt.title('Error vs. number of components')\n",
    "plt.xlabel('components')\n",
    "plt.ylabel('error')\n",
    "plt.legend()\n",
    "pass"
   ]
  },
  {
   "cell_type": "code",
   "execution_count": 90,
   "metadata": {},
   "outputs": [
    {
     "name": "stdout",
     "output_type": "stream",
     "text": [
      "Обучающая: 0.247323600973236 \n",
      "Тестовая:  0.41342605733749643\n"
     ]
    }
   ],
   "source": [
    "print('Обучающая: ' + str(np.min(err_train)),\n",
    "      '\\nТестовая:  '  + str(np.min(err_test)))"
   ]
  },
  {
   "cell_type": "code",
   "execution_count": 91,
   "metadata": {},
   "outputs": [
    {
     "name": "stdout",
     "output_type": "stream",
     "text": [
      "14\n"
     ]
    }
   ],
   "source": [
    "print(err_test.index(np.min(err_test)) + 1)"
   ]
  },
  {
   "cell_type": "code",
   "execution_count": 93,
   "metadata": {},
   "outputs": [],
   "source": [
    "components_arr = [1,2,3,4,5,6,7,8,9,10,11,12,13,14,15,16,17,18,19,20,21,22,23]\n",
    "err_test = []\n",
    "err_train = []\n",
    "for components in components_arr:\n",
    "    pca = decomposition.PCA(n_components = components)\n",
    "    X_train_reduc = pca.fit_transform(X_train)\n",
    "    X_test_reduc = pca.transform(X_test)\n",
    "    ert = ensemble.AdaBoostClassifier(n_estimators = 10)\n",
    "    ert.fit(X_train_reduc, y_train)\n",
    "    err_train.append(np.mean(y_train.values.ravel() != ert.predict(X_train_reduc)))\n",
    "    err_test.append(np.mean(y_test.values.ravel()  != ert.predict(X_test_reduc)))\n"
   ]
  },
  {
   "cell_type": "code",
   "execution_count": 94,
   "metadata": {},
   "outputs": [
    {
     "data": {
      "image/png": "[encoded data removed]",
      "text/plain": [
       "<Figure size 432x288 with 1 Axes>"
      ]
     },
     "metadata": {
      "needs_background": "light"
     },
     "output_type": "display_data"
    }
   ],
   "source": [
    "plt.plot(components_arr, err_train, 'b-o', label = 'train')\n",
    "plt.plot(components_arr, err_test, 'r-o', label = 'test')\n",
    "plt.xlim([np.max(components_arr), np.min(components_arr)])\n",
    "plt.title('Error vs. number of components')\n",
    "plt.xlabel('components')\n",
    "plt.ylabel('error')\n",
    "plt.legend()\n",
    "pass"
   ]
  },
  {
   "cell_type": "code",
   "execution_count": 95,
   "metadata": {},
   "outputs": [
    {
     "name": "stdout",
     "output_type": "stream",
     "text": [
      "Обучающая: 0.3854622871046229 \n",
      "Тестовая:  0.386034629577065\n"
     ]
    }
   ],
   "source": [
    "print('Обучающая: ' + str(np.min(err_train)),\n",
    "      '\\nТестовая:  '  + str(np.min(err_test)))"
   ]
  },
  {
   "cell_type": "code",
   "execution_count": 96,
   "metadata": {},
   "outputs": [
    {
     "name": "stdout",
     "output_type": "stream",
     "text": [
      "3\n"
     ]
    }
   ],
   "source": [
    "print(err_test.index(np.min(err_test)) + 1)"
   ]
  },
  {
   "cell_type": "markdown",
   "metadata": {},
   "source": [
    "## Выводы\n",
    "#### Полученные ошибки на тестовой и тренировочной выборках являются достаточно большими, но, по большому счету, это объясняется тем фактом, что использовался реальный датасет, а не искусственно сгенерированные данные. К тому же выбранные данные содержат такие признаки, как рейтинг товара и рекомендация покупателя, которые являются исключительно субъективными характеристиками, потому что покупатель может не порекомендовать понравившийся ему товар и наоборот. Отсюда получаем проблему корректной обработки данных. Данная проблема может решаться введением дополнительных полей или отсеиванием вручную подозрительных данных в датасете по выставлению рейтинга и рекомендации.\n",
    "\n",
    "#### Обучение нейронной сети не позволило снизить ошибку, что можно объяснить природой данных в датасете. Возможно, введение дополнительной обработки текстовых признаковы поможет уменьшить ошибку.\n",
    "#### Для многих методов характерно переобучение. Мнимальное значение ошибки наблюдаем при применении AdaBoost и значение соответствует 0.372."
   ]
  },
  {
   "cell_type": "code",
   "execution_count": null,
   "metadata": {},
   "outputs": [],
   "source": []
  }
 ],
 "metadata": {
  "kernelspec": {
   "display_name": "Python 3",
   "language": "python",
   "name": "python3"
  },
  "language_info": {
   "codemirror_mode": {
    "name": "ipython",
    "version": 3
   },
   "file_extension": ".py",
   "mimetype": "text/x-python",
   "name": "python",
   "nbconvert_exporter": "python",
   "pygments_lexer": "ipython3",
   "version": "3.7.2"
  }
 },
 "nbformat": 4,
 "nbformat_minor": 1
}
